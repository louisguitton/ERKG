{
 "cells": [
  {
   "cell_type": "markdown",
   "id": "75e71976-4aa8-43d3-a12c-89fe8a64cd82",
   "metadata": {},
   "source": [
    "# ICIJ analysis: load Neo4j"
   ]
  },
  {
   "cell_type": "markdown",
   "id": "8ff268dd-175c-4495-8c56-202c7b3553f7",
   "metadata": {},
   "source": [
    "## Set up"
   ]
  },
  {
   "cell_type": "markdown",
   "id": "a8f9008b-16dd-451a-8b65-fdb0cfc60422",
   "metadata": {},
   "source": [
    "Load the Python dependencies."
   ]
  },
  {
   "cell_type": "code",
   "execution_count": 1,
   "id": "8438a9b9-0008-4c03-a0b1-01052a16f39b",
   "metadata": {
    "execution": {
     "iopub.execute_input": "2024-07-11T19:19:28.151768Z",
     "iopub.status.busy": "2024-07-11T19:19:28.151613Z",
     "iopub.status.idle": "2024-07-11T19:19:28.621358Z",
     "shell.execute_reply": "2024-07-11T19:19:28.621125Z",
     "shell.execute_reply.started": "2024-07-11T19:19:28.151753Z"
    }
   },
   "outputs": [],
   "source": [
    "import math\n",
    "import os\n",
    "import pathlib\n",
    "import typing\n",
    "\n",
    "from graphdatascience import GraphDataScience\n",
    "from icecream import ic\n",
    "from tqdm import tqdm\n",
    "import dotenv\n",
    "import neo4j\n",
    "import numpy as np\n",
    "import pandas as pd\n",
    "import watermark\n",
    "\n",
    "%load_ext watermark"
   ]
  },
  {
   "cell_type": "code",
   "execution_count": 2,
   "id": "88148b53-7d00-4aa4-ad24-3ac35af0c958",
   "metadata": {
    "execution": {
     "iopub.execute_input": "2024-07-11T19:19:28.621889Z",
     "iopub.status.busy": "2024-07-11T19:19:28.621776Z",
     "iopub.status.idle": "2024-07-11T19:19:28.634892Z",
     "shell.execute_reply": "2024-07-11T19:19:28.634538Z",
     "shell.execute_reply.started": "2024-07-11T19:19:28.621881Z"
    }
   },
   "outputs": [
    {
     "name": "stdout",
     "output_type": "stream",
     "text": [
      "Last updated: 2024-07-11T12:19:28.622339-07:00\n",
      "\n",
      "Python implementation: CPython\n",
      "Python version       : 3.11.9\n",
      "IPython version      : 8.26.0\n",
      "\n",
      "Compiler    : Clang 13.0.0 (clang-1300.0.29.30)\n",
      "OS          : Darwin\n",
      "Release     : 23.5.0\n",
      "Machine     : arm64\n",
      "Processor   : arm\n",
      "CPU cores   : 14\n",
      "Architecture: 64bit\n",
      "\n",
      "neo4j    : 5.22.0\n",
      "watermark: 2.4.3\n",
      "numpy    : 1.26.4\n",
      "pandas   : 2.2.2\n",
      "\n"
     ]
    }
   ],
   "source": [
    "%watermark\n",
    "%watermark --iversions"
   ]
  },
  {
   "cell_type": "markdown",
   "id": "cb9fcd10-bdd9-4b21-9062-0a808533da82",
   "metadata": {},
   "source": [
    "Establish a GDS connection to Neo4j."
   ]
  },
  {
   "cell_type": "code",
   "execution_count": 3,
   "id": "7eca743b-bae0-4210-b772-a2578dd50892",
   "metadata": {
    "execution": {
     "iopub.execute_input": "2024-07-11T19:19:28.635631Z",
     "iopub.status.busy": "2024-07-11T19:19:28.635525Z",
     "iopub.status.idle": "2024-07-11T19:19:28.681342Z",
     "shell.execute_reply": "2024-07-11T19:19:28.680890Z",
     "shell.execute_reply.started": "2024-07-11T19:19:28.635616Z"
    }
   },
   "outputs": [
    {
     "name": "stderr",
     "output_type": "stream",
     "text": [
      "Received notification from DBMS server: {severity: WARNING} {code: Neo.ClientNotification.Statement.FeatureDeprecationWarning} {category: DEPRECATION} {title: This feature is deprecated and will be removed in future versions.} {description: The query used a deprecated field from a procedure. ('advertisedListenAddress' returned by 'gds.debug.arrow' is deprecated.)} {position: line: 1, column: 1, offset: 0} for query: 'CALL gds.debug.arrow()'\n",
      "Received notification from DBMS server: {severity: WARNING} {code: Neo.ClientNotification.Statement.FeatureDeprecationWarning} {category: DEPRECATION} {title: This feature is deprecated and will be removed in future versions.} {description: The query used a deprecated field from a procedure. ('serverLocation' returned by 'gds.debug.arrow' is deprecated.)} {position: line: 1, column: 1, offset: 0} for query: 'CALL gds.debug.arrow()'\n"
     ]
    }
   ],
   "source": [
    "dotenv.load_dotenv(dotenv.find_dotenv())\n",
    "\n",
    "bolt_uri: str = os.environ.get(\"NEO4J_BOLT\")\n",
    "database: str = os.environ.get(\"NEO4J_DBMS\")\n",
    "username: str = os.environ.get(\"NEO4J_USER\")\n",
    "password: str = os.environ.get(\"NEO4J_PASS\")\n",
    "\n",
    "gds:GraphDataScience = GraphDataScience(\n",
    "    bolt_uri,\n",
    "    auth = ( username, password, ),\n",
    "    database = database,\n",
    "    aura_ds = False,\n",
    ")"
   ]
  },
  {
   "cell_type": "markdown",
   "id": "001c2e74-07c2-477f-9590-f149672c41a3",
   "metadata": {},
   "source": [
    "Define a function to load \"chunked\" Pandas dataframes into Neo4j using mini-batch."
   ]
  },
  {
   "cell_type": "code",
   "execution_count": 4,
   "id": "e29c992b-3f4f-4d4e-bc63-84e94da4b0e3",
   "metadata": {
    "execution": {
     "iopub.execute_input": "2024-07-11T19:19:28.682084Z",
     "iopub.status.busy": "2024-07-11T19:19:28.681876Z",
     "iopub.status.idle": "2024-07-11T19:19:28.684429Z",
     "shell.execute_reply": "2024-07-11T19:19:28.684186Z",
     "shell.execute_reply.started": "2024-07-11T19:19:28.682072Z"
    }
   },
   "outputs": [],
   "source": [
    "MAX_ROWS: int = 25000\n",
    "\n",
    "def load_neo4j_df (\n",
    "    df: pd.DataFrame,\n",
    "    query: str,\n",
    "    ) -> None:\n",
    "    n_splits: int = math.ceil(len(df) / MAX_ROWS)\n",
    "\n",
    "    for df_chunk in tqdm(np.array_split(df, n_splits), desc = \"chunks\"):\n",
    "        gds.run_cypher(\n",
    "            query,\n",
    "            {\"rows\": df_chunk.to_dict(orient = \"records\")},\n",
    "        )"
   ]
  },
  {
   "cell_type": "markdown",
   "id": "6d258156-52f9-41ec-bf23-ede0bfcaaf1a",
   "metadata": {},
   "source": [
    "## Schema definitions"
   ]
  },
  {
   "cell_type": "code",
   "execution_count": 5,
   "id": "eb378237-04d1-4f18-8182-e041124128de",
   "metadata": {
    "execution": {
     "iopub.execute_input": "2024-07-11T19:19:28.684840Z",
     "iopub.status.busy": "2024-07-11T19:19:28.684768Z",
     "iopub.status.idle": "2024-07-11T19:19:28.686761Z",
     "shell.execute_reply": "2024-07-11T19:19:28.686441Z",
     "shell.execute_reply.started": "2024-07-11T19:19:28.684833Z"
    }
   },
   "outputs": [],
   "source": [
    "TEMP_DIR: pathlib.Path = pathlib.Path(\"temp\")"
   ]
  },
  {
   "cell_type": "code",
   "execution_count": 6,
   "id": "783e36e8-f418-460c-abb3-ffdef6d1fc45",
   "metadata": {
    "execution": {
     "iopub.execute_input": "2024-07-11T19:19:28.688676Z",
     "iopub.status.busy": "2024-07-11T19:19:28.688575Z",
     "iopub.status.idle": "2024-07-11T19:19:31.654875Z",
     "shell.execute_reply": "2024-07-11T19:19:31.654335Z",
     "shell.execute_reply.started": "2024-07-11T19:19:28.688669Z"
    }
   },
   "outputs": [
    {
     "data": {
      "text/html": [
       "<div>\n",
       "<style scoped>\n",
       "    .dataframe tbody tr th:only-of-type {\n",
       "        vertical-align: middle;\n",
       "    }\n",
       "\n",
       "    .dataframe tbody tr th {\n",
       "        vertical-align: top;\n",
       "    }\n",
       "\n",
       "    .dataframe thead th {\n",
       "        text-align: right;\n",
       "    }\n",
       "</style>\n",
       "<table border=\"1\" class=\"dataframe\">\n",
       "  <thead>\n",
       "    <tr style=\"text-align: right;\">\n",
       "      <th></th>\n",
       "    </tr>\n",
       "  </thead>\n",
       "  <tbody>\n",
       "  </tbody>\n",
       "</table>\n",
       "</div>"
      ],
      "text/plain": [
       "Empty DataFrame\n",
       "Columns: []\n",
       "Index: []"
      ]
     },
     "execution_count": 6,
     "metadata": {},
     "output_type": "execute_result"
    }
   ],
   "source": [
    "gds.run_cypher(\"\"\"\n",
    "DROP CONSTRAINT `entity_node_key` IF EXISTS\n",
    "\"\"\")\n",
    "\n",
    "gds.run_cypher(\"\"\"\n",
    "DROP INDEX `entity_node_id` IF EXISTS\n",
    "\"\"\")\n",
    "\n",
    "gds.run_cypher(\"\"\"\n",
    "DROP CONSTRAINT `location_node_key` IF EXISTS\n",
    "\"\"\")\n",
    "\n",
    "gds.run_cypher(\"\"\"\n",
    "DROP INDEX `location_node_id` IF EXISTS\n",
    "\"\"\")\n",
    "\n",
    "gds.run_cypher(\"\"\"\n",
    "CREATE CONSTRAINT `entity_node_key` IF NOT EXISTS\n",
    "  FOR (e:Entity)\n",
    "  REQUIRE e.node_id IS NODE KEY\n",
    "\"\"\")\n",
    "\n",
    "gds.run_cypher(\"\"\"\n",
    "CREATE INDEX entity_node_id IF NOT EXISTS\n",
    "  FOR (e:Entity) ON (e.node_id)\n",
    "\"\"\")\n",
    "\n",
    "gds.run_cypher(\"\"\"\n",
    "CREATE CONSTRAINT `location_node_key` IF NOT EXISTS\n",
    "  FOR (l:Location)\n",
    "  REQUIRE l.node_id IS NODE KEY\n",
    "\"\"\")\n",
    "\n",
    "gds.run_cypher(\"\"\"\n",
    "CREATE INDEX location_node_id IF NOT EXISTS\n",
    "  FOR (l:Location) ON (l.node_id)\n",
    "\"\"\")"
   ]
  },
  {
   "cell_type": "markdown",
   "id": "f282f6b8-a569-422c-8551-cde82aa48857",
   "metadata": {},
   "source": [
    "## Load data"
   ]
  },
  {
   "cell_type": "markdown",
   "id": "11ebffbc-aebc-4fd8-a419-f35ec4bc5c76",
   "metadata": {},
   "source": [
    "### `Entity` nodes"
   ]
  },
  {
   "cell_type": "code",
   "execution_count": 7,
   "id": "26fcedb4-38ce-4fe6-acf5-d4f84a6de1d1",
   "metadata": {
    "execution": {
     "iopub.execute_input": "2024-07-11T19:19:31.656138Z",
     "iopub.status.busy": "2024-07-11T19:19:31.655744Z",
     "iopub.status.idle": "2024-07-11T19:19:34.580481Z",
     "shell.execute_reply": "2024-07-11T19:19:34.580194Z",
     "shell.execute_reply.started": "2024-07-11T19:19:31.656113Z"
    }
   },
   "outputs": [
    {
     "data": {
      "text/html": [
       "<div>\n",
       "<style scoped>\n",
       "    .dataframe tbody tr th:only-of-type {\n",
       "        vertical-align: middle;\n",
       "    }\n",
       "\n",
       "    .dataframe tbody tr th {\n",
       "        vertical-align: top;\n",
       "    }\n",
       "\n",
       "    .dataframe thead th {\n",
       "        text-align: right;\n",
       "    }\n",
       "</style>\n",
       "<table border=\"1\" class=\"dataframe\">\n",
       "  <thead>\n",
       "    <tr style=\"text-align: right;\">\n",
       "      <th></th>\n",
       "      <th>node_id</th>\n",
       "      <th>role</th>\n",
       "      <th>name</th>\n",
       "      <th>original_name</th>\n",
       "      <th>former_name</th>\n",
       "      <th>jurisdiction</th>\n",
       "      <th>jurisdiction_description</th>\n",
       "      <th>company_type</th>\n",
       "      <th>address</th>\n",
       "      <th>internal_id</th>\n",
       "      <th>...</th>\n",
       "      <th>dorm_date</th>\n",
       "      <th>status</th>\n",
       "      <th>service_provider</th>\n",
       "      <th>ibcRUC</th>\n",
       "      <th>country_codes</th>\n",
       "      <th>countries</th>\n",
       "      <th>sourceID</th>\n",
       "      <th>valid_until</th>\n",
       "      <th>note</th>\n",
       "      <th>vague</th>\n",
       "    </tr>\n",
       "  </thead>\n",
       "  <tbody>\n",
       "    <tr>\n",
       "      <th>0</th>\n",
       "      <td>10000001</td>\n",
       "      <td>Entity</td>\n",
       "      <td>TIANSHENG INDUSTRY AND TRADING CO., LTD.</td>\n",
       "      <td>TIANSHENG INDUSTRY AND TRADING CO., LTD.</td>\n",
       "      <td>NaN</td>\n",
       "      <td>SAM</td>\n",
       "      <td>Samoa</td>\n",
       "      <td>NaN</td>\n",
       "      <td>ORION HOUSE SERVICES (HK) LIMITED ROOM 1401; 1...</td>\n",
       "      <td>1001256.0</td>\n",
       "      <td>...</td>\n",
       "      <td>NaN</td>\n",
       "      <td>Defaulted</td>\n",
       "      <td>Mossack Fonseca</td>\n",
       "      <td>25221</td>\n",
       "      <td>HKG</td>\n",
       "      <td>Hong Kong</td>\n",
       "      <td>Panama Papers</td>\n",
       "      <td>The Panama Papers data is current through 2015</td>\n",
       "      <td>NaN</td>\n",
       "      <td>False</td>\n",
       "    </tr>\n",
       "    <tr>\n",
       "      <th>1</th>\n",
       "      <td>10000002</td>\n",
       "      <td>Entity</td>\n",
       "      <td>NINGBO SUNRISE ENTERPRISES UNITED CO., LTD.</td>\n",
       "      <td>NINGBO SUNRISE ENTERPRISES UNITED CO., LTD.</td>\n",
       "      <td>NaN</td>\n",
       "      <td>SAM</td>\n",
       "      <td>Samoa</td>\n",
       "      <td>NaN</td>\n",
       "      <td>ORION HOUSE SERVICES (HK) LIMITED ROOM 1401; 1...</td>\n",
       "      <td>1001263.0</td>\n",
       "      <td>...</td>\n",
       "      <td>NaN</td>\n",
       "      <td>Defaulted</td>\n",
       "      <td>Mossack Fonseca</td>\n",
       "      <td>25249</td>\n",
       "      <td>HKG</td>\n",
       "      <td>Hong Kong</td>\n",
       "      <td>Panama Papers</td>\n",
       "      <td>The Panama Papers data is current through 2015</td>\n",
       "      <td>NaN</td>\n",
       "      <td>False</td>\n",
       "    </tr>\n",
       "    <tr>\n",
       "      <th>2</th>\n",
       "      <td>10000003</td>\n",
       "      <td>Entity</td>\n",
       "      <td>HOTFOCUS CO., LTD.</td>\n",
       "      <td>HOTFOCUS CO., LTD.</td>\n",
       "      <td>NaN</td>\n",
       "      <td>SAM</td>\n",
       "      <td>Samoa</td>\n",
       "      <td>NaN</td>\n",
       "      <td>ORION HOUSE SERVICES (HK) LIMITED ROOM 1401; 1...</td>\n",
       "      <td>1000896.0</td>\n",
       "      <td>...</td>\n",
       "      <td>NaN</td>\n",
       "      <td>Defaulted</td>\n",
       "      <td>Mossack Fonseca</td>\n",
       "      <td>24138</td>\n",
       "      <td>HKG</td>\n",
       "      <td>Hong Kong</td>\n",
       "      <td>Panama Papers</td>\n",
       "      <td>The Panama Papers data is current through 2015</td>\n",
       "      <td>NaN</td>\n",
       "      <td>False</td>\n",
       "    </tr>\n",
       "  </tbody>\n",
       "</table>\n",
       "<p>3 rows × 23 columns</p>\n",
       "</div>"
      ],
      "text/plain": [
       "    node_id    role                                         name  \\\n",
       "0  10000001  Entity     TIANSHENG INDUSTRY AND TRADING CO., LTD.   \n",
       "1  10000002  Entity  NINGBO SUNRISE ENTERPRISES UNITED CO., LTD.   \n",
       "2  10000003  Entity                           HOTFOCUS CO., LTD.   \n",
       "\n",
       "                                 original_name former_name jurisdiction  \\\n",
       "0     TIANSHENG INDUSTRY AND TRADING CO., LTD.         NaN          SAM   \n",
       "1  NINGBO SUNRISE ENTERPRISES UNITED CO., LTD.         NaN          SAM   \n",
       "2                           HOTFOCUS CO., LTD.         NaN          SAM   \n",
       "\n",
       "  jurisdiction_description company_type  \\\n",
       "0                    Samoa          NaN   \n",
       "1                    Samoa          NaN   \n",
       "2                    Samoa          NaN   \n",
       "\n",
       "                                             address internal_id  ...  \\\n",
       "0  ORION HOUSE SERVICES (HK) LIMITED ROOM 1401; 1...   1001256.0  ...   \n",
       "1  ORION HOUSE SERVICES (HK) LIMITED ROOM 1401; 1...   1001263.0  ...   \n",
       "2  ORION HOUSE SERVICES (HK) LIMITED ROOM 1401; 1...   1000896.0  ...   \n",
       "\n",
       "  dorm_date     status service_provider ibcRUC country_codes  countries  \\\n",
       "0       NaN  Defaulted  Mossack Fonseca  25221           HKG  Hong Kong   \n",
       "1       NaN  Defaulted  Mossack Fonseca  25249           HKG  Hong Kong   \n",
       "2       NaN  Defaulted  Mossack Fonseca  24138           HKG  Hong Kong   \n",
       "\n",
       "        sourceID                                     valid_until note  vague  \n",
       "0  Panama Papers  The Panama Papers data is current through 2015  NaN  False  \n",
       "1  Panama Papers  The Panama Papers data is current through 2015  NaN  False  \n",
       "2  Panama Papers  The Panama Papers data is current through 2015  NaN  False  \n",
       "\n",
       "[3 rows x 23 columns]"
      ]
     },
     "execution_count": 7,
     "metadata": {},
     "output_type": "execute_result"
    }
   ],
   "source": [
    "data_file: pathlib.Path = TEMP_DIR / \"entity.all.csv\"\n",
    "\n",
    "df: pd.DataFrame = pd.read_csv(\n",
    "    data_file,\n",
    "    header = 0,\n",
    "    low_memory = False,\n",
    ")\n",
    "\n",
    "df.head(3)"
   ]
  },
  {
   "cell_type": "code",
   "execution_count": 8,
   "id": "88b84901-cc5c-4db5-adf1-e03e83ee3abb",
   "metadata": {
    "execution": {
     "iopub.execute_input": "2024-07-11T19:19:34.581178Z",
     "iopub.status.busy": "2024-07-11T19:19:34.581077Z",
     "iopub.status.idle": "2024-07-11T19:19:34.583684Z",
     "shell.execute_reply": "2024-07-11T19:19:34.583462Z",
     "shell.execute_reply.started": "2024-07-11T19:19:34.581169Z"
    }
   },
   "outputs": [
    {
     "data": {
      "text/plain": [
       "['node_id',\n",
       " 'role',\n",
       " 'name',\n",
       " 'original_name',\n",
       " 'former_name',\n",
       " 'jurisdiction',\n",
       " 'jurisdiction_description',\n",
       " 'company_type',\n",
       " 'address',\n",
       " 'internal_id',\n",
       " 'incorporation_date',\n",
       " 'inactivation_date',\n",
       " 'struck_off_date',\n",
       " 'dorm_date',\n",
       " 'status',\n",
       " 'service_provider',\n",
       " 'ibcRUC',\n",
       " 'country_codes',\n",
       " 'countries',\n",
       " 'sourceID',\n",
       " 'valid_until',\n",
       " 'note',\n",
       " 'vague']"
      ]
     },
     "execution_count": 8,
     "metadata": {},
     "output_type": "execute_result"
    }
   ],
   "source": [
    "list(df.columns)"
   ]
  },
  {
   "cell_type": "code",
   "execution_count": 9,
   "id": "5e3e1a9b-faf9-484c-91b3-bd9e281dbbfc",
   "metadata": {
    "execution": {
     "iopub.execute_input": "2024-07-11T19:19:34.584452Z",
     "iopub.status.busy": "2024-07-11T19:19:34.584353Z",
     "iopub.status.idle": "2024-07-11T19:21:27.050091Z",
     "shell.execute_reply": "2024-07-11T19:21:27.049814Z",
     "shell.execute_reply.started": "2024-07-11T19:19:34.584442Z"
    }
   },
   "outputs": [
    {
     "name": "stderr",
     "output_type": "stream",
     "text": [
      "/Users/paco/src/ERKG/icij/venv/lib/python3.11/site-packages/numpy/core/fromnumeric.py:59: FutureWarning: 'DataFrame.swapaxes' is deprecated and will be removed in a future version. Please use 'DataFrame.transpose' instead.\n",
      "  return bound(*args, **kwds)\n",
      "chunks: 100%|██████████████████████████████████████████████████████████████████████████████████████████████████████████████████████████| 65/65 [01:51<00:00,  1.72s/it]\n"
     ]
    }
   ],
   "source": [
    "unwind_query: str = \"\"\"\n",
    "UNWIND $rows AS row\n",
    "CALL {\n",
    "  WITH row\n",
    "  MERGE (e:Entity {node_id: row.node_id})\n",
    "  SET e += {\n",
    "    role: row.role,\n",
    "    name: row.name,\n",
    "    original_name: row.original_name,\n",
    "    former_name: row.former_name,\n",
    "    jurisdiction: row.jurisdiction,\n",
    "    jurisdiction_description: row.jurisdiction_description,\n",
    "    company_type: row.company_type,\n",
    "    address: row.address,\n",
    "    internal_id: row.internal_id,\n",
    "    incorporation_date: row.incorporation_date,\n",
    "    inactivation_date: row.inactivation_date,\n",
    "    struck_off_date: row.struck_off_date,\n",
    "    dorm_date: row.dorm_date,\n",
    "    status: row.status,\n",
    "    service_provider: row.service_provider,\n",
    "    ibcRUC: row.ibcRUC,\n",
    "    country_codes: row.country_codes,\n",
    "    countries: row.countries,\n",
    "    sourceID: row.sourceID,\n",
    "    valid_until: row.valid_until,\n",
    "    note: row.note,\n",
    "    vague: row.vague\n",
    "  }\n",
    "} IN TRANSACTIONS OF 5000 ROWS\n",
    "    \"\"\"\n",
    "\n",
    "load_neo4j_df(df, unwind_query)"
   ]
  },
  {
   "cell_type": "code",
   "execution_count": 10,
   "id": "9e528a1d-4712-4073-89d6-297d47f20d94",
   "metadata": {
    "execution": {
     "iopub.execute_input": "2024-07-11T19:21:27.050745Z",
     "iopub.status.busy": "2024-07-11T19:21:27.050655Z",
     "iopub.status.idle": "2024-07-11T19:21:46.325515Z",
     "shell.execute_reply": "2024-07-11T19:21:46.325252Z",
     "shell.execute_reply.started": "2024-07-11T19:21:27.050735Z"
    }
   },
   "outputs": [
    {
     "data": {
      "text/html": [
       "<div>\n",
       "<style scoped>\n",
       "    .dataframe tbody tr th:only-of-type {\n",
       "        vertical-align: middle;\n",
       "    }\n",
       "\n",
       "    .dataframe tbody tr th {\n",
       "        vertical-align: top;\n",
       "    }\n",
       "\n",
       "    .dataframe thead th {\n",
       "        text-align: right;\n",
       "    }\n",
       "</style>\n",
       "<table border=\"1\" class=\"dataframe\">\n",
       "  <thead>\n",
       "    <tr style=\"text-align: right;\">\n",
       "      <th></th>\n",
       "      <th>e.node_id</th>\n",
       "      <th>e.role</th>\n",
       "      <th>e.name</th>\n",
       "    </tr>\n",
       "  </thead>\n",
       "  <tbody>\n",
       "    <tr>\n",
       "      <th>0</th>\n",
       "      <td>1</td>\n",
       "      <td>Officer</td>\n",
       "      <td>Peter Sabourin</td>\n",
       "    </tr>\n",
       "    <tr>\n",
       "      <th>1</th>\n",
       "      <td>2</td>\n",
       "      <td>Officer</td>\n",
       "      <td>Irene Knowles</td>\n",
       "    </tr>\n",
       "    <tr>\n",
       "      <th>2</th>\n",
       "      <td>3</td>\n",
       "      <td>Officer</td>\n",
       "      <td>Mr. Hua guoqiang</td>\n",
       "    </tr>\n",
       "    <tr>\n",
       "      <th>3</th>\n",
       "      <td>4</td>\n",
       "      <td>Officer</td>\n",
       "      <td>Chen Lifen</td>\n",
       "    </tr>\n",
       "    <tr>\n",
       "      <th>4</th>\n",
       "      <td>5</td>\n",
       "      <td>Officer</td>\n",
       "      <td>Mr. Wan Jianping</td>\n",
       "    </tr>\n",
       "    <tr>\n",
       "      <th>...</th>\n",
       "      <td>...</td>\n",
       "      <td>...</td>\n",
       "      <td>...</td>\n",
       "    </tr>\n",
       "    <tr>\n",
       "      <th>1614272</th>\n",
       "      <td>240558066</td>\n",
       "      <td>Other</td>\n",
       "      <td>Donard Trading Limited</td>\n",
       "    </tr>\n",
       "    <tr>\n",
       "      <th>1614273</th>\n",
       "      <td>240558067</td>\n",
       "      <td>Other</td>\n",
       "      <td>Ballford Holdings Limited</td>\n",
       "    </tr>\n",
       "    <tr>\n",
       "      <th>1614274</th>\n",
       "      <td>240558068</td>\n",
       "      <td>Other</td>\n",
       "      <td>Lansdale Corporate Limited</td>\n",
       "    </tr>\n",
       "    <tr>\n",
       "      <th>1614275</th>\n",
       "      <td>240558069</td>\n",
       "      <td>Other</td>\n",
       "      <td>Kapecod Enterprises Ltd</td>\n",
       "    </tr>\n",
       "    <tr>\n",
       "      <th>1614276</th>\n",
       "      <td>240558070</td>\n",
       "      <td>Other</td>\n",
       "      <td>Prielau Investments Ltd</td>\n",
       "    </tr>\n",
       "  </tbody>\n",
       "</table>\n",
       "<p>1614277 rows × 3 columns</p>\n",
       "</div>"
      ],
      "text/plain": [
       "         e.node_id   e.role                      e.name\n",
       "0                1  Officer              Peter Sabourin\n",
       "1                2  Officer               Irene Knowles\n",
       "2                3  Officer            Mr. Hua guoqiang\n",
       "3                4  Officer                  Chen Lifen\n",
       "4                5  Officer            Mr. Wan Jianping\n",
       "...            ...      ...                         ...\n",
       "1614272  240558066    Other      Donard Trading Limited\n",
       "1614273  240558067    Other   Ballford Holdings Limited\n",
       "1614274  240558068    Other  Lansdale Corporate Limited\n",
       "1614275  240558069    Other     Kapecod Enterprises Ltd\n",
       "1614276  240558070    Other     Prielau Investments Ltd\n",
       "\n",
       "[1614277 rows x 3 columns]"
      ]
     },
     "execution_count": 10,
     "metadata": {},
     "output_type": "execute_result"
    }
   ],
   "source": [
    "df_test: pd.DataFrame = gds.run_cypher(\n",
    "  \"\"\"\n",
    "MATCH (e:Entity)\n",
    "RETURN e.node_id, e.role, e.name\n",
    "  \"\"\"\n",
    ")\n",
    "\n",
    "df_test"
   ]
  },
  {
   "cell_type": "markdown",
   "id": "74814a1a-3c2d-4cb5-afa9-1549d2935117",
   "metadata": {},
   "source": [
    "### `Location` nodes"
   ]
  },
  {
   "cell_type": "code",
   "execution_count": 11,
   "id": "6bf1ebe1-99c1-467c-aa07-3223f4073095",
   "metadata": {
    "execution": {
     "iopub.execute_input": "2024-07-11T19:21:46.326016Z",
     "iopub.status.busy": "2024-07-11T19:21:46.325940Z",
     "iopub.status.idle": "2024-07-11T19:21:46.806510Z",
     "shell.execute_reply": "2024-07-11T19:21:46.806236Z",
     "shell.execute_reply.started": "2024-07-11T19:21:46.326010Z"
    }
   },
   "outputs": [
    {
     "data": {
      "text/html": [
       "<div>\n",
       "<style scoped>\n",
       "    .dataframe tbody tr th:only-of-type {\n",
       "        vertical-align: middle;\n",
       "    }\n",
       "\n",
       "    .dataframe tbody tr th {\n",
       "        vertical-align: top;\n",
       "    }\n",
       "\n",
       "    .dataframe thead th {\n",
       "        text-align: right;\n",
       "    }\n",
       "</style>\n",
       "<table border=\"1\" class=\"dataframe\">\n",
       "  <thead>\n",
       "    <tr style=\"text-align: right;\">\n",
       "      <th></th>\n",
       "      <th>node_id</th>\n",
       "      <th>address</th>\n",
       "      <th>name</th>\n",
       "      <th>countries</th>\n",
       "      <th>country_codes</th>\n",
       "      <th>sourceID</th>\n",
       "      <th>valid_until</th>\n",
       "      <th>note</th>\n",
       "    </tr>\n",
       "  </thead>\n",
       "  <tbody>\n",
       "    <tr>\n",
       "      <th>0</th>\n",
       "      <td>24000001</td>\n",
       "      <td>ANNEX FREDERICK &amp; SHIRLEY STS, P.O. BOX N-4805...</td>\n",
       "      <td>NaN</td>\n",
       "      <td>Bahamas</td>\n",
       "      <td>BHS</td>\n",
       "      <td>Bahamas Leaks</td>\n",
       "      <td>The Bahamas Leaks data is current through earl...</td>\n",
       "      <td>NaN</td>\n",
       "    </tr>\n",
       "    <tr>\n",
       "      <th>1</th>\n",
       "      <td>24000002</td>\n",
       "      <td>SUITE E-2,UNION COURT BUILDING, P.O. BOX N-818...</td>\n",
       "      <td>NaN</td>\n",
       "      <td>Bahamas</td>\n",
       "      <td>BHS</td>\n",
       "      <td>Bahamas Leaks</td>\n",
       "      <td>The Bahamas Leaks data is current through earl...</td>\n",
       "      <td>NaN</td>\n",
       "    </tr>\n",
       "    <tr>\n",
       "      <th>2</th>\n",
       "      <td>24000003</td>\n",
       "      <td>LYFORD CAY HOUSE, LYFORD CAY, P.O. BOX N-7785,...</td>\n",
       "      <td>NaN</td>\n",
       "      <td>Bahamas</td>\n",
       "      <td>BHS</td>\n",
       "      <td>Bahamas Leaks</td>\n",
       "      <td>The Bahamas Leaks data is current through earl...</td>\n",
       "      <td>NaN</td>\n",
       "    </tr>\n",
       "  </tbody>\n",
       "</table>\n",
       "</div>"
      ],
      "text/plain": [
       "    node_id                                            address name countries  \\\n",
       "0  24000001  ANNEX FREDERICK & SHIRLEY STS, P.O. BOX N-4805...  NaN   Bahamas   \n",
       "1  24000002  SUITE E-2,UNION COURT BUILDING, P.O. BOX N-818...  NaN   Bahamas   \n",
       "2  24000003  LYFORD CAY HOUSE, LYFORD CAY, P.O. BOX N-7785,...  NaN   Bahamas   \n",
       "\n",
       "  country_codes       sourceID  \\\n",
       "0           BHS  Bahamas Leaks   \n",
       "1           BHS  Bahamas Leaks   \n",
       "2           BHS  Bahamas Leaks   \n",
       "\n",
       "                                         valid_until note  \n",
       "0  The Bahamas Leaks data is current through earl...  NaN  \n",
       "1  The Bahamas Leaks data is current through earl...  NaN  \n",
       "2  The Bahamas Leaks data is current through earl...  NaN  "
      ]
     },
     "execution_count": 11,
     "metadata": {},
     "output_type": "execute_result"
    }
   ],
   "source": [
    "data_file: pathlib.Path = TEMP_DIR / \"location.csv\"\n",
    "\n",
    "df: pd.DataFrame = pd.read_csv(\n",
    "    data_file,\n",
    "    header = 0,\n",
    "    low_memory = False,\n",
    ")\n",
    "\n",
    "df.head(3)"
   ]
  },
  {
   "cell_type": "code",
   "execution_count": 12,
   "id": "be025ec7-f4ac-4185-ad08-5f627409ea38",
   "metadata": {
    "execution": {
     "iopub.execute_input": "2024-07-11T19:21:46.807072Z",
     "iopub.status.busy": "2024-07-11T19:21:46.806999Z",
     "iopub.status.idle": "2024-07-11T19:21:46.808987Z",
     "shell.execute_reply": "2024-07-11T19:21:46.808796Z",
     "shell.execute_reply.started": "2024-07-11T19:21:46.807065Z"
    }
   },
   "outputs": [
    {
     "data": {
      "text/plain": [
       "['node_id',\n",
       " 'address',\n",
       " 'name',\n",
       " 'countries',\n",
       " 'country_codes',\n",
       " 'sourceID',\n",
       " 'valid_until',\n",
       " 'note']"
      ]
     },
     "execution_count": 12,
     "metadata": {},
     "output_type": "execute_result"
    }
   ],
   "source": [
    "list(df.columns)"
   ]
  },
  {
   "cell_type": "code",
   "execution_count": 13,
   "id": "6fa678eb-446a-43ee-a55f-c17dbd3ea643",
   "metadata": {
    "execution": {
     "iopub.execute_input": "2024-07-11T19:21:46.809416Z",
     "iopub.status.busy": "2024-07-11T19:21:46.809351Z",
     "iopub.status.idle": "2024-07-11T19:21:58.091340Z",
     "shell.execute_reply": "2024-07-11T19:21:58.090831Z",
     "shell.execute_reply.started": "2024-07-11T19:21:46.809409Z"
    }
   },
   "outputs": [
    {
     "name": "stderr",
     "output_type": "stream",
     "text": [
      "/Users/paco/src/ERKG/icij/venv/lib/python3.11/site-packages/numpy/core/fromnumeric.py:59: FutureWarning: 'DataFrame.swapaxes' is deprecated and will be removed in a future version. Please use 'DataFrame.transpose' instead.\n",
      "  return bound(*args, **kwds)\n",
      "chunks: 100%|██████████████████████████████████████████████████████████████████████████████████████████████████████████████████████████| 17/17 [00:11<00:00,  1.51it/s]\n"
     ]
    }
   ],
   "source": [
    "unwind_query: str = \"\"\"\n",
    "UNWIND $rows AS row\n",
    "CALL {\n",
    "  WITH row\n",
    "  MERGE (l:Location {node_id: row.node_id})\n",
    "  SET l += {\n",
    "    address: row.address,\n",
    "    name: row.name,\n",
    "    countries: row.countries,\n",
    "    country_codes: row.country_codes,\n",
    "    sourceID: row.sourceID,\n",
    "    valid_until: row.valid_until,\n",
    "    note: row.note\n",
    "  }\n",
    "} IN TRANSACTIONS OF 5000 ROWS\n",
    "    \"\"\"\n",
    "\n",
    "load_neo4j_df(df, unwind_query)"
   ]
  },
  {
   "cell_type": "code",
   "execution_count": 14,
   "id": "ffcbc51c-8ddc-4a58-a0ff-de5431e0345c",
   "metadata": {
    "execution": {
     "iopub.execute_input": "2024-07-11T19:21:58.092371Z",
     "iopub.status.busy": "2024-07-11T19:21:58.092213Z",
     "iopub.status.idle": "2024-07-11T19:22:02.559227Z",
     "shell.execute_reply": "2024-07-11T19:22:02.558998Z",
     "shell.execute_reply.started": "2024-07-11T19:21:58.092356Z"
    }
   },
   "outputs": [
    {
     "data": {
      "text/html": [
       "<div>\n",
       "<style scoped>\n",
       "    .dataframe tbody tr th:only-of-type {\n",
       "        vertical-align: middle;\n",
       "    }\n",
       "\n",
       "    .dataframe tbody tr th {\n",
       "        vertical-align: top;\n",
       "    }\n",
       "\n",
       "    .dataframe thead th {\n",
       "        text-align: right;\n",
       "    }\n",
       "</style>\n",
       "<table border=\"1\" class=\"dataframe\">\n",
       "  <thead>\n",
       "    <tr style=\"text-align: right;\">\n",
       "      <th></th>\n",
       "      <th>l.node_id</th>\n",
       "      <th>l.address</th>\n",
       "      <th>l.countries</th>\n",
       "    </tr>\n",
       "  </thead>\n",
       "  <tbody>\n",
       "    <tr>\n",
       "      <th>0</th>\n",
       "      <td>67268</td>\n",
       "      <td>#2236 Albert Hoy Street, Belize City, Belize.</td>\n",
       "      <td>Belize</td>\n",
       "    </tr>\n",
       "    <tr>\n",
       "      <th>1</th>\n",
       "      <td>67276</td>\n",
       "      <td>1, rue Ferdid Dormal B-4280 Hannut Belgique</td>\n",
       "      <td>Belgium</td>\n",
       "    </tr>\n",
       "    <tr>\n",
       "      <th>2</th>\n",
       "      <td>67277</td>\n",
       "      <td>11 Coomber Road, The Peak, Hong Kong</td>\n",
       "      <td>Hong Kong</td>\n",
       "    </tr>\n",
       "    <tr>\n",
       "      <th>3</th>\n",
       "      <td>67278</td>\n",
       "      <td>11A, Branksome 3 Tregunter Path Mid-Levels Hon...</td>\n",
       "      <td>Hong Kong</td>\n",
       "    </tr>\n",
       "    <tr>\n",
       "      <th>4</th>\n",
       "      <td>67282</td>\n",
       "      <td>14 Lysander Road West Mailing Kent ME19 4TT</td>\n",
       "      <td>United Kingdom</td>\n",
       "    </tr>\n",
       "    <tr>\n",
       "      <th>...</th>\n",
       "      <td>...</td>\n",
       "      <td>...</td>\n",
       "      <td>...</td>\n",
       "    </tr>\n",
       "    <tr>\n",
       "      <th>402241</th>\n",
       "      <td>240492573</td>\n",
       "      <td>115 GRIVA DIGENI AVENUE, 5TH FLOOR, LIMA, 3101...</td>\n",
       "      <td>Cyprus</td>\n",
       "    </tr>\n",
       "    <tr>\n",
       "      <th>402242</th>\n",
       "      <td>240492574</td>\n",
       "      <td>115 GRIVA DIGENI AVENUE, 5TH FLOOR, LIMASSOL, ...</td>\n",
       "      <td>NaN</td>\n",
       "    </tr>\n",
       "    <tr>\n",
       "      <th>402243</th>\n",
       "      <td>240492575</td>\n",
       "      <td>115 GRIVA DIGENI AVENUE, 5TH FLOOR, 3101, CVPRUS</td>\n",
       "      <td>NaN</td>\n",
       "    </tr>\n",
       "    <tr>\n",
       "      <th>402244</th>\n",
       "      <td>240492576</td>\n",
       "      <td>PINELOPIS 9, LAMACA, 6057, TORTOLA, CYPRUS</td>\n",
       "      <td>Cyprus</td>\n",
       "    </tr>\n",
       "    <tr>\n",
       "      <th>402245</th>\n",
       "      <td>240492577</td>\n",
       "      <td>KOZANIS 4, NICOSIA, 2221, TORTOLA, CYPRUS</td>\n",
       "      <td>Cyprus</td>\n",
       "    </tr>\n",
       "  </tbody>\n",
       "</table>\n",
       "<p>402246 rows × 3 columns</p>\n",
       "</div>"
      ],
      "text/plain": [
       "        l.node_id                                          l.address  \\\n",
       "0           67268      #2236 Albert Hoy Street, Belize City, Belize.   \n",
       "1           67276        1, rue Ferdid Dormal B-4280 Hannut Belgique   \n",
       "2           67277               11 Coomber Road, The Peak, Hong Kong   \n",
       "3           67278  11A, Branksome 3 Tregunter Path Mid-Levels Hon...   \n",
       "4           67282        14 Lysander Road West Mailing Kent ME19 4TT   \n",
       "...           ...                                                ...   \n",
       "402241  240492573  115 GRIVA DIGENI AVENUE, 5TH FLOOR, LIMA, 3101...   \n",
       "402242  240492574  115 GRIVA DIGENI AVENUE, 5TH FLOOR, LIMASSOL, ...   \n",
       "402243  240492575   115 GRIVA DIGENI AVENUE, 5TH FLOOR, 3101, CVPRUS   \n",
       "402244  240492576         PINELOPIS 9, LAMACA, 6057, TORTOLA, CYPRUS   \n",
       "402245  240492577          KOZANIS 4, NICOSIA, 2221, TORTOLA, CYPRUS   \n",
       "\n",
       "           l.countries  \n",
       "0               Belize  \n",
       "1              Belgium  \n",
       "2            Hong Kong  \n",
       "3            Hong Kong  \n",
       "4       United Kingdom  \n",
       "...                ...  \n",
       "402241          Cyprus  \n",
       "402242             NaN  \n",
       "402243             NaN  \n",
       "402244          Cyprus  \n",
       "402245          Cyprus  \n",
       "\n",
       "[402246 rows x 3 columns]"
      ]
     },
     "execution_count": 14,
     "metadata": {},
     "output_type": "execute_result"
    }
   ],
   "source": [
    "df_test: pd.DataFrame = gds.run_cypher(\n",
    "  \"\"\"\n",
    "MATCH (l:Location)\n",
    "RETURN l.node_id, l.address, l.countries\n",
    "  \"\"\"\n",
    ")\n",
    "\n",
    "df_test"
   ]
  },
  {
   "cell_type": "markdown",
   "id": "2068f99c-8ea7-4c14-bcc7-275971a9ada2",
   "metadata": {},
   "source": [
    "### `RegisteredAddress` relations"
   ]
  },
  {
   "cell_type": "code",
   "execution_count": 15,
   "id": "449e60cb-d8dc-498e-9d2d-ff3c65dfc0d5",
   "metadata": {
    "execution": {
     "iopub.execute_input": "2024-07-11T19:22:02.559706Z",
     "iopub.status.busy": "2024-07-11T19:22:02.559641Z",
     "iopub.status.idle": "2024-07-11T19:22:02.873505Z",
     "shell.execute_reply": "2024-07-11T19:22:02.873293Z",
     "shell.execute_reply.started": "2024-07-11T19:22:02.559699Z"
    }
   },
   "outputs": [
    {
     "data": {
      "text/html": [
       "<div>\n",
       "<style scoped>\n",
       "    .dataframe tbody tr th:only-of-type {\n",
       "        vertical-align: middle;\n",
       "    }\n",
       "\n",
       "    .dataframe tbody tr th {\n",
       "        vertical-align: top;\n",
       "    }\n",
       "\n",
       "    .dataframe thead th {\n",
       "        text-align: right;\n",
       "    }\n",
       "</style>\n",
       "<table border=\"1\" class=\"dataframe\">\n",
       "  <thead>\n",
       "    <tr style=\"text-align: right;\">\n",
       "      <th></th>\n",
       "      <th>node_id_start</th>\n",
       "      <th>node_id_end</th>\n",
       "      <th>link</th>\n",
       "      <th>status</th>\n",
       "      <th>start_date</th>\n",
       "      <th>end_date</th>\n",
       "      <th>sourceID</th>\n",
       "    </tr>\n",
       "  </thead>\n",
       "  <tbody>\n",
       "    <tr>\n",
       "      <th>0</th>\n",
       "      <td>10000035</td>\n",
       "      <td>14095990</td>\n",
       "      <td>registered address</td>\n",
       "      <td></td>\n",
       "      <td></td>\n",
       "      <td></td>\n",
       "      <td>Panama Papers</td>\n",
       "    </tr>\n",
       "    <tr>\n",
       "      <th>1</th>\n",
       "      <td>10000044</td>\n",
       "      <td>14091035</td>\n",
       "      <td>registered address</td>\n",
       "      <td></td>\n",
       "      <td></td>\n",
       "      <td></td>\n",
       "      <td>Panama Papers</td>\n",
       "    </tr>\n",
       "    <tr>\n",
       "      <th>2</th>\n",
       "      <td>10000055</td>\n",
       "      <td>14095990</td>\n",
       "      <td>registered address</td>\n",
       "      <td></td>\n",
       "      <td></td>\n",
       "      <td></td>\n",
       "      <td>Panama Papers</td>\n",
       "    </tr>\n",
       "  </tbody>\n",
       "</table>\n",
       "</div>"
      ],
      "text/plain": [
       "   node_id_start  node_id_end                link status start_date end_date  \\\n",
       "0       10000035     14095990  registered address                              \n",
       "1       10000044     14091035  registered address                              \n",
       "2       10000055     14095990  registered address                              \n",
       "\n",
       "        sourceID  \n",
       "0  Panama Papers  \n",
       "1  Panama Papers  \n",
       "2  Panama Papers  "
      ]
     },
     "execution_count": 15,
     "metadata": {},
     "output_type": "execute_result"
    }
   ],
   "source": [
    "data_file: pathlib.Path = TEMP_DIR / \"rel_regaddr.csv\"\n",
    "\n",
    "df: pd.DataFrame = pd.read_csv(\n",
    "    data_file,\n",
    "    header = 0,\n",
    "    low_memory = False,\n",
    ").fillna(\"\")\n",
    "\n",
    "df.head(3)"
   ]
  },
  {
   "cell_type": "code",
   "execution_count": 16,
   "id": "7fecdf21-7933-409b-8a88-e8fce7136fe1",
   "metadata": {
    "execution": {
     "iopub.execute_input": "2024-07-11T19:22:02.873923Z",
     "iopub.status.busy": "2024-07-11T19:22:02.873861Z",
     "iopub.status.idle": "2024-07-11T19:22:02.875667Z",
     "shell.execute_reply": "2024-07-11T19:22:02.875441Z",
     "shell.execute_reply.started": "2024-07-11T19:22:02.873916Z"
    }
   },
   "outputs": [
    {
     "data": {
      "text/plain": [
       "['node_id_start',\n",
       " 'node_id_end',\n",
       " 'link',\n",
       " 'status',\n",
       " 'start_date',\n",
       " 'end_date',\n",
       " 'sourceID']"
      ]
     },
     "execution_count": 16,
     "metadata": {},
     "output_type": "execute_result"
    }
   ],
   "source": [
    "list(df.columns)"
   ]
  },
  {
   "cell_type": "code",
   "execution_count": 17,
   "id": "ebbbfb4d-a8af-4d03-a11b-fb10d4980957",
   "metadata": {
    "execution": {
     "iopub.execute_input": "2024-07-11T19:22:02.876159Z",
     "iopub.status.busy": "2024-07-11T19:22:02.876101Z",
     "iopub.status.idle": "2024-07-11T19:22:23.512977Z",
     "shell.execute_reply": "2024-07-11T19:22:23.511789Z",
     "shell.execute_reply.started": "2024-07-11T19:22:02.876153Z"
    }
   },
   "outputs": [
    {
     "name": "stderr",
     "output_type": "stream",
     "text": [
      "/Users/paco/src/ERKG/icij/venv/lib/python3.11/site-packages/numpy/core/fromnumeric.py:59: FutureWarning: 'DataFrame.swapaxes' is deprecated and will be removed in a future version. Please use 'DataFrame.transpose' instead.\n",
      "  return bound(*args, **kwds)\n",
      "chunks: 100%|██████████████████████████████████████████████████████████████████████████████████████████████████████████████████████████| 33/33 [00:20<00:00,  1.61it/s]\n"
     ]
    }
   ],
   "source": [
    "unwind_query: str = \"\"\"\n",
    "UNWIND $rows AS row\n",
    "CALL {\n",
    "  WITH row\n",
    "  MATCH\n",
    "    (ent:Entity {node_id: row.node_id_start}),\n",
    "    (loc:Location {node_id: row.node_id_end})\n",
    "  MERGE (ent)-[:RegisteredAddress {link: row.link, status: row.status, start_date: row.start_date, end_date: row.end_date, sourceID: row.sourceID}]->(loc)\n",
    "} IN TRANSACTIONS OF 5000 ROWS\n",
    "    \"\"\"\n",
    "\n",
    "load_neo4j_df(df, unwind_query)"
   ]
  },
  {
   "cell_type": "markdown",
   "id": "9730ad60-6394-4c9b-a730-2fe966427ed3",
   "metadata": {},
   "source": [
    "### `OfficerOf` relations"
   ]
  },
  {
   "cell_type": "code",
   "execution_count": 18,
   "id": "632a2109-2aea-4c63-a335-24c8701e8138",
   "metadata": {
    "execution": {
     "iopub.execute_input": "2024-07-11T19:22:23.515233Z",
     "iopub.status.busy": "2024-07-11T19:22:23.514909Z",
     "iopub.status.idle": "2024-07-11T19:22:24.275541Z",
     "shell.execute_reply": "2024-07-11T19:22:24.275271Z",
     "shell.execute_reply.started": "2024-07-11T19:22:23.515217Z"
    }
   },
   "outputs": [
    {
     "data": {
      "text/html": [
       "<div>\n",
       "<style scoped>\n",
       "    .dataframe tbody tr th:only-of-type {\n",
       "        vertical-align: middle;\n",
       "    }\n",
       "\n",
       "    .dataframe tbody tr th {\n",
       "        vertical-align: top;\n",
       "    }\n",
       "\n",
       "    .dataframe thead th {\n",
       "        text-align: right;\n",
       "    }\n",
       "</style>\n",
       "<table border=\"1\" class=\"dataframe\">\n",
       "  <thead>\n",
       "    <tr style=\"text-align: right;\">\n",
       "      <th></th>\n",
       "      <th>node_id_start</th>\n",
       "      <th>node_id_end</th>\n",
       "      <th>link</th>\n",
       "      <th>status</th>\n",
       "      <th>start_date</th>\n",
       "      <th>end_date</th>\n",
       "      <th>sourceID</th>\n",
       "    </tr>\n",
       "  </thead>\n",
       "  <tbody>\n",
       "    <tr>\n",
       "      <th>0</th>\n",
       "      <td>12000001</td>\n",
       "      <td>10073324</td>\n",
       "      <td>shareholder of</td>\n",
       "      <td></td>\n",
       "      <td>19-NOV-1999</td>\n",
       "      <td>04-JUL-2000</td>\n",
       "      <td>Panama Papers</td>\n",
       "    </tr>\n",
       "    <tr>\n",
       "      <th>1</th>\n",
       "      <td>12000002</td>\n",
       "      <td>10148386</td>\n",
       "      <td>shareholder of</td>\n",
       "      <td></td>\n",
       "      <td>30-MAR-2012</td>\n",
       "      <td>06-JUL-2012</td>\n",
       "      <td>Panama Papers</td>\n",
       "    </tr>\n",
       "    <tr>\n",
       "      <th>2</th>\n",
       "      <td>12000003</td>\n",
       "      <td>10024966</td>\n",
       "      <td>shareholder of</td>\n",
       "      <td></td>\n",
       "      <td>14-JAN-2010</td>\n",
       "      <td></td>\n",
       "      <td>Panama Papers</td>\n",
       "    </tr>\n",
       "  </tbody>\n",
       "</table>\n",
       "</div>"
      ],
      "text/plain": [
       "   node_id_start  node_id_end            link status   start_date  \\\n",
       "0       12000001     10073324  shareholder of         19-NOV-1999   \n",
       "1       12000002     10148386  shareholder of         30-MAR-2012   \n",
       "2       12000003     10024966  shareholder of         14-JAN-2010   \n",
       "\n",
       "      end_date       sourceID  \n",
       "0  04-JUL-2000  Panama Papers  \n",
       "1  06-JUL-2012  Panama Papers  \n",
       "2               Panama Papers  "
      ]
     },
     "execution_count": 18,
     "metadata": {},
     "output_type": "execute_result"
    }
   ],
   "source": [
    "data_file: pathlib.Path = TEMP_DIR / \"rel_officer.csv\"\n",
    "\n",
    "df: pd.DataFrame = pd.read_csv(\n",
    "    data_file,\n",
    "    header = 0,\n",
    "    low_memory = False,\n",
    ").fillna(\"\")\n",
    "\n",
    "df.head(3)"
   ]
  },
  {
   "cell_type": "code",
   "execution_count": 19,
   "id": "be5d3323-d533-435e-9d0f-911273fa8ae7",
   "metadata": {
    "execution": {
     "iopub.execute_input": "2024-07-11T19:22:24.276126Z",
     "iopub.status.busy": "2024-07-11T19:22:24.276047Z",
     "iopub.status.idle": "2024-07-11T19:22:24.277948Z",
     "shell.execute_reply": "2024-07-11T19:22:24.277740Z",
     "shell.execute_reply.started": "2024-07-11T19:22:24.276119Z"
    }
   },
   "outputs": [
    {
     "data": {
      "text/plain": [
       "['node_id_start',\n",
       " 'node_id_end',\n",
       " 'link',\n",
       " 'status',\n",
       " 'start_date',\n",
       " 'end_date',\n",
       " 'sourceID']"
      ]
     },
     "execution_count": 19,
     "metadata": {},
     "output_type": "execute_result"
    }
   ],
   "source": [
    "list(df.columns)"
   ]
  },
  {
   "cell_type": "code",
   "execution_count": 20,
   "id": "29aaaecd-65a0-4b89-8f48-d1d82e1e0118",
   "metadata": {
    "execution": {
     "iopub.execute_input": "2024-07-11T19:22:24.278293Z",
     "iopub.status.busy": "2024-07-11T19:22:24.278217Z",
     "iopub.status.idle": "2024-07-11T19:23:07.031094Z",
     "shell.execute_reply": "2024-07-11T19:23:07.030720Z",
     "shell.execute_reply.started": "2024-07-11T19:22:24.278286Z"
    }
   },
   "outputs": [
    {
     "name": "stderr",
     "output_type": "stream",
     "text": [
      "/Users/paco/src/ERKG/icij/venv/lib/python3.11/site-packages/numpy/core/fromnumeric.py:59: FutureWarning: 'DataFrame.swapaxes' is deprecated and will be removed in a future version. Please use 'DataFrame.transpose' instead.\n",
      "  return bound(*args, **kwds)\n",
      "chunks: 100%|██████████████████████████████████████████████████████████████████████████████████████████████████████████████████████████| 66/66 [00:42<00:00,  1.55it/s]\n"
     ]
    }
   ],
   "source": [
    "unwind_query: str = \"\"\"\n",
    "UNWIND $rows AS row\n",
    "CALL {\n",
    "  WITH row\n",
    "  MATCH\n",
    "    (src:Entity {node_id: row.node_id_start}),\n",
    "    (dst:Entity {node_id: row.node_id_end})\n",
    "  MERGE (src)-[:OfficerOf {link: row.link, status: row.status, start_date: row.start_date, end_date: row.end_date, sourceID: row.sourceID}]->(dst)\n",
    "} IN TRANSACTIONS OF 5000 ROWS\n",
    "    \"\"\"\n",
    "\n",
    "load_neo4j_df(df, unwind_query)"
   ]
  },
  {
   "cell_type": "markdown",
   "id": "63455f40-f9ae-4b8b-ba19-4d08d62a58d0",
   "metadata": {},
   "source": [
    "### `IntermediaryOf` relations"
   ]
  },
  {
   "cell_type": "code",
   "execution_count": 21,
   "id": "1ac7f711-3ff9-491d-84cc-0fba581cff04",
   "metadata": {
    "execution": {
     "iopub.execute_input": "2024-07-11T19:23:07.034673Z",
     "iopub.status.busy": "2024-07-11T19:23:07.034524Z",
     "iopub.status.idle": "2024-07-11T19:23:07.324152Z",
     "shell.execute_reply": "2024-07-11T19:23:07.323887Z",
     "shell.execute_reply.started": "2024-07-11T19:23:07.034658Z"
    }
   },
   "outputs": [
    {
     "data": {
      "text/html": [
       "<div>\n",
       "<style scoped>\n",
       "    .dataframe tbody tr th:only-of-type {\n",
       "        vertical-align: middle;\n",
       "    }\n",
       "\n",
       "    .dataframe tbody tr th {\n",
       "        vertical-align: top;\n",
       "    }\n",
       "\n",
       "    .dataframe thead th {\n",
       "        text-align: right;\n",
       "    }\n",
       "</style>\n",
       "<table border=\"1\" class=\"dataframe\">\n",
       "  <thead>\n",
       "    <tr style=\"text-align: right;\">\n",
       "      <th></th>\n",
       "      <th>node_id_start</th>\n",
       "      <th>node_id_end</th>\n",
       "      <th>link</th>\n",
       "      <th>status</th>\n",
       "      <th>start_date</th>\n",
       "      <th>end_date</th>\n",
       "      <th>sourceID</th>\n",
       "    </tr>\n",
       "  </thead>\n",
       "  <tbody>\n",
       "    <tr>\n",
       "      <th>0</th>\n",
       "      <td>11000001</td>\n",
       "      <td>10208879</td>\n",
       "      <td>intermediary of</td>\n",
       "      <td></td>\n",
       "      <td></td>\n",
       "      <td></td>\n",
       "      <td>Panama Papers</td>\n",
       "    </tr>\n",
       "    <tr>\n",
       "      <th>1</th>\n",
       "      <td>11000001</td>\n",
       "      <td>10198662</td>\n",
       "      <td>intermediary of</td>\n",
       "      <td></td>\n",
       "      <td></td>\n",
       "      <td></td>\n",
       "      <td>Panama Papers</td>\n",
       "    </tr>\n",
       "    <tr>\n",
       "      <th>2</th>\n",
       "      <td>11000001</td>\n",
       "      <td>10159927</td>\n",
       "      <td>intermediary of</td>\n",
       "      <td></td>\n",
       "      <td></td>\n",
       "      <td></td>\n",
       "      <td>Panama Papers</td>\n",
       "    </tr>\n",
       "  </tbody>\n",
       "</table>\n",
       "</div>"
      ],
      "text/plain": [
       "   node_id_start  node_id_end             link status start_date end_date  \\\n",
       "0       11000001     10208879  intermediary of                              \n",
       "1       11000001     10198662  intermediary of                              \n",
       "2       11000001     10159927  intermediary of                              \n",
       "\n",
       "        sourceID  \n",
       "0  Panama Papers  \n",
       "1  Panama Papers  \n",
       "2  Panama Papers  "
      ]
     },
     "execution_count": 21,
     "metadata": {},
     "output_type": "execute_result"
    }
   ],
   "source": [
    "data_file: pathlib.Path = TEMP_DIR / \"rel_intermed.csv\"\n",
    "\n",
    "df: pd.DataFrame = pd.read_csv(\n",
    "    data_file,\n",
    "    header = 0,\n",
    "    low_memory = False,\n",
    ").fillna(\"\")\n",
    "\n",
    "df.head(3)"
   ]
  },
  {
   "cell_type": "code",
   "execution_count": 22,
   "id": "8dd2941c-73bd-49aa-82ae-003d798474c4",
   "metadata": {
    "execution": {
     "iopub.execute_input": "2024-07-11T19:23:07.324575Z",
     "iopub.status.busy": "2024-07-11T19:23:07.324503Z",
     "iopub.status.idle": "2024-07-11T19:23:07.326694Z",
     "shell.execute_reply": "2024-07-11T19:23:07.326302Z",
     "shell.execute_reply.started": "2024-07-11T19:23:07.324568Z"
    }
   },
   "outputs": [
    {
     "data": {
      "text/plain": [
       "['node_id_start',\n",
       " 'node_id_end',\n",
       " 'link',\n",
       " 'status',\n",
       " 'start_date',\n",
       " 'end_date',\n",
       " 'sourceID']"
      ]
     },
     "execution_count": 22,
     "metadata": {},
     "output_type": "execute_result"
    }
   ],
   "source": [
    "list(df.columns)"
   ]
  },
  {
   "cell_type": "code",
   "execution_count": 23,
   "id": "3d54d967-b74a-4d07-9e37-3025ad8b7fce",
   "metadata": {
    "execution": {
     "iopub.execute_input": "2024-07-11T19:23:07.327382Z",
     "iopub.status.busy": "2024-07-11T19:23:07.327275Z",
     "iopub.status.idle": "2024-07-11T19:23:22.566369Z",
     "shell.execute_reply": "2024-07-11T19:23:22.565944Z",
     "shell.execute_reply.started": "2024-07-11T19:23:07.327375Z"
    }
   },
   "outputs": [
    {
     "name": "stderr",
     "output_type": "stream",
     "text": [
      "/Users/paco/src/ERKG/icij/venv/lib/python3.11/site-packages/numpy/core/fromnumeric.py:59: FutureWarning: 'DataFrame.swapaxes' is deprecated and will be removed in a future version. Please use 'DataFrame.transpose' instead.\n",
      "  return bound(*args, **kwds)\n",
      "chunks: 100%|██████████████████████████████████████████████████████████████████████████████████████████████████████████████████████████| 24/24 [00:15<00:00,  1.58it/s]\n"
     ]
    }
   ],
   "source": [
    "unwind_query: str = \"\"\"\n",
    "UNWIND $rows AS row\n",
    "CALL {\n",
    "  WITH row\n",
    "  MATCH\n",
    "    (src:Entity {node_id: row.node_id_start}),\n",
    "    (dst:Entity {node_id: row.node_id_end})\n",
    "  MERGE (src)-[:IntermediaryOf {link: row.link, status: row.status, start_date: row.start_date, end_date: row.end_date, sourceID: row.sourceID}]->(dst)\n",
    "} IN TRANSACTIONS OF 5000 ROWS\n",
    "    \"\"\"\n",
    "\n",
    "load_neo4j_df(df, unwind_query)"
   ]
  },
  {
   "cell_type": "markdown",
   "id": "f7d5b1bf-2048-4ec9-a15a-3c71fd813d61",
   "metadata": {},
   "source": [
    "### `ConnectedTo` relations"
   ]
  },
  {
   "cell_type": "code",
   "execution_count": 24,
   "id": "19bc7c1f-e180-4a08-9c4a-5d04cd1fff4b",
   "metadata": {
    "execution": {
     "iopub.execute_input": "2024-07-11T19:23:22.567355Z",
     "iopub.status.busy": "2024-07-11T19:23:22.567171Z",
     "iopub.status.idle": "2024-07-11T19:23:22.584492Z",
     "shell.execute_reply": "2024-07-11T19:23:22.584259Z",
     "shell.execute_reply.started": "2024-07-11T19:23:22.567338Z"
    }
   },
   "outputs": [
    {
     "data": {
      "text/html": [
       "<div>\n",
       "<style scoped>\n",
       "    .dataframe tbody tr th:only-of-type {\n",
       "        vertical-align: middle;\n",
       "    }\n",
       "\n",
       "    .dataframe tbody tr th {\n",
       "        vertical-align: top;\n",
       "    }\n",
       "\n",
       "    .dataframe thead th {\n",
       "        text-align: right;\n",
       "    }\n",
       "</style>\n",
       "<table border=\"1\" class=\"dataframe\">\n",
       "  <thead>\n",
       "    <tr style=\"text-align: right;\">\n",
       "      <th></th>\n",
       "      <th>node_id_start</th>\n",
       "      <th>node_id_end</th>\n",
       "      <th>link</th>\n",
       "      <th>status</th>\n",
       "      <th>start_date</th>\n",
       "      <th>end_date</th>\n",
       "      <th>sourceID</th>\n",
       "    </tr>\n",
       "  </thead>\n",
       "  <tbody>\n",
       "    <tr>\n",
       "      <th>0</th>\n",
       "      <td>85004929</td>\n",
       "      <td>85008101</td>\n",
       "      <td>connected to</td>\n",
       "      <td></td>\n",
       "      <td></td>\n",
       "      <td></td>\n",
       "      <td>Paradise Papers - Aruba corporate registry</td>\n",
       "    </tr>\n",
       "    <tr>\n",
       "      <th>1</th>\n",
       "      <td>85004929</td>\n",
       "      <td>85021444</td>\n",
       "      <td>connected to</td>\n",
       "      <td></td>\n",
       "      <td></td>\n",
       "      <td></td>\n",
       "      <td>Paradise Papers - Aruba corporate registry</td>\n",
       "    </tr>\n",
       "    <tr>\n",
       "      <th>2</th>\n",
       "      <td>85008443</td>\n",
       "      <td>85011025</td>\n",
       "      <td>connected to</td>\n",
       "      <td></td>\n",
       "      <td></td>\n",
       "      <td></td>\n",
       "      <td>Paradise Papers - Aruba corporate registry</td>\n",
       "    </tr>\n",
       "  </tbody>\n",
       "</table>\n",
       "</div>"
      ],
      "text/plain": [
       "   node_id_start  node_id_end          link status start_date end_date  \\\n",
       "0       85004929     85008101  connected to                              \n",
       "1       85004929     85021444  connected to                              \n",
       "2       85008443     85011025  connected to                              \n",
       "\n",
       "                                     sourceID  \n",
       "0  Paradise Papers - Aruba corporate registry  \n",
       "1  Paradise Papers - Aruba corporate registry  \n",
       "2  Paradise Papers - Aruba corporate registry  "
      ]
     },
     "execution_count": 24,
     "metadata": {},
     "output_type": "execute_result"
    }
   ],
   "source": [
    "data_file: pathlib.Path = TEMP_DIR / \"rel_connect.csv\"\n",
    "\n",
    "df: pd.DataFrame = pd.read_csv(\n",
    "    data_file,\n",
    "    header = 0,\n",
    "    low_memory = False,\n",
    ").fillna(\"\")\n",
    "\n",
    "df.head(3)"
   ]
  },
  {
   "cell_type": "code",
   "execution_count": 25,
   "id": "bfd75933-7488-4186-a5b5-841e48085064",
   "metadata": {
    "execution": {
     "iopub.execute_input": "2024-07-11T19:23:22.584925Z",
     "iopub.status.busy": "2024-07-11T19:23:22.584851Z",
     "iopub.status.idle": "2024-07-11T19:23:22.587363Z",
     "shell.execute_reply": "2024-07-11T19:23:22.587048Z",
     "shell.execute_reply.started": "2024-07-11T19:23:22.584918Z"
    }
   },
   "outputs": [
    {
     "data": {
      "text/plain": [
       "['node_id_start',\n",
       " 'node_id_end',\n",
       " 'link',\n",
       " 'status',\n",
       " 'start_date',\n",
       " 'end_date',\n",
       " 'sourceID']"
      ]
     },
     "execution_count": 25,
     "metadata": {},
     "output_type": "execute_result"
    }
   ],
   "source": [
    "list(df.columns)"
   ]
  },
  {
   "cell_type": "code",
   "execution_count": 26,
   "id": "9d65e8e5-55da-483c-9fc5-84444da5f4c8",
   "metadata": {
    "execution": {
     "iopub.execute_input": "2024-07-11T19:23:22.588110Z",
     "iopub.status.busy": "2024-07-11T19:23:22.587974Z",
     "iopub.status.idle": "2024-07-11T19:23:22.960217Z",
     "shell.execute_reply": "2024-07-11T19:23:22.959614Z",
     "shell.execute_reply.started": "2024-07-11T19:23:22.588097Z"
    }
   },
   "outputs": [
    {
     "name": "stderr",
     "output_type": "stream",
     "text": [
      "/Users/paco/src/ERKG/icij/venv/lib/python3.11/site-packages/numpy/core/fromnumeric.py:59: FutureWarning: 'DataFrame.swapaxes' is deprecated and will be removed in a future version. Please use 'DataFrame.transpose' instead.\n",
      "  return bound(*args, **kwds)\n",
      "chunks: 100%|████████████████████████████████████████████████████████████████████████████████████████████████████████████████████████████| 1/1 [00:00<00:00,  2.76it/s]\n"
     ]
    }
   ],
   "source": [
    "unwind_query: str = \"\"\"\n",
    "UNWIND $rows AS row\n",
    "CALL {\n",
    "  WITH row\n",
    "  MATCH\n",
    "    (src:Entity {node_id: row.node_id_start}),\n",
    "    (dst:Entity {node_id: row.node_id_end})\n",
    "  MERGE (src)-[:ConnectedTo {link: row.link, status: row.status, start_date: row.start_date, end_date: row.end_date, sourceID: row.sourceID}]->(dst)\n",
    "} IN TRANSACTIONS OF 5000 ROWS\n",
    "    \"\"\"\n",
    "\n",
    "load_neo4j_df(df, unwind_query)"
   ]
  },
  {
   "cell_type": "markdown",
   "id": "d975905d-dc81-435a-9bc7-05738c2bdbe8",
   "metadata": {},
   "source": [
    "### `Underlying` relations"
   ]
  },
  {
   "cell_type": "code",
   "execution_count": 27,
   "id": "6e676e34-eb8f-419a-a187-919f503988ba",
   "metadata": {
    "execution": {
     "iopub.execute_input": "2024-07-11T19:23:22.961167Z",
     "iopub.status.busy": "2024-07-11T19:23:22.961000Z",
     "iopub.status.idle": "2024-07-11T19:23:22.971121Z",
     "shell.execute_reply": "2024-07-11T19:23:22.970624Z",
     "shell.execute_reply.started": "2024-07-11T19:23:22.961152Z"
    }
   },
   "outputs": [
    {
     "data": {
      "text/html": [
       "<div>\n",
       "<style scoped>\n",
       "    .dataframe tbody tr th:only-of-type {\n",
       "        vertical-align: middle;\n",
       "    }\n",
       "\n",
       "    .dataframe tbody tr th {\n",
       "        vertical-align: top;\n",
       "    }\n",
       "\n",
       "    .dataframe thead th {\n",
       "        text-align: right;\n",
       "    }\n",
       "</style>\n",
       "<table border=\"1\" class=\"dataframe\">\n",
       "  <thead>\n",
       "    <tr style=\"text-align: right;\">\n",
       "      <th></th>\n",
       "      <th>node_id_start</th>\n",
       "      <th>node_id_end</th>\n",
       "      <th>link</th>\n",
       "      <th>status</th>\n",
       "      <th>start_date</th>\n",
       "      <th>end_date</th>\n",
       "      <th>sourceID</th>\n",
       "    </tr>\n",
       "  </thead>\n",
       "  <tbody>\n",
       "    <tr>\n",
       "      <th>0</th>\n",
       "      <td>51240</td>\n",
       "      <td>110010</td>\n",
       "      <td>Nominee Shareholder of</td>\n",
       "      <td></td>\n",
       "      <td></td>\n",
       "      <td></td>\n",
       "      <td>Offshore Leaks</td>\n",
       "    </tr>\n",
       "    <tr>\n",
       "      <th>1</th>\n",
       "      <td>51364</td>\n",
       "      <td>122604</td>\n",
       "      <td>Nominee Shareholder of</td>\n",
       "      <td></td>\n",
       "      <td></td>\n",
       "      <td></td>\n",
       "      <td>Offshore Leaks</td>\n",
       "    </tr>\n",
       "    <tr>\n",
       "      <th>2</th>\n",
       "      <td>51425</td>\n",
       "      <td>85812</td>\n",
       "      <td>Nominee Shareholder of</td>\n",
       "      <td></td>\n",
       "      <td></td>\n",
       "      <td></td>\n",
       "      <td>Offshore Leaks</td>\n",
       "    </tr>\n",
       "  </tbody>\n",
       "</table>\n",
       "</div>"
      ],
      "text/plain": [
       "   node_id_start  node_id_end                    link status start_date  \\\n",
       "0          51240       110010  Nominee Shareholder of                     \n",
       "1          51364       122604  Nominee Shareholder of                     \n",
       "2          51425        85812  Nominee Shareholder of                     \n",
       "\n",
       "  end_date        sourceID  \n",
       "0           Offshore Leaks  \n",
       "1           Offshore Leaks  \n",
       "2           Offshore Leaks  "
      ]
     },
     "execution_count": 27,
     "metadata": {},
     "output_type": "execute_result"
    }
   ],
   "source": [
    "data_file: pathlib.Path = TEMP_DIR / \"rel_underly.csv\"\n",
    "\n",
    "df: pd.DataFrame = pd.read_csv(\n",
    "    data_file,\n",
    "    header = 0,\n",
    "    low_memory = False,\n",
    ").fillna(\"\")\n",
    "\n",
    "df.head(3)"
   ]
  },
  {
   "cell_type": "code",
   "execution_count": 28,
   "id": "c268f243-ebbe-45df-8118-407d4b65d82d",
   "metadata": {
    "execution": {
     "iopub.execute_input": "2024-07-11T19:23:22.972319Z",
     "iopub.status.busy": "2024-07-11T19:23:22.972030Z",
     "iopub.status.idle": "2024-07-11T19:23:22.978934Z",
     "shell.execute_reply": "2024-07-11T19:23:22.978421Z",
     "shell.execute_reply.started": "2024-07-11T19:23:22.972298Z"
    }
   },
   "outputs": [
    {
     "data": {
      "text/plain": [
       "['node_id_start',\n",
       " 'node_id_end',\n",
       " 'link',\n",
       " 'status',\n",
       " 'start_date',\n",
       " 'end_date',\n",
       " 'sourceID']"
      ]
     },
     "execution_count": 28,
     "metadata": {},
     "output_type": "execute_result"
    }
   ],
   "source": [
    "list(df.columns)"
   ]
  },
  {
   "cell_type": "code",
   "execution_count": 29,
   "id": "3f6c0896-7341-43da-9e1e-d9cb3c2b5356",
   "metadata": {
    "execution": {
     "iopub.execute_input": "2024-07-11T19:23:22.980076Z",
     "iopub.status.busy": "2024-07-11T19:23:22.979819Z",
     "iopub.status.idle": "2024-07-11T19:23:23.053055Z",
     "shell.execute_reply": "2024-07-11T19:23:23.052702Z",
     "shell.execute_reply.started": "2024-07-11T19:23:22.980056Z"
    }
   },
   "outputs": [
    {
     "name": "stderr",
     "output_type": "stream",
     "text": [
      "/Users/paco/src/ERKG/icij/venv/lib/python3.11/site-packages/numpy/core/fromnumeric.py:59: FutureWarning: 'DataFrame.swapaxes' is deprecated and will be removed in a future version. Please use 'DataFrame.transpose' instead.\n",
      "  return bound(*args, **kwds)\n",
      "chunks: 100%|████████████████████████████████████████████████████████████████████████████████████████████████████████████████████████████| 1/1 [00:00<00:00, 14.63it/s]\n"
     ]
    }
   ],
   "source": [
    "unwind_query: str = \"\"\"\n",
    "UNWIND $rows AS row\n",
    "CALL {\n",
    "  WITH row\n",
    "  MATCH\n",
    "    (src:Entity {node_id: row.node_id_start}),\n",
    "    (dst:Entity {node_id: row.node_id_end})\n",
    "  MERGE (src)-[:Underlying {link: row.link, status: row.status, start_date: row.start_date, end_date: row.end_date, sourceID: row.sourceID}]->(dst)\n",
    "} IN TRANSACTIONS OF 5000 ROWS\n",
    "    \"\"\"\n",
    "\n",
    "load_neo4j_df(df, unwind_query)"
   ]
  },
  {
   "cell_type": "markdown",
   "id": "55dc7686-bfee-4e83-92ff-8f71a19e977f",
   "metadata": {},
   "source": [
    "### `AliasOfficer` relations"
   ]
  },
  {
   "cell_type": "code",
   "execution_count": 30,
   "id": "b6f5626a-3e42-4699-8aa3-2830b55bd609",
   "metadata": {
    "execution": {
     "iopub.execute_input": "2024-07-11T19:23:23.053831Z",
     "iopub.status.busy": "2024-07-11T19:23:23.053681Z",
     "iopub.status.idle": "2024-07-11T19:23:23.064708Z",
     "shell.execute_reply": "2024-07-11T19:23:23.064420Z",
     "shell.execute_reply.started": "2024-07-11T19:23:23.053818Z"
    }
   },
   "outputs": [
    {
     "data": {
      "text/html": [
       "<div>\n",
       "<style scoped>\n",
       "    .dataframe tbody tr th:only-of-type {\n",
       "        vertical-align: middle;\n",
       "    }\n",
       "\n",
       "    .dataframe tbody tr th {\n",
       "        vertical-align: top;\n",
       "    }\n",
       "\n",
       "    .dataframe thead th {\n",
       "        text-align: right;\n",
       "    }\n",
       "</style>\n",
       "<table border=\"1\" class=\"dataframe\">\n",
       "  <thead>\n",
       "    <tr style=\"text-align: right;\">\n",
       "      <th></th>\n",
       "      <th>node_id_start</th>\n",
       "      <th>node_id_end</th>\n",
       "      <th>link</th>\n",
       "      <th>status</th>\n",
       "      <th>start_date</th>\n",
       "      <th>end_date</th>\n",
       "      <th>sourceID</th>\n",
       "    </tr>\n",
       "  </thead>\n",
       "  <tbody>\n",
       "    <tr>\n",
       "      <th>0</th>\n",
       "      <td>59178341</td>\n",
       "      <td>59190179</td>\n",
       "      <td>same id as</td>\n",
       "      <td></td>\n",
       "      <td></td>\n",
       "      <td></td>\n",
       "      <td>Paradise Papers - Malta corporate registry</td>\n",
       "    </tr>\n",
       "    <tr>\n",
       "      <th>1</th>\n",
       "      <td>59181407</td>\n",
       "      <td>59108285</td>\n",
       "      <td>same id as</td>\n",
       "      <td></td>\n",
       "      <td></td>\n",
       "      <td></td>\n",
       "      <td>Paradise Papers - Malta corporate registry</td>\n",
       "    </tr>\n",
       "    <tr>\n",
       "      <th>2</th>\n",
       "      <td>56031433</td>\n",
       "      <td>56031434</td>\n",
       "      <td>same id as</td>\n",
       "      <td></td>\n",
       "      <td></td>\n",
       "      <td></td>\n",
       "      <td>Paradise Papers - Malta corporate registry</td>\n",
       "    </tr>\n",
       "  </tbody>\n",
       "</table>\n",
       "</div>"
      ],
      "text/plain": [
       "   node_id_start  node_id_end        link status start_date end_date  \\\n",
       "0       59178341     59190179  same id as                              \n",
       "1       59181407     59108285  same id as                              \n",
       "2       56031433     56031434  same id as                              \n",
       "\n",
       "                                     sourceID  \n",
       "0  Paradise Papers - Malta corporate registry  \n",
       "1  Paradise Papers - Malta corporate registry  \n",
       "2  Paradise Papers - Malta corporate registry  "
      ]
     },
     "execution_count": 30,
     "metadata": {},
     "output_type": "execute_result"
    }
   ],
   "source": [
    "data_file: pathlib.Path = TEMP_DIR / \"rel_same_officer.csv\"\n",
    "\n",
    "df: pd.DataFrame = pd.read_csv(\n",
    "    data_file,\n",
    "    header = 0,\n",
    "    low_memory = False,\n",
    ").fillna(\"\")\n",
    "\n",
    "df.head(3)"
   ]
  },
  {
   "cell_type": "code",
   "execution_count": 31,
   "id": "e076c756-4500-42c9-9eee-b87ec3200f66",
   "metadata": {
    "execution": {
     "iopub.execute_input": "2024-07-11T19:23:23.065519Z",
     "iopub.status.busy": "2024-07-11T19:23:23.065415Z",
     "iopub.status.idle": "2024-07-11T19:23:23.068579Z",
     "shell.execute_reply": "2024-07-11T19:23:23.068331Z",
     "shell.execute_reply.started": "2024-07-11T19:23:23.065510Z"
    }
   },
   "outputs": [
    {
     "data": {
      "text/plain": [
       "['node_id_start',\n",
       " 'node_id_end',\n",
       " 'link',\n",
       " 'status',\n",
       " 'start_date',\n",
       " 'end_date',\n",
       " 'sourceID']"
      ]
     },
     "execution_count": 31,
     "metadata": {},
     "output_type": "execute_result"
    }
   ],
   "source": [
    "list(df.columns)"
   ]
  },
  {
   "cell_type": "code",
   "execution_count": 32,
   "id": "149b83bf-2ccb-49a1-a8a1-fdd4ecf1bc93",
   "metadata": {
    "execution": {
     "iopub.execute_input": "2024-07-11T19:23:23.069140Z",
     "iopub.status.busy": "2024-07-11T19:23:23.069021Z",
     "iopub.status.idle": "2024-07-11T19:23:23.183300Z",
     "shell.execute_reply": "2024-07-11T19:23:23.182966Z",
     "shell.execute_reply.started": "2024-07-11T19:23:23.069133Z"
    }
   },
   "outputs": [
    {
     "name": "stderr",
     "output_type": "stream",
     "text": [
      "/Users/paco/src/ERKG/icij/venv/lib/python3.11/site-packages/numpy/core/fromnumeric.py:59: FutureWarning: 'DataFrame.swapaxes' is deprecated and will be removed in a future version. Please use 'DataFrame.transpose' instead.\n",
      "  return bound(*args, **kwds)\n",
      "chunks: 100%|████████████████████████████████████████████████████████████████████████████████████████████████████████████████████████████| 1/1 [00:00<00:00,  9.23it/s]\n"
     ]
    }
   ],
   "source": [
    "unwind_query: str = \"\"\"\n",
    "UNWIND $rows AS row\n",
    "CALL {\n",
    "  WITH row\n",
    "  MATCH\n",
    "    (src:Entity {node_id: row.node_id_start}),\n",
    "    (dst:Entity {node_id: row.node_id_end})\n",
    "  MERGE (src)-[:AliasOfficer {link: row.link, status: row.status, start_date: row.start_date, end_date: row.end_date, sourceID: row.sourceID}]->(dst)\n",
    "} IN TRANSACTIONS OF 5000 ROWS\n",
    "    \"\"\"\n",
    "\n",
    "load_neo4j_df(df, unwind_query)"
   ]
  },
  {
   "cell_type": "code",
   "execution_count": 33,
   "id": "affa5e49-bf47-4b0e-8b77-20e96bd597d3",
   "metadata": {
    "execution": {
     "iopub.execute_input": "2024-07-11T19:23:23.183989Z",
     "iopub.status.busy": "2024-07-11T19:23:23.183883Z",
     "iopub.status.idle": "2024-07-11T19:23:23.186046Z",
     "shell.execute_reply": "2024-07-11T19:23:23.185602Z",
     "shell.execute_reply.started": "2024-07-11T19:23:23.183978Z"
    }
   },
   "outputs": [],
   "source": [
    "### `AliasLocation` relations"
   ]
  },
  {
   "cell_type": "code",
   "execution_count": 34,
   "id": "e555115c-9ae7-460a-b109-8ee9a547ce65",
   "metadata": {
    "execution": {
     "iopub.execute_input": "2024-07-11T19:23:23.186673Z",
     "iopub.status.busy": "2024-07-11T19:23:23.186523Z",
     "iopub.status.idle": "2024-07-11T19:23:23.192003Z",
     "shell.execute_reply": "2024-07-11T19:23:23.191801Z",
     "shell.execute_reply.started": "2024-07-11T19:23:23.186662Z"
    }
   },
   "outputs": [
    {
     "data": {
      "text/html": [
       "<div>\n",
       "<style scoped>\n",
       "    .dataframe tbody tr th:only-of-type {\n",
       "        vertical-align: middle;\n",
       "    }\n",
       "\n",
       "    .dataframe tbody tr th {\n",
       "        vertical-align: top;\n",
       "    }\n",
       "\n",
       "    .dataframe thead th {\n",
       "        text-align: right;\n",
       "    }\n",
       "</style>\n",
       "<table border=\"1\" class=\"dataframe\">\n",
       "  <thead>\n",
       "    <tr style=\"text-align: right;\">\n",
       "      <th></th>\n",
       "      <th>node_id_start</th>\n",
       "      <th>node_id_end</th>\n",
       "      <th>link</th>\n",
       "      <th>status</th>\n",
       "      <th>start_date</th>\n",
       "      <th>end_date</th>\n",
       "      <th>sourceID</th>\n",
       "    </tr>\n",
       "  </thead>\n",
       "  <tbody>\n",
       "    <tr>\n",
       "      <th>0</th>\n",
       "      <td>24000030</td>\n",
       "      <td>14035591</td>\n",
       "      <td>same address as</td>\n",
       "      <td></td>\n",
       "      <td></td>\n",
       "      <td></td>\n",
       "      <td>Bahamas Leaks</td>\n",
       "    </tr>\n",
       "    <tr>\n",
       "      <th>1</th>\n",
       "      <td>24000086</td>\n",
       "      <td>14077570</td>\n",
       "      <td>same address as</td>\n",
       "      <td></td>\n",
       "      <td></td>\n",
       "      <td></td>\n",
       "      <td>Bahamas Leaks</td>\n",
       "    </tr>\n",
       "    <tr>\n",
       "      <th>2</th>\n",
       "      <td>24000090</td>\n",
       "      <td>14077931</td>\n",
       "      <td>same address as</td>\n",
       "      <td></td>\n",
       "      <td></td>\n",
       "      <td></td>\n",
       "      <td>Bahamas Leaks</td>\n",
       "    </tr>\n",
       "  </tbody>\n",
       "</table>\n",
       "</div>"
      ],
      "text/plain": [
       "   node_id_start  node_id_end             link status start_date end_date  \\\n",
       "0       24000030     14035591  same address as                              \n",
       "1       24000086     14077570  same address as                              \n",
       "2       24000090     14077931  same address as                              \n",
       "\n",
       "        sourceID  \n",
       "0  Bahamas Leaks  \n",
       "1  Bahamas Leaks  \n",
       "2  Bahamas Leaks  "
      ]
     },
     "execution_count": 34,
     "metadata": {},
     "output_type": "execute_result"
    }
   ],
   "source": [
    "data_file: pathlib.Path = TEMP_DIR / \"rel_same_loc.csv\"\n",
    "\n",
    "df: pd.DataFrame = pd.read_csv(\n",
    "    data_file,\n",
    "    header = 0,\n",
    "    low_memory = False,\n",
    ").fillna(\"\")\n",
    "\n",
    "df.head(3)"
   ]
  },
  {
   "cell_type": "code",
   "execution_count": 35,
   "id": "9c5aa9df-c64c-493f-b01a-64fa33862a19",
   "metadata": {
    "execution": {
     "iopub.execute_input": "2024-07-11T19:23:23.192561Z",
     "iopub.status.busy": "2024-07-11T19:23:23.192439Z",
     "iopub.status.idle": "2024-07-11T19:23:23.194590Z",
     "shell.execute_reply": "2024-07-11T19:23:23.194348Z",
     "shell.execute_reply.started": "2024-07-11T19:23:23.192554Z"
    }
   },
   "outputs": [
    {
     "data": {
      "text/plain": [
       "['node_id_start',\n",
       " 'node_id_end',\n",
       " 'link',\n",
       " 'status',\n",
       " 'start_date',\n",
       " 'end_date',\n",
       " 'sourceID']"
      ]
     },
     "execution_count": 35,
     "metadata": {},
     "output_type": "execute_result"
    }
   ],
   "source": [
    "list(df.columns)"
   ]
  },
  {
   "cell_type": "code",
   "execution_count": 36,
   "id": "3fd63635-9e12-4043-a89d-32f3b10c4d16",
   "metadata": {
    "execution": {
     "iopub.execute_input": "2024-07-11T19:23:23.195199Z",
     "iopub.status.busy": "2024-07-11T19:23:23.195126Z",
     "iopub.status.idle": "2024-07-11T19:23:23.226073Z",
     "shell.execute_reply": "2024-07-11T19:23:23.225853Z",
     "shell.execute_reply.started": "2024-07-11T19:23:23.195192Z"
    }
   },
   "outputs": [
    {
     "name": "stderr",
     "output_type": "stream",
     "text": [
      "/Users/paco/src/ERKG/icij/venv/lib/python3.11/site-packages/numpy/core/fromnumeric.py:59: FutureWarning: 'DataFrame.swapaxes' is deprecated and will be removed in a future version. Please use 'DataFrame.transpose' instead.\n",
      "  return bound(*args, **kwds)\n",
      "chunks: 100%|████████████████████████████████████████████████████████████████████████████████████████████████████████████████████████████| 1/1 [00:00<00:00, 35.75it/s]\n"
     ]
    }
   ],
   "source": [
    "unwind_query: str = \"\"\"\n",
    "UNWIND $rows AS row\n",
    "CALL {\n",
    "  WITH row\n",
    "  MATCH\n",
    "    (src:Entity {node_id: row.node_id_start}),\n",
    "    (dst:Entity {node_id: row.node_id_end})\n",
    "  MERGE (src)-[:AliasLocation {link: row.link, status: row.status, start_date: row.start_date, end_date: row.end_date, sourceID: row.sourceID}]->(dst)\n",
    "} IN TRANSACTIONS OF 5000 ROWS\n",
    "    \"\"\"\n",
    "\n",
    "load_neo4j_df(df, unwind_query)"
   ]
  }
 ],
 "metadata": {
  "kernelspec": {
   "display_name": "Python 3 (ipykernel)",
   "language": "python",
   "name": "python3"
  },
  "language_info": {
   "codemirror_mode": {
    "name": "ipython",
    "version": 3
   },
   "file_extension": ".py",
   "mimetype": "text/x-python",
   "name": "python",
   "nbconvert_exporter": "python",
   "pygments_lexer": "ipython3",
   "version": "3.11.9"
  }
 },
 "nbformat": 4,
 "nbformat_minor": 5
}
