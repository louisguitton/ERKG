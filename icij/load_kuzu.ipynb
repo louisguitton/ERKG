{
 "cells": [
  {
   "cell_type": "markdown",
   "id": "87d03950-26e3-4a01-906c-4fcae6b250d4",
   "metadata": {},
   "source": [
    "# ICIJ analysis: load KùzuDB"
   ]
  },
  {
   "cell_type": "markdown",
   "id": "8ff268dd-175c-4495-8c56-202c7b3553f7",
   "metadata": {},
   "source": [
    "## Set up"
   ]
  },
  {
   "cell_type": "markdown",
   "id": "a8f9008b-16dd-451a-8b65-fdb0cfc60422",
   "metadata": {},
   "source": [
    "Load the Python dependencies."
   ]
  },
  {
   "cell_type": "code",
   "execution_count": 1,
   "id": "8438a9b9-0008-4c03-a0b1-01052a16f39b",
   "metadata": {
    "execution": {
     "iopub.execute_input": "2024-07-08T16:43:42.242613Z",
     "iopub.status.busy": "2024-07-08T16:43:42.242464Z",
     "iopub.status.idle": "2024-07-08T16:43:42.516589Z",
     "shell.execute_reply": "2024-07-08T16:43:42.512583Z",
     "shell.execute_reply.started": "2024-07-08T16:43:42.242598Z"
    }
   },
   "outputs": [],
   "source": [
    "import pathlib\n",
    "import typing\n",
    "\n",
    "from icecream import ic\n",
    "import kuzu\n",
    "import pandas as pd\n",
    "import watermark\n",
    "\n",
    "%load_ext watermark"
   ]
  },
  {
   "cell_type": "code",
   "execution_count": 2,
   "id": "88148b53-7d00-4aa4-ad24-3ac35af0c958",
   "metadata": {
    "execution": {
     "iopub.execute_input": "2024-07-08T16:43:42.521043Z",
     "iopub.status.busy": "2024-07-08T16:43:42.518955Z",
     "iopub.status.idle": "2024-07-08T16:43:42.532703Z",
     "shell.execute_reply": "2024-07-08T16:43:42.532272Z",
     "shell.execute_reply.started": "2024-07-08T16:43:42.521020Z"
    }
   },
   "outputs": [
    {
     "name": "stdout",
     "output_type": "stream",
     "text": [
      "Last updated: 2024-07-08T09:43:42.522841-07:00\n",
      "\n",
      "Python implementation: CPython\n",
      "Python version       : 3.11.9\n",
      "IPython version      : 8.26.0\n",
      "\n",
      "Compiler    : Clang 13.0.0 (clang-1300.0.29.30)\n",
      "OS          : Darwin\n",
      "Release     : 23.5.0\n",
      "Machine     : arm64\n",
      "Processor   : arm\n",
      "CPU cores   : 14\n",
      "Architecture: 64bit\n",
      "\n",
      "pandas   : 2.2.2\n",
      "kuzu     : 0.4.2\n",
      "watermark: 2.4.3\n",
      "\n"
     ]
    }
   ],
   "source": [
    "%watermark\n",
    "%watermark --iversions"
   ]
  },
  {
   "cell_type": "markdown",
   "id": "cb9fcd10-bdd9-4b21-9062-0a808533da82",
   "metadata": {},
   "source": [
    "Create a KùzuDB database and establish a connection."
   ]
  },
  {
   "cell_type": "code",
   "execution_count": 3,
   "id": "faac2ff2-29d4-4a25-aefd-3d804177e2c7",
   "metadata": {
    "execution": {
     "iopub.execute_input": "2024-07-08T16:43:42.533333Z",
     "iopub.status.busy": "2024-07-08T16:43:42.533246Z",
     "iopub.status.idle": "2024-07-08T16:43:42.658887Z",
     "shell.execute_reply": "2024-07-08T16:43:42.658508Z",
     "shell.execute_reply.started": "2024-07-08T16:43:42.533323Z"
    }
   },
   "outputs": [],
   "source": [
    "!rm -rf ./demo"
   ]
  },
  {
   "cell_type": "code",
   "execution_count": 4,
   "id": "7eca743b-bae0-4210-b772-a2578dd50892",
   "metadata": {
    "execution": {
     "iopub.execute_input": "2024-07-08T16:43:42.659666Z",
     "iopub.status.busy": "2024-07-08T16:43:42.659593Z",
     "iopub.status.idle": "2024-07-08T16:43:42.671013Z",
     "shell.execute_reply": "2024-07-08T16:43:42.670755Z",
     "shell.execute_reply.started": "2024-07-08T16:43:42.659656Z"
    }
   },
   "outputs": [],
   "source": [
    "db: kuzu.database.Database = kuzu.Database(\"./demo\")\n",
    "conn: kuzu.database.Database = kuzu.Connection(db)"
   ]
  },
  {
   "cell_type": "code",
   "execution_count": 5,
   "id": "cbb6bccf-9651-4538-bd80-8e8fa80330f7",
   "metadata": {
    "execution": {
     "iopub.execute_input": "2024-07-08T16:43:42.671514Z",
     "iopub.status.busy": "2024-07-08T16:43:42.671444Z",
     "iopub.status.idle": "2024-07-08T16:43:42.673242Z",
     "shell.execute_reply": "2024-07-08T16:43:42.672989Z",
     "shell.execute_reply.started": "2024-07-08T16:43:42.671507Z"
    }
   },
   "outputs": [],
   "source": [
    "TEMP_DIR: pathlib.Path = pathlib.Path(\"temp\")"
   ]
  },
  {
   "cell_type": "markdown",
   "id": "b8d61437-4cf1-4545-8195-c3e0023b34ba",
   "metadata": {},
   "source": [
    "## Schema definitions"
   ]
  },
  {
   "cell_type": "markdown",
   "id": "fbba0309-c203-4c39-b118-708521bae591",
   "metadata": {},
   "source": [
    "### `Entity` nodes"
   ]
  },
  {
   "cell_type": "markdown",
   "id": "0af027ea-fec3-4918-917b-bb7177247ab8",
   "metadata": {},
   "source": [
    "After iterating the first time through this analysis, we return to this point and redefine an `Entity` node structure which is a superset of the fields defined among all of the Entity-ish nodes in ICIJ.\n",
    "See <https://docs.google.com/spreadsheets/d/1eSelhXhix_DtTZuzR2vfl_UdQlEwbwql6NZxqrtROxk/edit?usp=sharing>"
   ]
  },
  {
   "cell_type": "code",
   "execution_count": 6,
   "id": "b01b884e-9286-4e28-9c04-afabcb460b6b",
   "metadata": {
    "execution": {
     "iopub.execute_input": "2024-07-08T16:43:42.674927Z",
     "iopub.status.busy": "2024-07-08T16:43:42.674838Z",
     "iopub.status.idle": "2024-07-08T16:43:42.690852Z",
     "shell.execute_reply": "2024-07-08T16:43:42.690623Z",
     "shell.execute_reply.started": "2024-07-08T16:43:42.674920Z"
    }
   },
   "outputs": [],
   "source": [
    "conn.execute(\"\"\"\n",
    "  CREATE NODE TABLE Entity (\n",
    "    node_id STRING,\n",
    "    role STRING,\n",
    "    name STRING,\n",
    "    original_name STRING,\n",
    "    former_name STRING,\n",
    "    jurisdiction STRING,\n",
    "    jurisdiction_description STRING,\n",
    "    company_type STRING,\n",
    "    address STRING,\n",
    "    internal_id STRING,\n",
    "    incorporation_date STRING,\n",
    "    inactivation_date STRING,\n",
    "    struck_off_date STRING,\n",
    "    dorm_date STRING,\n",
    "    status STRING,\n",
    "    service_provider STRING,\n",
    "    ibcRUC STRING,\n",
    "    country_codes STRING,\n",
    "    countries STRING,\n",
    "    sourceID STRING,\n",
    "    valid_until STRING,\n",
    "    note STRING,\n",
    "    vague BOOLEAN,\n",
    "    PRIMARY KEY (node_id)\n",
    "  )\n",
    "\"\"\");"
   ]
  },
  {
   "cell_type": "code",
   "execution_count": 7,
   "id": "a70d9883-8496-4326-9400-9c55afec486a",
   "metadata": {
    "execution": {
     "iopub.execute_input": "2024-07-08T16:43:42.691348Z",
     "iopub.status.busy": "2024-07-08T16:43:42.691280Z",
     "iopub.status.idle": "2024-07-08T16:43:43.728873Z",
     "shell.execute_reply": "2024-07-08T16:43:43.728562Z",
     "shell.execute_reply.started": "2024-07-08T16:43:42.691341Z"
    }
   },
   "outputs": [],
   "source": [
    "conn.execute(\"\"\"\n",
    "    COPY Entity FROM \"./temp/entity.1.csv\" (header=true, escape='\"', parallel=False)\n",
    "\"\"\");"
   ]
  },
  {
   "cell_type": "code",
   "execution_count": 8,
   "id": "5b2eaf1c-5fbb-4bcd-91d4-ae449b5df5e2",
   "metadata": {
    "execution": {
     "iopub.execute_input": "2024-07-08T16:43:43.729288Z",
     "iopub.status.busy": "2024-07-08T16:43:43.729222Z",
     "iopub.status.idle": "2024-07-08T16:43:44.472218Z",
     "shell.execute_reply": "2024-07-08T16:43:44.471945Z",
     "shell.execute_reply.started": "2024-07-08T16:43:43.729281Z"
    }
   },
   "outputs": [],
   "source": [
    "conn.execute(\"\"\"\n",
    "    COPY Entity FROM \"./temp/entity.2.csv\" (header=true, escape='\"', parallel=False)\n",
    "\"\"\");"
   ]
  },
  {
   "cell_type": "code",
   "execution_count": 9,
   "id": "94e74a79-99e3-4b43-acd9-60abb7a1cb85",
   "metadata": {
    "execution": {
     "iopub.execute_input": "2024-07-08T16:43:44.472654Z",
     "iopub.status.busy": "2024-07-08T16:43:44.472587Z",
     "iopub.status.idle": "2024-07-08T16:43:44.629565Z",
     "shell.execute_reply": "2024-07-08T16:43:44.629196Z",
     "shell.execute_reply.started": "2024-07-08T16:43:44.472647Z"
    }
   },
   "outputs": [],
   "source": [
    "conn.execute(\"\"\"\n",
    "    COPY Entity FROM \"./temp/entity.3.csv\" (header=true, escape='\"', parallel=False)\n",
    "\"\"\");"
   ]
  },
  {
   "cell_type": "code",
   "execution_count": 10,
   "id": "2b8edeb1-b0b3-435d-8a73-2d8cbe68a5c7",
   "metadata": {
    "execution": {
     "iopub.execute_input": "2024-07-08T16:43:44.630092Z",
     "iopub.status.busy": "2024-07-08T16:43:44.630015Z",
     "iopub.status.idle": "2024-07-08T16:43:44.694819Z",
     "shell.execute_reply": "2024-07-08T16:43:44.694574Z",
     "shell.execute_reply.started": "2024-07-08T16:43:44.630083Z"
    }
   },
   "outputs": [],
   "source": [
    "conn.execute(\"\"\"\n",
    "    COPY Entity FROM \"./temp/entity.4.csv\" (header=true, escape='\"', parallel=False)\n",
    "\"\"\");"
   ]
  },
  {
   "cell_type": "code",
   "execution_count": 11,
   "id": "812dff09-e42c-4490-951f-e190fd263649",
   "metadata": {
    "execution": {
     "iopub.execute_input": "2024-07-08T16:43:44.695239Z",
     "iopub.status.busy": "2024-07-08T16:43:44.695152Z",
     "iopub.status.idle": "2024-07-08T16:43:44.787971Z",
     "shell.execute_reply": "2024-07-08T16:43:44.787523Z",
     "shell.execute_reply.started": "2024-07-08T16:43:44.695232Z"
    }
   },
   "outputs": [
    {
     "name": "stderr",
     "output_type": "stream",
     "text": [
      "ic| results.get_next(): [{'_id': {'offset': 16384, 'table': 0},\n",
      "                          '_label': 'Entity',\n",
      "                          'address': 'Portcullis TrustNet Chambers P.O. Box 3444 Road Town, Tortola '\n",
      "                                     'BRITISH VIRGIN ISLANDS',\n",
      "                          'company_type': 'Business Company Limited by Shares',\n",
      "                          'countries': 'British Virgin Islands',\n",
      "                          'country_codes': 'VGB',\n",
      "                          'dorm_date': None,\n",
      "                          'former_name': None,\n",
      "                          'ibcRUC': '1524901',\n",
      "                          'inactivation_date': None,\n",
      "                          'incorporation_date': '18-MAR-2009',\n",
      "                          'internal_id': None,\n",
      "                          'jurisdiction': 'BVI',\n",
      "                          'jurisdiction_description': 'British Virgin Islands',\n",
      "                          'name': 'N.P. Rugs Industries Limited',\n",
      "                          'node_id': '160609',\n",
      "                          'note': None,\n",
      "                          'original_name': None,\n",
      "                          'role': 'Entity',\n",
      "                          'service_provider': 'Portcullis Trustnet',\n",
      "                          'sourceID': 'Offshore Leaks',\n",
      "                          'status': 'Active',\n",
      "                          'struck_off_date': None,\n",
      "                          'vague': False,\n",
      "                          'valid_until': 'The Offshore Leaks data is current through 2010'}]\n"
     ]
    }
   ],
   "source": [
    "results = conn.execute(\"\"\"\n",
    "  MATCH (n:Entity)\n",
    "  RETURN *\n",
    "  LIMIT 1;\n",
    "\"\"\")\n",
    "\n",
    "while results.has_next():\n",
    "    ic(results.get_next())"
   ]
  },
  {
   "cell_type": "markdown",
   "id": "beeeb4bd-9bdb-4e0f-9329-41477f49e9b3",
   "metadata": {},
   "source": [
    "How many `Entity` nodes have been loaded?"
   ]
  },
  {
   "cell_type": "code",
   "execution_count": 12,
   "id": "7b0401ee-14ea-45d5-b321-ba12788e72b5",
   "metadata": {
    "execution": {
     "iopub.execute_input": "2024-07-08T16:43:44.788516Z",
     "iopub.status.busy": "2024-07-08T16:43:44.788442Z",
     "iopub.status.idle": "2024-07-08T16:43:44.798273Z",
     "shell.execute_reply": "2024-07-08T16:43:44.797966Z",
     "shell.execute_reply.started": "2024-07-08T16:43:44.788509Z"
    }
   },
   "outputs": [
    {
     "name": "stderr",
     "output_type": "stream",
     "text": [
      "ic| row[0]: 1613491\n"
     ]
    }
   ],
   "source": [
    "results = conn.execute(\"\"\"\n",
    "  MATCH (n:Entity)\n",
    "  RETURN COUNT(*)\n",
    "\"\"\")\n",
    "\n",
    "while results.has_next():\n",
    "    row = results.get_next()\n",
    "    ic(row[0])"
   ]
  },
  {
   "cell_type": "markdown",
   "id": "ad013f69-c342-466f-95b0-42ed83668849",
   "metadata": {},
   "source": [
    "Compare with the `node_id` values in the CSV files"
   ]
  },
  {
   "cell_type": "code",
   "execution_count": 13,
   "id": "a83519e2-3dc2-4d86-8131-46c2f81626a6",
   "metadata": {
    "execution": {
     "iopub.execute_input": "2024-07-08T16:43:44.798742Z",
     "iopub.status.busy": "2024-07-08T16:43:44.798653Z",
     "iopub.status.idle": "2024-07-08T16:43:45.319115Z",
     "shell.execute_reply": "2024-07-08T16:43:45.318779Z",
     "shell.execute_reply.started": "2024-07-08T16:43:44.798732Z"
    }
   },
   "outputs": [
    {
     "name": "stdout",
     "output_type": "stream",
     "text": [
      "  814617 temp/entity.1.csv\n",
      "  771369 temp/entity.2.csv\n",
      "   25636 temp/entity.3.csv\n",
      "    2990 temp/entity.4.csv\n",
      " 1614612 total\n"
     ]
    }
   ],
   "source": [
    "!wc -l temp/entity.*.csv"
   ]
  },
  {
   "cell_type": "markdown",
   "id": "8363ca1b-3ee3-4e51-b52c-92ae566b8f48",
   "metadata": {},
   "source": [
    "`(1614612-4)-1613491 = 1117` missing records?"
   ]
  },
  {
   "cell_type": "code",
   "execution_count": 14,
   "id": "bf7307b6-4f7f-493c-a9fc-9fe167a3df7d",
   "metadata": {
    "execution": {
     "iopub.execute_input": "2024-07-08T16:43:45.319905Z",
     "iopub.status.busy": "2024-07-08T16:43:45.319801Z",
     "iopub.status.idle": "2024-07-08T16:43:46.342790Z",
     "shell.execute_reply": "2024-07-08T16:43:46.342506Z",
     "shell.execute_reply.started": "2024-07-08T16:43:45.319891Z"
    }
   },
   "outputs": [
    {
     "data": {
      "text/plain": [
       "1613491"
      ]
     },
     "execution_count": 14,
     "metadata": {},
     "output_type": "execute_result"
    }
   ],
   "source": [
    "nodes_kuzu: typing.Set[ str ] = set()\n",
    "\n",
    "results = conn.execute(\"\"\"\n",
    "  MATCH (n:Entity)\n",
    "  RETURN n.node_id\n",
    "\"\"\")\n",
    "\n",
    "while results.has_next():\n",
    "    row = results.get_next()\n",
    "    nodes_kuzu.add(str(row[0]))\n",
    "\n",
    "len(nodes_kuzu)"
   ]
  },
  {
   "cell_type": "code",
   "execution_count": 15,
   "id": "884f326d-f83f-45d7-a010-3a25f3531f32",
   "metadata": {
    "execution": {
     "iopub.execute_input": "2024-07-08T16:43:46.343455Z",
     "iopub.status.busy": "2024-07-08T16:43:46.343368Z",
     "iopub.status.idle": "2024-07-08T16:43:54.152942Z",
     "shell.execute_reply": "2024-07-08T16:43:54.152621Z",
     "shell.execute_reply.started": "2024-07-08T16:43:46.343448Z"
    }
   },
   "outputs": [
    {
     "data": {
      "text/plain": [
       "1614277"
      ]
     },
     "execution_count": 15,
     "metadata": {},
     "output_type": "execute_result"
    }
   ],
   "source": [
    "nodes_file: typing.Set[ str ] = set()\n",
    "\n",
    "files: typing.List[ str ] = [\n",
    "    \"entity.1.csv\",\n",
    "    \"entity.2.csv\",\n",
    "    \"entity.3.csv\",\n",
    "    \"entity.4.csv\",\n",
    "]\n",
    "\n",
    "for file in files:\n",
    "    data_file: pathlib.Path = TEMP_DIR / file\n",
    "\n",
    "    df: pd.DataFrame = pd.read_csv(\n",
    "        data_file,\n",
    "        header = 0,\n",
    "        low_memory = False,\n",
    "    ).astype(str).fillna(\"\")\n",
    "\n",
    "    nodes_file = nodes_file.union(set(df.node_id.values))\n",
    "\n",
    "len(nodes_file)"
   ]
  },
  {
   "cell_type": "markdown",
   "id": "a9b526fe-3467-4fa4-b633-3a699a9e765a",
   "metadata": {},
   "source": [
    "How many missing `node_id` values?"
   ]
  },
  {
   "cell_type": "code",
   "execution_count": 16,
   "id": "515af2e6-ce3e-429e-81a3-1af2ee09057b",
   "metadata": {
    "execution": {
     "iopub.execute_input": "2024-07-08T16:43:54.153487Z",
     "iopub.status.busy": "2024-07-08T16:43:54.153412Z",
     "iopub.status.idle": "2024-07-08T16:43:54.156299Z",
     "shell.execute_reply": "2024-07-08T16:43:54.155965Z",
     "shell.execute_reply.started": "2024-07-08T16:43:54.153480Z"
    }
   },
   "outputs": [
    {
     "data": {
      "text/plain": [
       "786"
      ]
     },
     "execution_count": 16,
     "metadata": {},
     "output_type": "execute_result"
    }
   ],
   "source": [
    "len(nodes_file) - len(nodes_kuzu)"
   ]
  },
  {
   "cell_type": "code",
   "execution_count": 17,
   "id": "bb5384df-0628-4fcf-ae84-5c5a1474b4e4",
   "metadata": {
    "execution": {
     "iopub.execute_input": "2024-07-08T16:43:54.156750Z",
     "iopub.status.busy": "2024-07-08T16:43:54.156658Z",
     "iopub.status.idle": "2024-07-08T16:43:54.230363Z",
     "shell.execute_reply": "2024-07-08T16:43:54.229982Z",
     "shell.execute_reply.started": "2024-07-08T16:43:54.156721Z"
    },
    "scrolled": true
   },
   "outputs": [
    {
     "data": {
      "text/plain": [
       "{'10002052',\n",
       " '10004114',\n",
       " '10006180',\n",
       " '10008247',\n",
       " '10010339',\n",
       " '10012409',\n",
       " '10014467',\n",
       " '10016554',\n",
       " '10018596',\n",
       " '10020664',\n",
       " '10022729',\n",
       " '10024787',\n",
       " '10026845',\n",
       " '10028897',\n",
       " '100301499',\n",
       " '100304018',\n",
       " '100307887',\n",
       " '10030949',\n",
       " '100313694',\n",
       " '100318478',\n",
       " '100322246',\n",
       " '100325611',\n",
       " '100329133',\n",
       " '10033011',\n",
       " '100332718',\n",
       " '100336773',\n",
       " '100340520',\n",
       " '10035063',\n",
       " '10037127',\n",
       " '10039177',\n",
       " '10041241',\n",
       " '10043289',\n",
       " '10045417',\n",
       " '10047431',\n",
       " '10049507',\n",
       " '10051580',\n",
       " '10053657',\n",
       " '10055705',\n",
       " '10061494',\n",
       " '100629143',\n",
       " '10063402',\n",
       " '10065286',\n",
       " '10067218',\n",
       " '10071120',\n",
       " '10071989',\n",
       " '10073099',\n",
       " '10075025',\n",
       " '10076993',\n",
       " '10078965',\n",
       " '10080919',\n",
       " '10080931',\n",
       " '10082935',\n",
       " '10084945',\n",
       " '10086903',\n",
       " '10088865',\n",
       " '10090823',\n",
       " '10092829',\n",
       " '10094801',\n",
       " '10096775',\n",
       " '10098819',\n",
       " '10100877',\n",
       " '10102904',\n",
       " '10104906',\n",
       " '10106948',\n",
       " '10108967',\n",
       " '10111009',\n",
       " '10113030',\n",
       " '10115046',\n",
       " '10117094',\n",
       " '10119171',\n",
       " '10121249',\n",
       " '10123372',\n",
       " '10125481',\n",
       " '10127637',\n",
       " '10129513',\n",
       " '10129752',\n",
       " '101300733',\n",
       " '10131894',\n",
       " '101339',\n",
       " '10133992',\n",
       " '10136119',\n",
       " '10138194',\n",
       " '10140295',\n",
       " '10142390',\n",
       " '10144443',\n",
       " '10146498',\n",
       " '10148545',\n",
       " '10150598',\n",
       " '101511090',\n",
       " '10152682',\n",
       " '10154771',\n",
       " '10157098',\n",
       " '10159951',\n",
       " '10162280',\n",
       " '10164329',\n",
       " '10166376',\n",
       " '10168427',\n",
       " '10170473',\n",
       " '101705679',\n",
       " '101713372',\n",
       " '101722008',\n",
       " '10172525',\n",
       " '101730061',\n",
       " '101736155',\n",
       " '10174573',\n",
       " '10176620',\n",
       " '10178772',\n",
       " '10180721',\n",
       " '101826893',\n",
       " '10182770',\n",
       " '10184819',\n",
       " '10186862',\n",
       " '10188917',\n",
       " '10190962',\n",
       " '10193011',\n",
       " '10195055',\n",
       " '10197847',\n",
       " '10199064',\n",
       " '10201048',\n",
       " '10203592',\n",
       " '10205137',\n",
       " '10207354',\n",
       " '10209450',\n",
       " '10211570',\n",
       " '10213621',\n",
       " '104027',\n",
       " '107750',\n",
       " '108139',\n",
       " '110000583',\n",
       " '110002148',\n",
       " '110004556',\n",
       " '110007817',\n",
       " '110009031',\n",
       " '110010979',\n",
       " '110012905',\n",
       " '110014381',\n",
       " '110017925',\n",
       " '11002043',\n",
       " '110023367',\n",
       " '110023606',\n",
       " '110023657',\n",
       " '110025837',\n",
       " '110026281',\n",
       " '110032324',\n",
       " '110032404',\n",
       " '110034428',\n",
       " '110035824',\n",
       " '110036408',\n",
       " '110041351',\n",
       " '11004194',\n",
       " '110042280',\n",
       " '110042570',\n",
       " '110047233',\n",
       " '110051302',\n",
       " '110052556',\n",
       " '110052792',\n",
       " '110053883',\n",
       " '110054997',\n",
       " '110055656',\n",
       " '110058870',\n",
       " '110059571',\n",
       " '110061142',\n",
       " '11006147',\n",
       " '110064901',\n",
       " '110068507',\n",
       " '110069686',\n",
       " '110072629',\n",
       " '110072889',\n",
       " '110072909',\n",
       " '110073439',\n",
       " '110075432',\n",
       " '110078459',\n",
       " '11008196',\n",
       " '110087098',\n",
       " '110087767',\n",
       " '110090327',\n",
       " '110092172',\n",
       " '110093259',\n",
       " '110097928',\n",
       " '110099280',\n",
       " '110101470',\n",
       " '11010245',\n",
       " '110105980',\n",
       " '110106198',\n",
       " '110107379',\n",
       " '110108203',\n",
       " '110108712',\n",
       " '110115990',\n",
       " '110116362',\n",
       " '110117389',\n",
       " '110120127',\n",
       " '110120264',\n",
       " '110123073',\n",
       " '11012314',\n",
       " '110123931',\n",
       " '110124031',\n",
       " '110124372',\n",
       " '112813',\n",
       " '113215',\n",
       " '114635',\n",
       " '117145',\n",
       " '118301',\n",
       " '12000785',\n",
       " '12004563',\n",
       " '12006612',\n",
       " '12008661',\n",
       " '12010710',\n",
       " '12012759',\n",
       " '12014808',\n",
       " '12016857',\n",
       " '12018906',\n",
       " '12020955',\n",
       " '12023000',\n",
       " '12025053',\n",
       " '12027102',\n",
       " '12029151',\n",
       " '12031200',\n",
       " '12033249',\n",
       " '12035298',\n",
       " '12037347',\n",
       " '12039396',\n",
       " '12041445',\n",
       " '12043491',\n",
       " '12045543',\n",
       " '12047592',\n",
       " '12049641',\n",
       " '12051690',\n",
       " '12053739',\n",
       " '12055788',\n",
       " '12057837',\n",
       " '12059886',\n",
       " '12061935',\n",
       " '12063984',\n",
       " '12066033',\n",
       " '12068082',\n",
       " '12070131',\n",
       " '12072180',\n",
       " '12074229',\n",
       " '12076278',\n",
       " '12078327',\n",
       " '12080376',\n",
       " '12082425',\n",
       " '12084475',\n",
       " '12086523',\n",
       " '12088572',\n",
       " '12090621',\n",
       " '12092670',\n",
       " '12094719',\n",
       " '12096682',\n",
       " '12098715',\n",
       " '12100668',\n",
       " '12102795',\n",
       " '12104928',\n",
       " '12106808',\n",
       " '12108786',\n",
       " '12110854',\n",
       " '12112943',\n",
       " '12114931',\n",
       " '12116924',\n",
       " '12118961',\n",
       " '12121038',\n",
       " '12123102',\n",
       " '12125181',\n",
       " '12127070',\n",
       " '12129069',\n",
       " '12131150',\n",
       " '12134669',\n",
       " '12136551',\n",
       " '12138627',\n",
       " '12140652',\n",
       " '12142694',\n",
       " '12144753',\n",
       " '12146742',\n",
       " '12148761',\n",
       " '12150594',\n",
       " '12152564',\n",
       " '12154587',\n",
       " '12158525',\n",
       " '12160675',\n",
       " '12163014',\n",
       " '12165077',\n",
       " '12167259',\n",
       " '12169463',\n",
       " '12171614',\n",
       " '12171892',\n",
       " '12173779',\n",
       " '12175887',\n",
       " '12177991',\n",
       " '12180073',\n",
       " '12182163',\n",
       " '12184261',\n",
       " '12186316',\n",
       " '12188404',\n",
       " '12190470',\n",
       " '12192544',\n",
       " '12194663',\n",
       " '12196743',\n",
       " '12198823',\n",
       " '12201019',\n",
       " '12202979',\n",
       " '12205066',\n",
       " '12207132',\n",
       " '12209210',\n",
       " '12210496',\n",
       " '12211282',\n",
       " '12213897',\n",
       " '12215480',\n",
       " '12217552',\n",
       " '12219618',\n",
       " '122200',\n",
       " '12221523',\n",
       " '12223722',\n",
       " '122895',\n",
       " '12604',\n",
       " '126559',\n",
       " '128212',\n",
       " '128996',\n",
       " '13000147',\n",
       " '13000235',\n",
       " '13002285',\n",
       " '13004973',\n",
       " '13007022',\n",
       " '13009071',\n",
       " '13011120',\n",
       " '132362',\n",
       " '137525',\n",
       " '139700',\n",
       " '140846',\n",
       " '14092',\n",
       " '141063',\n",
       " '142221',\n",
       " '145131',\n",
       " '147300',\n",
       " '151845',\n",
       " '153079',\n",
       " '153649',\n",
       " '156743',\n",
       " '157587',\n",
       " '1583',\n",
       " '160250',\n",
       " '160285',\n",
       " '162015',\n",
       " '163155',\n",
       " '164923',\n",
       " '167813',\n",
       " '169760',\n",
       " '172196',\n",
       " '174858',\n",
       " '175445',\n",
       " '176932',\n",
       " '187388',\n",
       " '188790',\n",
       " '192013',\n",
       " '194521',\n",
       " '194781',\n",
       " '197482',\n",
       " '198132',\n",
       " '198733',\n",
       " '20001788',\n",
       " '20005288',\n",
       " '20008486',\n",
       " '20009110',\n",
       " '2000960',\n",
       " '200101367',\n",
       " '200103423',\n",
       " '200105478',\n",
       " '200107534',\n",
       " '200109583',\n",
       " '20011118',\n",
       " '200111634',\n",
       " '200113695',\n",
       " '200115763',\n",
       " '200117815',\n",
       " '20011821',\n",
       " '200119866',\n",
       " '20012171',\n",
       " '200121974',\n",
       " '200124036',\n",
       " '200126088',\n",
       " '200128158',\n",
       " '200130208',\n",
       " '200132265',\n",
       " '200134320',\n",
       " '200136382',\n",
       " '200138431',\n",
       " '200140488',\n",
       " '200142545',\n",
       " '200144600',\n",
       " '200146709',\n",
       " '2001628',\n",
       " '20017014',\n",
       " '20018121',\n",
       " '20020699',\n",
       " '20023297',\n",
       " '20023484',\n",
       " '20024433',\n",
       " '20027760',\n",
       " '20031608',\n",
       " '20031990',\n",
       " '20034969',\n",
       " '20038455',\n",
       " '20041616',\n",
       " '20042399',\n",
       " '20043079',\n",
       " '20043646',\n",
       " '20044542',\n",
       " '20045001',\n",
       " '20048516',\n",
       " '20048683',\n",
       " '200500912',\n",
       " '200502966',\n",
       " '200505095',\n",
       " '200507152',\n",
       " '20050887',\n",
       " '200509207',\n",
       " '20051007',\n",
       " '200511260',\n",
       " '200513315',\n",
       " '200515364',\n",
       " '200517414',\n",
       " '20054568',\n",
       " '20056390',\n",
       " '20060442',\n",
       " '20063288',\n",
       " '20069330',\n",
       " '20069938',\n",
       " '20071649',\n",
       " '20071946',\n",
       " '20074736',\n",
       " '20075487',\n",
       " '20078990',\n",
       " '200801231',\n",
       " '200803285',\n",
       " '20081273',\n",
       " '20082998',\n",
       " '20084384',\n",
       " '20088688',\n",
       " '20092353',\n",
       " '20093998',\n",
       " '20094379',\n",
       " '20095720',\n",
       " '20096989',\n",
       " '20097860',\n",
       " '20101970',\n",
       " '20102418',\n",
       " '20105150',\n",
       " '20107528',\n",
       " '20110513',\n",
       " '20111545',\n",
       " '20113362',\n",
       " '20117250',\n",
       " '20119672',\n",
       " '20120049',\n",
       " '20123536',\n",
       " '20125308',\n",
       " '20125858',\n",
       " '20127229',\n",
       " '20130395',\n",
       " '20132988',\n",
       " '20133370',\n",
       " '20135859',\n",
       " '20138397',\n",
       " '20139993',\n",
       " '20141650',\n",
       " '20144318',\n",
       " '20146932',\n",
       " '20149207',\n",
       " '20151140',\n",
       " '20153013',\n",
       " '20155864',\n",
       " '20158451',\n",
       " '20160189',\n",
       " '20161695',\n",
       " '20163059',\n",
       " '20165437',\n",
       " '20165639',\n",
       " '20169847',\n",
       " '20172900',\n",
       " '20174139',\n",
       " '20175530',\n",
       " '202681',\n",
       " '202724',\n",
       " '205533',\n",
       " '207309',\n",
       " '207718',\n",
       " '210872',\n",
       " '211080',\n",
       " '214025',\n",
       " '214239',\n",
       " '217506',\n",
       " '21797',\n",
       " '22001202',\n",
       " '22004983',\n",
       " '22005721',\n",
       " '22006391',\n",
       " '22009446',\n",
       " '22010906',\n",
       " '22011700',\n",
       " '22015000',\n",
       " '22017360',\n",
       " '22020531',\n",
       " '22023120',\n",
       " '22024579',\n",
       " '221703',\n",
       " '222851',\n",
       " '226558',\n",
       " '227338',\n",
       " '230000048',\n",
       " '23000042',\n",
       " '231837',\n",
       " '23203',\n",
       " '233267',\n",
       " '23848',\n",
       " '240021307',\n",
       " '240021647',\n",
       " '240023022',\n",
       " '240026907',\n",
       " '240031108',\n",
       " '240031921',\n",
       " '240045945',\n",
       " '240047569',\n",
       " '240049818',\n",
       " '240052367',\n",
       " '240055938',\n",
       " '240056630',\n",
       " '240057702',\n",
       " '240082203',\n",
       " '240082966',\n",
       " '240100020',\n",
       " '240102163',\n",
       " '240105251',\n",
       " '240120570',\n",
       " '240131677',\n",
       " '240211115',\n",
       " '240220132',\n",
       " '240221587',\n",
       " '240241130',\n",
       " '240300522',\n",
       " '240301143',\n",
       " '240370270',\n",
       " '240380182',\n",
       " '240400250',\n",
       " '240461200',\n",
       " '240470213',\n",
       " '240476129',\n",
       " '240476482',\n",
       " '240477959',\n",
       " '240500283',\n",
       " '240513268',\n",
       " '240514283',\n",
       " '240552658',\n",
       " '24318',\n",
       " '27809',\n",
       " '28318',\n",
       " '290143',\n",
       " '293353',\n",
       " '296825',\n",
       " '29985',\n",
       " '30000584',\n",
       " '30003747',\n",
       " '30008407',\n",
       " '30010916',\n",
       " '30013256',\n",
       " '30015492',\n",
       " '30017580',\n",
       " '30019695',\n",
       " '30021867',\n",
       " '38380',\n",
       " '39226',\n",
       " '39922',\n",
       " '41440',\n",
       " '45001287',\n",
       " '46000492',\n",
       " '46372',\n",
       " '47823',\n",
       " '49287',\n",
       " '49716',\n",
       " '5357',\n",
       " '53815',\n",
       " '54359',\n",
       " '55000280',\n",
       " '55002519',\n",
       " '55004717',\n",
       " '55006864',\n",
       " '55009003',\n",
       " '55011124',\n",
       " '55013233',\n",
       " '55015353',\n",
       " '55017465',\n",
       " '55019560',\n",
       " '55021659',\n",
       " '55023772',\n",
       " '55025890',\n",
       " '55027996',\n",
       " '55030087',\n",
       " '55032196',\n",
       " '55034321',\n",
       " '55036397',\n",
       " '55038473',\n",
       " '55040545',\n",
       " '55042635',\n",
       " '55044712',\n",
       " '55046793',\n",
       " '55048859',\n",
       " '55050931',\n",
       " '55053003',\n",
       " '55055070',\n",
       " '55057135',\n",
       " '55059201',\n",
       " '55061268',\n",
       " '55063346',\n",
       " '55065420',\n",
       " '55067501',\n",
       " '55069578',\n",
       " '55071648',\n",
       " '55073771',\n",
       " '55077106',\n",
       " '55079329',\n",
       " '55081513',\n",
       " '55083572',\n",
       " '55087285',\n",
       " '55459',\n",
       " '56000033',\n",
       " '56004533',\n",
       " '56005369',\n",
       " '56007255',\n",
       " '56007316',\n",
       " '56009030',\n",
       " '56013046',\n",
       " '56014240',\n",
       " '56017623',\n",
       " '56021575',\n",
       " '56021670',\n",
       " '56023626',\n",
       " '56025368',\n",
       " '56030402',\n",
       " '56031694',\n",
       " '56033636',\n",
       " '56034257',\n",
       " '56038315',\n",
       " '56038671',\n",
       " '56039419',\n",
       " '56039427',\n",
       " '56039770',\n",
       " '56042845',\n",
       " '56042912',\n",
       " '56042922',\n",
       " '56048132',\n",
       " '56050677',\n",
       " '56050877',\n",
       " '56051866',\n",
       " '56054349',\n",
       " '56056117',\n",
       " '56062582',\n",
       " '56063081',\n",
       " '56063929',\n",
       " '56072132',\n",
       " '56072589',\n",
       " '56073330',\n",
       " '56075324',\n",
       " '56077122',\n",
       " '56078593',\n",
       " '56079220',\n",
       " '56080518',\n",
       " '56086979',\n",
       " '56088232',\n",
       " '56094040',\n",
       " '56094511',\n",
       " '56098869',\n",
       " '56099900',\n",
       " '56100576',\n",
       " '56102481',\n",
       " '56103908',\n",
       " '56104873',\n",
       " '56105732',\n",
       " '565',\n",
       " '57977',\n",
       " '59162096',\n",
       " '59420',\n",
       " '66002213',\n",
       " '66003010',\n",
       " '66004636',\n",
       " '67989',\n",
       " '70375',\n",
       " '70994',\n",
       " '75331',\n",
       " '77309',\n",
       " '78045',\n",
       " '80006544',\n",
       " '80024336',\n",
       " '80032462',\n",
       " '80033909',\n",
       " '80035834',\n",
       " '80040341',\n",
       " '80044735',\n",
       " '80046428',\n",
       " '80051078',\n",
       " '80056185',\n",
       " '80056867',\n",
       " '80063270',\n",
       " '80065532',\n",
       " '80069297',\n",
       " '80075588',\n",
       " '80076454',\n",
       " '80080812',\n",
       " '80086521',\n",
       " '80087185',\n",
       " '80091784',\n",
       " '80096261',\n",
       " '80099341',\n",
       " '80099811',\n",
       " '80101829',\n",
       " '80107747',\n",
       " '80110011',\n",
       " '80113644',\n",
       " '80119535',\n",
       " '80119723',\n",
       " '80125516',\n",
       " '80128879',\n",
       " '80130314',\n",
       " '80130998',\n",
       " '80136706',\n",
       " '80139558',\n",
       " '80140827',\n",
       " '80143026',\n",
       " '80145242',\n",
       " '82001978',\n",
       " '82004266',\n",
       " '82006642',\n",
       " '82009499',\n",
       " '82010553',\n",
       " '82011499',\n",
       " '82017132',\n",
       " '82020826',\n",
       " '82022521',\n",
       " '82022607',\n",
       " '82025342',\n",
       " '82025906',\n",
       " '82059',\n",
       " '83111',\n",
       " '83397',\n",
       " '85001165',\n",
       " '85003308',\n",
       " '85004129',\n",
       " '85006565',\n",
       " '85009271',\n",
       " '85010996',\n",
       " '85013247',\n",
       " '85015325',\n",
       " '85017408',\n",
       " '85019496',\n",
       " '85021589',\n",
       " '85023669',\n",
       " '85025758',\n",
       " '85027854',\n",
       " '85029947',\n",
       " '85032040',\n",
       " '85034130',\n",
       " '85036223',\n",
       " '85038312',\n",
       " '85040431',\n",
       " '85042535',\n",
       " '85044629',\n",
       " '85046730',\n",
       " '85048833',\n",
       " '85146',\n",
       " '86000864',\n",
       " '86002914',\n",
       " '86004963',\n",
       " '86007014',\n",
       " '86009064',\n",
       " '86011116',\n",
       " '86013167',\n",
       " '86015216',\n",
       " '86017266',\n",
       " '86019315',\n",
       " '86021365',\n",
       " '86023415',\n",
       " '86025464',\n",
       " '86027515',\n",
       " '86029565',\n",
       " '87668',\n",
       " '88362',\n",
       " '96013',\n",
       " '97474',\n",
       " '9992'}"
      ]
     },
     "execution_count": 17,
     "metadata": {},
     "output_type": "execute_result"
    }
   ],
   "source": [
    "nodes_missing = nodes_file - nodes_kuzu\n",
    "nodes_missing"
   ]
  },
  {
   "cell_type": "markdown",
   "id": "c2103e02-78ae-4088-88d8-42b8d207ea0e",
   "metadata": {},
   "source": [
    "### `Address` nodes"
   ]
  },
  {
   "cell_type": "code",
   "execution_count": 18,
   "id": "2d7f5aa9-84a2-407a-87aa-046dad537f67",
   "metadata": {
    "execution": {
     "iopub.execute_input": "2024-07-08T16:43:54.230959Z",
     "iopub.status.busy": "2024-07-08T16:43:54.230823Z",
     "iopub.status.idle": "2024-07-08T16:43:54.243901Z",
     "shell.execute_reply": "2024-07-08T16:43:54.243639Z",
     "shell.execute_reply.started": "2024-07-08T16:43:54.230945Z"
    }
   },
   "outputs": [],
   "source": [
    "conn.execute(\"\"\"\n",
    "  CREATE NODE TABLE Address (\n",
    "    node_id STRING,\n",
    "    address STRING,\n",
    "    name STRING,\n",
    "    countries STRING,\n",
    "    country_codes STRING,\n",
    "    sourceID STRING,\n",
    "    valid_until STRING,\n",
    "    note STRING,\n",
    "    PRIMARY KEY (node_id)\n",
    "  )\n",
    "\"\"\");"
   ]
  },
  {
   "cell_type": "code",
   "execution_count": 19,
   "id": "2972fd11-14c8-4fe2-987e-8ee135f016d2",
   "metadata": {
    "execution": {
     "iopub.execute_input": "2024-07-08T16:43:54.244327Z",
     "iopub.status.busy": "2024-07-08T16:43:54.244259Z",
     "iopub.status.idle": "2024-07-08T16:43:54.587560Z",
     "shell.execute_reply": "2024-07-08T16:43:54.587314Z",
     "shell.execute_reply.started": "2024-07-08T16:43:54.244321Z"
    }
   },
   "outputs": [],
   "source": [
    "conn.execute(\"\"\"\n",
    "    COPY Address FROM \"./temp/addr.csv\" (header=true, escape='\"', parallel=False)\n",
    "\"\"\");"
   ]
  },
  {
   "cell_type": "code",
   "execution_count": 20,
   "id": "192020a0-702f-48bc-bc67-f0bcd6e7eb2b",
   "metadata": {
    "execution": {
     "iopub.execute_input": "2024-07-08T16:43:54.588087Z",
     "iopub.status.busy": "2024-07-08T16:43:54.588011Z",
     "iopub.status.idle": "2024-07-08T16:43:54.645095Z",
     "shell.execute_reply": "2024-07-08T16:43:54.644854Z",
     "shell.execute_reply.started": "2024-07-08T16:43:54.588080Z"
    }
   },
   "outputs": [
    {
     "name": "stderr",
     "output_type": "stream",
     "text": [
      "ic| results.get_next(): [{'_id': {'offset': 8192, 'table': 1},\n",
      "                          '_label': 'Address',\n",
      "                          'address': '5A,Evagora Palikaridi, Engomi,P.C.2430, Nicosia ,Cyprus.',\n",
      "                          'countries': 'Cyprus',\n",
      "                          'country_codes': 'CYP',\n",
      "                          'name': None,\n",
      "                          'node_id': '235652',\n",
      "                          'note': None,\n",
      "                          'sourceID': 'Offshore Leaks',\n",
      "                          'valid_until': 'The Offshore Leaks data is current through 2010'}]\n"
     ]
    }
   ],
   "source": [
    "results = conn.execute(\"\"\"\n",
    "  MATCH (n:Address)\n",
    "  RETURN *\n",
    "  LIMIT 1;\n",
    "\"\"\")\n",
    "\n",
    "while results.has_next():\n",
    "    ic(results.get_next())"
   ]
  },
  {
   "cell_type": "markdown",
   "id": "313da68b-4d47-43d4-9e83-7862c6fe7cf5",
   "metadata": {},
   "source": [
    "### `OfficerOf` relations"
   ]
  },
  {
   "cell_type": "code",
   "execution_count": 21,
   "id": "3ea69a05-5a9c-4024-b6f8-d3b1163d55f1",
   "metadata": {
    "execution": {
     "iopub.execute_input": "2024-07-08T16:43:54.648395Z",
     "iopub.status.busy": "2024-07-08T16:43:54.648262Z",
     "iopub.status.idle": "2024-07-08T16:43:54.651816Z",
     "shell.execute_reply": "2024-07-08T16:43:54.651541Z",
     "shell.execute_reply.started": "2024-07-08T16:43:54.648385Z"
    }
   },
   "outputs": [],
   "source": [
    "conn.execute(\"\"\"\n",
    "  CREATE REL TABLE OfficerOf (FROM Entity TO Entity,\n",
    "    link STRING,\n",
    "    status STRING,\n",
    "    start_date STRING,\n",
    "    end_date STRING,\n",
    "    sourceID STRING,\n",
    "    MANY_MANY\n",
    "  )\n",
    "\"\"\");"
   ]
  },
  {
   "cell_type": "code",
   "execution_count": 22,
   "id": "0ffc9e58-2378-41a8-ba48-a9ecd640a2ef",
   "metadata": {
    "execution": {
     "iopub.execute_input": "2024-07-08T16:43:54.652242Z",
     "iopub.status.busy": "2024-07-08T16:43:54.652174Z",
     "iopub.status.idle": "2024-07-08T16:43:54.668469Z",
     "shell.execute_reply": "2024-07-08T16:43:54.668194Z",
     "shell.execute_reply.started": "2024-07-08T16:43:54.652235Z"
    }
   },
   "outputs": [
    {
     "name": "stderr",
     "output_type": "stream",
     "text": [
      "ic| ex: RuntimeError('Runtime exception: Unable to find primary key value 12004238.')\n",
      "ic| node_id: '12004238', node_id in nodes_missing: False\n"
     ]
    }
   ],
   "source": [
    "try:\n",
    "    conn.execute(\"\"\"\n",
    "        COPY OfficerOf FROM \"./temp/rel_officer.csv\" (header=true, escape='\"', parallel=False)\n",
    "    \"\"\");\n",
    "except Exception as ex:\n",
    "    ic(ex)\n",
    "    node_id = str(getattr(ex, \"message\", repr(ex)).split(\" \")[-1].strip(\".')\"))\n",
    "    ic(node_id, node_id in nodes_missing)"
   ]
  },
  {
   "cell_type": "markdown",
   "id": "c4d81ebf-c548-4ad3-91e5-98cd52c9cd2c",
   "metadata": {},
   "source": [
    "### `RegisteredAddress` relations"
   ]
  },
  {
   "cell_type": "code",
   "execution_count": 23,
   "id": "c765d515-bcd0-4187-be7f-99aff3ba1a9c",
   "metadata": {
    "execution": {
     "iopub.execute_input": "2024-07-08T16:43:54.669077Z",
     "iopub.status.busy": "2024-07-08T16:43:54.668994Z",
     "iopub.status.idle": "2024-07-08T16:43:54.672644Z",
     "shell.execute_reply": "2024-07-08T16:43:54.672406Z",
     "shell.execute_reply.started": "2024-07-08T16:43:54.669071Z"
    }
   },
   "outputs": [],
   "source": [
    "conn.execute(\"\"\"\n",
    "  CREATE REL TABLE RegisteredAddress (FROM Entity TO Address,\n",
    "    link STRING,\n",
    "    status STRING,\n",
    "    start_date STRING,\n",
    "    end_date STRING,\n",
    "    sourceID STRING,\n",
    "    MANY_MANY\n",
    "  )\n",
    "\"\"\");"
   ]
  },
  {
   "cell_type": "code",
   "execution_count": 24,
   "id": "756965f8-9074-41d4-b969-54b1a2acaa5c",
   "metadata": {
    "execution": {
     "iopub.execute_input": "2024-07-08T16:43:54.673236Z",
     "iopub.status.busy": "2024-07-08T16:43:54.673166Z",
     "iopub.status.idle": "2024-07-08T16:43:54.687307Z",
     "shell.execute_reply": "2024-07-08T16:43:54.687068Z",
     "shell.execute_reply.started": "2024-07-08T16:43:54.673228Z"
    }
   },
   "outputs": [
    {
     "name": "stderr",
     "output_type": "stream",
     "text": [
      "ic| ex: RuntimeError('Runtime exception: Unable to find primary key value 10012730.')\n",
      "ic| node_id: '10012730', node_id in nodes_missing: False\n"
     ]
    }
   ],
   "source": [
    "try:\n",
    "    conn.execute(\"\"\"\n",
    "        COPY OfficerOf FROM \"./temp/rel_regaddr.csv\" (header=true, escape='\"', parallel=False)\n",
    "    \"\"\");\n",
    "except Exception as ex:\n",
    "    ic(ex)\n",
    "    node_id = str(getattr(ex, \"message\", repr(ex)).split(\" \")[-1].strip(\".')\"))\n",
    "    ic(node_id, node_id in nodes_missing)"
   ]
  }
 ],
 "metadata": {
  "kernelspec": {
   "display_name": "Python 3 (ipykernel)",
   "language": "python",
   "name": "python3"
  },
  "language_info": {
   "codemirror_mode": {
    "name": "ipython",
    "version": 3
   },
   "file_extension": ".py",
   "mimetype": "text/x-python",
   "name": "python",
   "nbconvert_exporter": "python",
   "pygments_lexer": "ipython3",
   "version": "3.11.9"
  }
 },
 "nbformat": 4,
 "nbformat_minor": 5
}
