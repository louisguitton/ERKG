{
 "cells": [
  {
   "cell_type": "markdown",
   "id": "87d03950-26e3-4a01-906c-4fcae6b250d4",
   "metadata": {},
   "source": [
    "# ICIJ analysis: load KùzuDB"
   ]
  },
  {
   "cell_type": "markdown",
   "id": "8ff268dd-175c-4495-8c56-202c7b3553f7",
   "metadata": {},
   "source": [
    "## Set up"
   ]
  },
  {
   "cell_type": "markdown",
   "id": "a8f9008b-16dd-451a-8b65-fdb0cfc60422",
   "metadata": {},
   "source": [
    "Load the Python dependencies."
   ]
  },
  {
   "cell_type": "code",
   "execution_count": 1,
   "id": "8438a9b9-0008-4c03-a0b1-01052a16f39b",
   "metadata": {
    "execution": {
     "iopub.execute_input": "2024-07-09T01:49:45.152300Z",
     "iopub.status.busy": "2024-07-09T01:49:45.151920Z",
     "iopub.status.idle": "2024-07-09T01:49:45.404089Z",
     "shell.execute_reply": "2024-07-09T01:49:45.402411Z",
     "shell.execute_reply.started": "2024-07-09T01:49:45.152278Z"
    }
   },
   "outputs": [],
   "source": [
    "import pathlib\n",
    "import typing\n",
    "\n",
    "from icecream import ic\n",
    "import kuzu\n",
    "import pandas as pd\n",
    "import watermark\n",
    "\n",
    "%load_ext watermark"
   ]
  },
  {
   "cell_type": "code",
   "execution_count": 2,
   "id": "88148b53-7d00-4aa4-ad24-3ac35af0c958",
   "metadata": {
    "execution": {
     "iopub.execute_input": "2024-07-09T01:49:46.089860Z",
     "iopub.status.busy": "2024-07-09T01:49:46.089257Z",
     "iopub.status.idle": "2024-07-09T01:49:46.111475Z",
     "shell.execute_reply": "2024-07-09T01:49:46.110894Z",
     "shell.execute_reply.started": "2024-07-09T01:49:46.089824Z"
    }
   },
   "outputs": [
    {
     "name": "stdout",
     "output_type": "stream",
     "text": [
      "Last updated: 2024-07-08T18:49:46.091796-07:00\n",
      "\n",
      "Python implementation: CPython\n",
      "Python version       : 3.11.9\n",
      "IPython version      : 8.26.0\n",
      "\n",
      "Compiler    : Clang 13.0.0 (clang-1300.0.29.30)\n",
      "OS          : Darwin\n",
      "Release     : 23.5.0\n",
      "Machine     : arm64\n",
      "Processor   : arm\n",
      "CPU cores   : 14\n",
      "Architecture: 64bit\n",
      "\n",
      "watermark: 2.4.3\n",
      "kuzu     : 0.4.3.dev49\n",
      "pandas   : 2.2.2\n",
      "\n"
     ]
    }
   ],
   "source": [
    "%watermark\n",
    "%watermark --iversions"
   ]
  },
  {
   "cell_type": "markdown",
   "id": "cb9fcd10-bdd9-4b21-9062-0a808533da82",
   "metadata": {},
   "source": [
    "Create a KùzuDB database and establish a connection."
   ]
  },
  {
   "cell_type": "code",
   "execution_count": 3,
   "id": "faac2ff2-29d4-4a25-aefd-3d804177e2c7",
   "metadata": {
    "execution": {
     "iopub.execute_input": "2024-07-09T01:49:47.085442Z",
     "iopub.status.busy": "2024-07-09T01:49:47.084833Z",
     "iopub.status.idle": "2024-07-09T01:49:47.225977Z",
     "shell.execute_reply": "2024-07-09T01:49:47.224549Z",
     "shell.execute_reply.started": "2024-07-09T01:49:47.085397Z"
    }
   },
   "outputs": [],
   "source": [
    "!rm -rf ./demo"
   ]
  },
  {
   "cell_type": "code",
   "execution_count": 4,
   "id": "7eca743b-bae0-4210-b772-a2578dd50892",
   "metadata": {
    "execution": {
     "iopub.execute_input": "2024-07-09T01:49:47.733386Z",
     "iopub.status.busy": "2024-07-09T01:49:47.732931Z",
     "iopub.status.idle": "2024-07-09T01:49:47.780780Z",
     "shell.execute_reply": "2024-07-09T01:49:47.780372Z",
     "shell.execute_reply.started": "2024-07-09T01:49:47.733359Z"
    }
   },
   "outputs": [],
   "source": [
    "db: kuzu.database.Database = kuzu.Database(\"./demo\")\n",
    "conn: kuzu.database.Database = kuzu.Connection(db)"
   ]
  },
  {
   "cell_type": "code",
   "execution_count": 5,
   "id": "cbb6bccf-9651-4538-bd80-8e8fa80330f7",
   "metadata": {
    "execution": {
     "iopub.execute_input": "2024-07-09T01:49:48.344489Z",
     "iopub.status.busy": "2024-07-09T01:49:48.344016Z",
     "iopub.status.idle": "2024-07-09T01:49:48.348779Z",
     "shell.execute_reply": "2024-07-09T01:49:48.347843Z",
     "shell.execute_reply.started": "2024-07-09T01:49:48.344457Z"
    }
   },
   "outputs": [],
   "source": [
    "TEMP_DIR: pathlib.Path = pathlib.Path(\"temp\")"
   ]
  },
  {
   "cell_type": "markdown",
   "id": "b8d61437-4cf1-4545-8195-c3e0023b34ba",
   "metadata": {},
   "source": [
    "## Schema definitions"
   ]
  },
  {
   "cell_type": "markdown",
   "id": "fbba0309-c203-4c39-b118-708521bae591",
   "metadata": {},
   "source": [
    "### `Entity` nodes"
   ]
  },
  {
   "cell_type": "markdown",
   "id": "0af027ea-fec3-4918-917b-bb7177247ab8",
   "metadata": {},
   "source": [
    "After iterating the first time through this analysis, we return to this point and redefine an `Entity` node structure which is a superset of the fields defined among all of the Entity-ish nodes in ICIJ.\n",
    "See <https://docs.google.com/spreadsheets/d/1eSelhXhix_DtTZuzR2vfl_UdQlEwbwql6NZxqrtROxk/edit?usp=sharing>"
   ]
  },
  {
   "cell_type": "code",
   "execution_count": 6,
   "id": "b01b884e-9286-4e28-9c04-afabcb460b6b",
   "metadata": {
    "execution": {
     "iopub.execute_input": "2024-07-09T01:49:50.736815Z",
     "iopub.status.busy": "2024-07-09T01:49:50.736363Z",
     "iopub.status.idle": "2024-07-09T01:49:50.768915Z",
     "shell.execute_reply": "2024-07-09T01:49:50.768524Z",
     "shell.execute_reply.started": "2024-07-09T01:49:50.736791Z"
    }
   },
   "outputs": [],
   "source": [
    "conn.execute(\"\"\"\n",
    "  CREATE NODE TABLE Entity (\n",
    "    node_id STRING,\n",
    "    role STRING,\n",
    "    name STRING,\n",
    "    original_name STRING,\n",
    "    former_name STRING,\n",
    "    jurisdiction STRING,\n",
    "    jurisdiction_description STRING,\n",
    "    company_type STRING,\n",
    "    address STRING,\n",
    "    internal_id STRING,\n",
    "    incorporation_date STRING,\n",
    "    inactivation_date STRING,\n",
    "    struck_off_date STRING,\n",
    "    dorm_date STRING,\n",
    "    status STRING,\n",
    "    service_provider STRING,\n",
    "    ibcRUC STRING,\n",
    "    country_codes STRING,\n",
    "    countries STRING,\n",
    "    sourceID STRING,\n",
    "    valid_until STRING,\n",
    "    note STRING,\n",
    "    vague BOOLEAN,\n",
    "    PRIMARY KEY (node_id)\n",
    "  )\n",
    "\"\"\");"
   ]
  },
  {
   "cell_type": "markdown",
   "id": "3ff18db1-a565-4daa-a97a-4a658b3a24f7",
   "metadata": {
    "execution": {
     "iopub.execute_input": "2024-07-08T19:27:43.544484Z",
     "iopub.status.busy": "2024-07-08T19:27:43.543917Z",
     "iopub.status.idle": "2024-07-08T19:27:43.552743Z",
     "shell.execute_reply": "2024-07-08T19:27:43.551753Z",
     "shell.execute_reply.started": "2024-07-08T19:27:43.544447Z"
    }
   },
   "source": [
    "Temporary workaround prior to KùzuDB release 0.5.0:\n",
    "\n",
    "  * concatenate the four CSV files into one"
   ]
  },
  {
   "cell_type": "code",
   "execution_count": 7,
   "id": "bdc06f30-2581-43d6-94e7-24c8a61fdd8d",
   "metadata": {
    "execution": {
     "iopub.execute_input": "2024-07-09T01:49:52.172215Z",
     "iopub.status.busy": "2024-07-09T01:49:52.171624Z",
     "iopub.status.idle": "2024-07-09T01:49:57.367128Z",
     "shell.execute_reply": "2024-07-09T01:49:57.366465Z",
     "shell.execute_reply.started": "2024-07-09T01:49:52.172177Z"
    }
   },
   "outputs": [],
   "source": [
    "!cp ./temp/entity.1.csv ./temp/entity.all.csv\n",
    "!tail -n +2 ./temp/entity.2.csv >> ./temp/entity.all.csv\n",
    "!tail -n +2 ./temp/entity.3.csv >> ./temp/entity.all.csv\n",
    "!tail -n +2 ./temp/entity.4.csv >> ./temp/entity.all.csv"
   ]
  },
  {
   "cell_type": "code",
   "execution_count": 8,
   "id": "997e6fd9-6bc2-491f-9fd1-a49c99165f82",
   "metadata": {
    "execution": {
     "iopub.execute_input": "2024-07-09T01:49:57.880155Z",
     "iopub.status.busy": "2024-07-09T01:49:57.879383Z",
     "iopub.status.idle": "2024-07-09T01:49:58.394525Z",
     "shell.execute_reply": "2024-07-09T01:49:58.393987Z",
     "shell.execute_reply.started": "2024-07-09T01:49:57.880102Z"
    }
   },
   "outputs": [
    {
     "name": "stdout",
     "output_type": "stream",
     "text": [
      "  814617 ./temp/entity.1.csv\n",
      "  771369 ./temp/entity.2.csv\n",
      "   25636 ./temp/entity.3.csv\n",
      "    2990 ./temp/entity.4.csv\n",
      " 1614612 total\n"
     ]
    }
   ],
   "source": [
    "!wc -l ./temp/entity.?.csv"
   ]
  },
  {
   "cell_type": "code",
   "execution_count": 9,
   "id": "a73343c7-4a11-4089-b68b-468848c05cf3",
   "metadata": {
    "execution": {
     "iopub.execute_input": "2024-07-09T01:49:58.402050Z",
     "iopub.status.busy": "2024-07-09T01:49:58.401839Z",
     "iopub.status.idle": "2024-07-09T01:49:58.869570Z",
     "shell.execute_reply": "2024-07-09T01:49:58.869068Z",
     "shell.execute_reply.started": "2024-07-09T01:49:58.402028Z"
    }
   },
   "outputs": [
    {
     "name": "stdout",
     "output_type": "stream",
     "text": [
      " 1614609 ./temp/entity.all.csv\n"
     ]
    }
   ],
   "source": [
    "!wc -l ./temp/entity.all.csv"
   ]
  },
  {
   "cell_type": "code",
   "execution_count": 10,
   "id": "a70d9883-8496-4326-9400-9c55afec486a",
   "metadata": {
    "execution": {
     "iopub.execute_input": "2024-07-09T01:49:59.421733Z",
     "iopub.status.busy": "2024-07-09T01:49:59.421296Z",
     "iopub.status.idle": "2024-07-09T01:50:00.882358Z",
     "shell.execute_reply": "2024-07-09T01:50:00.881942Z",
     "shell.execute_reply.started": "2024-07-09T01:49:59.421702Z"
    }
   },
   "outputs": [],
   "source": [
    "conn.execute(\"\"\"\n",
    "    COPY Entity FROM \"./temp/entity.all.csv\" (header=true, escape='\"', parallel=False)\n",
    "\"\"\");"
   ]
  },
  {
   "cell_type": "code",
   "execution_count": 11,
   "id": "812dff09-e42c-4490-951f-e190fd263649",
   "metadata": {
    "execution": {
     "iopub.execute_input": "2024-07-09T01:50:00.883081Z",
     "iopub.status.busy": "2024-07-09T01:50:00.882995Z",
     "iopub.status.idle": "2024-07-09T01:50:00.963259Z",
     "shell.execute_reply": "2024-07-09T01:50:00.963038Z",
     "shell.execute_reply.started": "2024-07-09T01:50:00.883073Z"
    }
   },
   "outputs": [
    {
     "name": "stderr",
     "output_type": "stream",
     "text": [
      "ic| results.get_next(): [{'_id': {'offset': 786432, 'table': 0},\n",
      "                          '_label': 'Entity',\n",
      "                          'address': None,\n",
      "                          'company_type': None,\n",
      "                          'countries': None,\n",
      "                          'country_codes': None,\n",
      "                          'dorm_date': None,\n",
      "                          'former_name': None,\n",
      "                          'ibcRUC': None,\n",
      "                          'inactivation_date': None,\n",
      "                          'incorporation_date': None,\n",
      "                          'internal_id': None,\n",
      "                          'jurisdiction': None,\n",
      "                          'jurisdiction_description': None,\n",
      "                          'name': 'SPRINGER KEVIN DOUGLAS',\n",
      "                          'node_id': '110100020',\n",
      "                          'note': None,\n",
      "                          'original_name': None,\n",
      "                          'role': 'Officer',\n",
      "                          'service_provider': None,\n",
      "                          'sourceID': 'Paradise Papers - Barbados corporate registry',\n",
      "                          'status': None,\n",
      "                          'struck_off_date': None,\n",
      "                          'vague': False,\n",
      "                          'valid_until': 'Barbados corporate registry data is current through 2016'}]\n"
     ]
    }
   ],
   "source": [
    "results = conn.execute(\"\"\"\n",
    "  MATCH (n:Entity)\n",
    "  RETURN *\n",
    "  LIMIT 1;\n",
    "\"\"\")\n",
    "\n",
    "while results.has_next():\n",
    "    ic(results.get_next())"
   ]
  },
  {
   "cell_type": "markdown",
   "id": "beeeb4bd-9bdb-4e0f-9329-41477f49e9b3",
   "metadata": {},
   "source": [
    "How many `Entity` nodes have been loaded?"
   ]
  },
  {
   "cell_type": "code",
   "execution_count": 12,
   "id": "7b0401ee-14ea-45d5-b321-ba12788e72b5",
   "metadata": {
    "execution": {
     "iopub.execute_input": "2024-07-09T01:50:02.200416Z",
     "iopub.status.busy": "2024-07-09T01:50:02.200098Z",
     "iopub.status.idle": "2024-07-09T01:50:02.224672Z",
     "shell.execute_reply": "2024-07-09T01:50:02.224206Z",
     "shell.execute_reply.started": "2024-07-09T01:50:02.200393Z"
    }
   },
   "outputs": [
    {
     "name": "stderr",
     "output_type": "stream",
     "text": [
      "ic| row[0]: 1614277\n"
     ]
    }
   ],
   "source": [
    "results = conn.execute(\"\"\"\n",
    "  MATCH (n:Entity)\n",
    "  RETURN COUNT(*)\n",
    "\"\"\")\n",
    "\n",
    "while results.has_next():\n",
    "    row = results.get_next()\n",
    "    ic(row[0])"
   ]
  },
  {
   "cell_type": "markdown",
   "id": "ad013f69-c342-466f-95b0-42ed83668849",
   "metadata": {},
   "source": [
    "Compare with the `node_id` values in the merged CSV files"
   ]
  },
  {
   "cell_type": "code",
   "execution_count": 13,
   "id": "bf7307b6-4f7f-493c-a9fc-9fe167a3df7d",
   "metadata": {
    "execution": {
     "iopub.execute_input": "2024-07-09T01:50:03.614669Z",
     "iopub.status.busy": "2024-07-09T01:50:03.614163Z",
     "iopub.status.idle": "2024-07-09T01:50:04.569735Z",
     "shell.execute_reply": "2024-07-09T01:50:04.569492Z",
     "shell.execute_reply.started": "2024-07-09T01:50:03.614633Z"
    }
   },
   "outputs": [
    {
     "data": {
      "text/plain": [
       "1614277"
      ]
     },
     "execution_count": 13,
     "metadata": {},
     "output_type": "execute_result"
    }
   ],
   "source": [
    "nodes_kuzu: typing.Set[ str ] = set()\n",
    "\n",
    "results = conn.execute(\"\"\"\n",
    "  MATCH (n:Entity)\n",
    "  RETURN n.node_id\n",
    "\"\"\")\n",
    "\n",
    "while results.has_next():\n",
    "    row = results.get_next()\n",
    "    nodes_kuzu.add(str(row[0]))\n",
    "\n",
    "len(nodes_kuzu)"
   ]
  },
  {
   "cell_type": "code",
   "execution_count": 14,
   "id": "884f326d-f83f-45d7-a010-3a25f3531f32",
   "metadata": {
    "execution": {
     "iopub.execute_input": "2024-07-09T01:50:04.570455Z",
     "iopub.status.busy": "2024-07-09T01:50:04.570385Z",
     "iopub.status.idle": "2024-07-09T01:50:10.284366Z",
     "shell.execute_reply": "2024-07-09T01:50:10.284152Z",
     "shell.execute_reply.started": "2024-07-09T01:50:04.570449Z"
    }
   },
   "outputs": [
    {
     "name": "stderr",
     "output_type": "stream",
     "text": [
      "ic| len(node_ids): 1614277\n",
      "ic| len(nodes_file): 1614277\n"
     ]
    },
    {
     "data": {
      "text/plain": [
       "1614277"
      ]
     },
     "execution_count": 14,
     "metadata": {},
     "output_type": "execute_result"
    }
   ],
   "source": [
    "node_ids: typing.List[ str ] = []\n",
    "\n",
    "data_file: pathlib.Path = TEMP_DIR / \"entity.all.csv\"\n",
    "\n",
    "df: pd.DataFrame = pd.read_csv(\n",
    "    data_file,\n",
    "    header = 0,\n",
    "    low_memory = False,\n",
    ").astype(str).fillna(\"\")\n",
    "\n",
    "node_ids: typing.List[ str ] = df.node_id.values.tolist()\n",
    "ic(len(node_ids))\n",
    "\n",
    "nodes_file: typing.Set[ str ] = set(node_ids)\n",
    "ic(len(nodes_file))"
   ]
  },
  {
   "cell_type": "markdown",
   "id": "a9b526fe-3467-4fa4-b633-3a699a9e765a",
   "metadata": {},
   "source": [
    "How many missing `node_id` values?"
   ]
  },
  {
   "cell_type": "code",
   "execution_count": 15,
   "id": "515af2e6-ce3e-429e-81a3-1af2ee09057b",
   "metadata": {
    "execution": {
     "iopub.execute_input": "2024-07-09T01:50:10.285194Z",
     "iopub.status.busy": "2024-07-09T01:50:10.284980Z",
     "iopub.status.idle": "2024-07-09T01:50:10.286795Z",
     "shell.execute_reply": "2024-07-09T01:50:10.286611Z",
     "shell.execute_reply.started": "2024-07-09T01:50:10.285186Z"
    }
   },
   "outputs": [
    {
     "data": {
      "text/plain": [
       "0"
      ]
     },
     "execution_count": 15,
     "metadata": {},
     "output_type": "execute_result"
    }
   ],
   "source": [
    "len(nodes_file) - len(nodes_kuzu)"
   ]
  },
  {
   "cell_type": "code",
   "execution_count": 16,
   "id": "bb5384df-0628-4fcf-ae84-5c5a1474b4e4",
   "metadata": {
    "execution": {
     "iopub.execute_input": "2024-07-09T01:50:10.287133Z",
     "iopub.status.busy": "2024-07-09T01:50:10.287066Z",
     "iopub.status.idle": "2024-07-09T01:50:10.361904Z",
     "shell.execute_reply": "2024-07-09T01:50:10.361475Z",
     "shell.execute_reply.started": "2024-07-09T01:50:10.287125Z"
    },
    "scrolled": true
   },
   "outputs": [
    {
     "data": {
      "text/plain": [
       "set()"
      ]
     },
     "execution_count": 16,
     "metadata": {},
     "output_type": "execute_result"
    }
   ],
   "source": [
    "nodes_missing = nodes_file - nodes_kuzu\n",
    "nodes_missing"
   ]
  },
  {
   "cell_type": "markdown",
   "id": "c2103e02-78ae-4088-88d8-42b8d207ea0e",
   "metadata": {},
   "source": [
    "### `Address` nodes"
   ]
  },
  {
   "cell_type": "code",
   "execution_count": 17,
   "id": "2d7f5aa9-84a2-407a-87aa-046dad537f67",
   "metadata": {
    "execution": {
     "iopub.execute_input": "2024-07-09T01:50:13.100828Z",
     "iopub.status.busy": "2024-07-09T01:50:13.100104Z",
     "iopub.status.idle": "2024-07-09T01:50:13.132655Z",
     "shell.execute_reply": "2024-07-09T01:50:13.132020Z",
     "shell.execute_reply.started": "2024-07-09T01:50:13.100779Z"
    }
   },
   "outputs": [],
   "source": [
    "conn.execute(\"\"\"\n",
    "  CREATE NODE TABLE Address (\n",
    "    node_id STRING,\n",
    "    address STRING,\n",
    "    name STRING,\n",
    "    countries STRING,\n",
    "    country_codes STRING,\n",
    "    sourceID STRING,\n",
    "    valid_until STRING,\n",
    "    note STRING,\n",
    "    PRIMARY KEY (node_id)\n",
    "  )\n",
    "\"\"\");"
   ]
  },
  {
   "cell_type": "code",
   "execution_count": 18,
   "id": "2972fd11-14c8-4fe2-987e-8ee135f016d2",
   "metadata": {
    "execution": {
     "iopub.execute_input": "2024-07-09T01:50:15.192178Z",
     "iopub.status.busy": "2024-07-09T01:50:15.191640Z",
     "iopub.status.idle": "2024-07-09T01:50:15.530021Z",
     "shell.execute_reply": "2024-07-09T01:50:15.529789Z",
     "shell.execute_reply.started": "2024-07-09T01:50:15.192151Z"
    }
   },
   "outputs": [],
   "source": [
    "conn.execute(\"\"\"\n",
    "    COPY Address FROM \"./temp/addr.csv\" (header=true, escape='\"', parallel=False)\n",
    "\"\"\");"
   ]
  },
  {
   "cell_type": "code",
   "execution_count": 19,
   "id": "192020a0-702f-48bc-bc67-f0bcd6e7eb2b",
   "metadata": {
    "execution": {
     "iopub.execute_input": "2024-07-09T01:50:16.215458Z",
     "iopub.status.busy": "2024-07-09T01:50:16.215074Z",
     "iopub.status.idle": "2024-07-09T01:50:16.306881Z",
     "shell.execute_reply": "2024-07-09T01:50:16.306664Z",
     "shell.execute_reply.started": "2024-07-09T01:50:16.215437Z"
    },
    "scrolled": true
   },
   "outputs": [
    {
     "name": "stderr",
     "output_type": "stream",
     "text": [
      "ic| results.get_next(): [{'_id': {'offset': 262144, 'table': 1},\n",
      "                          '_label': 'Address',\n",
      "                          'address': 'Shangrila Mactan Resort; Lapu Lapu City; Philippines',\n",
      "                          'countries': 'Philippines',\n",
      "                          'country_codes': 'PHL',\n",
      "                          'name': None,\n",
      "                          'node_id': '14077819',\n",
      "                          'note': None,\n",
      "                          'sourceID': 'Panama Papers',\n",
      "                          'valid_until': 'The Panama Papers  data is current through 2015'}]\n"
     ]
    }
   ],
   "source": [
    "results = conn.execute(\"\"\"\n",
    "  MATCH (n:Address)\n",
    "  RETURN *\n",
    "  LIMIT 1;\n",
    "\"\"\")\n",
    "\n",
    "while results.has_next():\n",
    "    ic(results.get_next())"
   ]
  },
  {
   "cell_type": "markdown",
   "id": "c4d81ebf-c548-4ad3-91e5-98cd52c9cd2c",
   "metadata": {},
   "source": [
    "### `RegisteredAddress` relations"
   ]
  },
  {
   "cell_type": "code",
   "execution_count": 20,
   "id": "c765d515-bcd0-4187-be7f-99aff3ba1a9c",
   "metadata": {
    "execution": {
     "iopub.execute_input": "2024-07-09T01:50:18.401780Z",
     "iopub.status.busy": "2024-07-09T01:50:18.401347Z",
     "iopub.status.idle": "2024-07-09T01:50:18.427354Z",
     "shell.execute_reply": "2024-07-09T01:50:18.426838Z",
     "shell.execute_reply.started": "2024-07-09T01:50:18.401759Z"
    }
   },
   "outputs": [],
   "source": [
    "conn.execute(\"\"\"\n",
    "  CREATE REL TABLE RegisteredAddress (FROM Entity TO Address,\n",
    "    link STRING,\n",
    "    status STRING,\n",
    "    start_date STRING,\n",
    "    end_date STRING,\n",
    "    sourceID STRING,\n",
    "    MANY_MANY\n",
    "  )\n",
    "\"\"\");"
   ]
  },
  {
   "cell_type": "code",
   "execution_count": 21,
   "id": "756965f8-9074-41d4-b969-54b1a2acaa5c",
   "metadata": {
    "execution": {
     "iopub.execute_input": "2024-07-09T01:50:19.377679Z",
     "iopub.status.busy": "2024-07-09T01:50:19.377056Z",
     "iopub.status.idle": "2024-07-09T01:50:19.627798Z",
     "shell.execute_reply": "2024-07-09T01:50:19.627532Z",
     "shell.execute_reply.started": "2024-07-09T01:50:19.377637Z"
    }
   },
   "outputs": [],
   "source": [
    "try:\n",
    "    conn.execute(\"\"\"\n",
    "        COPY RegisteredAddress FROM \"./temp/rel_regaddr.csv\" (header=true, escape='\"', parallel=False)\n",
    "    \"\"\");\n",
    "except Exception as ex:\n",
    "    ic(ex)\n",
    "    node_id = str(getattr(ex, \"message\", repr(ex)).split(\" \")[-1].strip(\".')\"))\n",
    "    ic(node_id, node_id in nodes_missing)"
   ]
  },
  {
   "cell_type": "markdown",
   "id": "313da68b-4d47-43d4-9e83-7862c6fe7cf5",
   "metadata": {},
   "source": [
    "### `OfficerOf` relations"
   ]
  },
  {
   "cell_type": "code",
   "execution_count": 22,
   "id": "3ea69a05-5a9c-4024-b6f8-d3b1163d55f1",
   "metadata": {
    "execution": {
     "iopub.execute_input": "2024-07-09T01:50:22.267376Z",
     "iopub.status.busy": "2024-07-09T01:50:22.266772Z",
     "iopub.status.idle": "2024-07-09T01:50:22.297750Z",
     "shell.execute_reply": "2024-07-09T01:50:22.297370Z",
     "shell.execute_reply.started": "2024-07-09T01:50:22.267339Z"
    }
   },
   "outputs": [],
   "source": [
    "conn.execute(\"\"\"\n",
    "  CREATE REL TABLE OfficerOf (FROM Entity TO Entity,\n",
    "    link STRING,\n",
    "    status STRING,\n",
    "    start_date STRING,\n",
    "    end_date STRING,\n",
    "    sourceID STRING,\n",
    "    MANY_MANY\n",
    "  )\n",
    "\"\"\");"
   ]
  },
  {
   "cell_type": "code",
   "execution_count": 23,
   "id": "0ffc9e58-2378-41a8-ba48-a9ecd640a2ef",
   "metadata": {
    "execution": {
     "iopub.execute_input": "2024-07-09T01:50:23.418649Z",
     "iopub.status.busy": "2024-07-09T01:50:23.418095Z",
     "iopub.status.idle": "2024-07-09T01:50:23.862856Z",
     "shell.execute_reply": "2024-07-09T01:50:23.862585Z",
     "shell.execute_reply.started": "2024-07-09T01:50:23.418607Z"
    }
   },
   "outputs": [],
   "source": [
    "try:\n",
    "    conn.execute(\"\"\"\n",
    "        COPY OfficerOf FROM \"./temp/rel_officer.csv\" (header=true, escape='\"', parallel=False)\n",
    "    \"\"\");\n",
    "except Exception as ex:\n",
    "    ic(ex)\n",
    "    node_id = str(getattr(ex, \"message\", repr(ex)).split(\" \")[-1].strip(\".')\"))\n",
    "    ic(node_id, node_id in nodes_missing)"
   ]
  },
  {
   "cell_type": "markdown",
   "id": "5b16b442-b403-48c5-a1f4-16350401a141",
   "metadata": {},
   "source": [
    "### `IntermediaryOf` relations"
   ]
  },
  {
   "cell_type": "code",
   "execution_count": 24,
   "id": "e4b3375b-4cdb-4962-bcff-b46f8b138e42",
   "metadata": {
    "execution": {
     "iopub.execute_input": "2024-07-09T01:50:25.097693Z",
     "iopub.status.busy": "2024-07-09T01:50:25.097133Z",
     "iopub.status.idle": "2024-07-09T01:50:25.127130Z",
     "shell.execute_reply": "2024-07-09T01:50:25.126564Z",
     "shell.execute_reply.started": "2024-07-09T01:50:25.097654Z"
    }
   },
   "outputs": [],
   "source": [
    "conn.execute(\"\"\"\n",
    "  CREATE REL TABLE IntermediaryOf (FROM Entity TO Entity,\n",
    "    link STRING,\n",
    "    status STRING,\n",
    "    start_date STRING,\n",
    "    end_date STRING,\n",
    "    sourceID STRING,\n",
    "    MANY_MANY\n",
    "  )\n",
    "\"\"\");"
   ]
  },
  {
   "cell_type": "code",
   "execution_count": 25,
   "id": "14666774-73bb-4f5e-90b7-e993dfb74fb4",
   "metadata": {
    "execution": {
     "iopub.execute_input": "2024-07-09T01:50:25.856906Z",
     "iopub.status.busy": "2024-07-09T01:50:25.856503Z",
     "iopub.status.idle": "2024-07-09T01:50:26.056347Z",
     "shell.execute_reply": "2024-07-09T01:50:26.056047Z",
     "shell.execute_reply.started": "2024-07-09T01:50:25.856884Z"
    }
   },
   "outputs": [],
   "source": [
    "try:\n",
    "    conn.execute(\"\"\"\n",
    "        COPY IntermediaryOf FROM \"./temp/rel_intermed.csv\" (header=true, escape='\"', parallel=False)\n",
    "    \"\"\");\n",
    "except Exception as ex:\n",
    "    ic(ex)\n",
    "    node_id = str(getattr(ex, \"message\", repr(ex)).split(\" \")[-1].strip(\".')\"))\n",
    "    ic(node_id, node_id in nodes_missing)"
   ]
  },
  {
   "cell_type": "markdown",
   "id": "c5f8267e-78b3-4a00-a9a6-b47a78d78bba",
   "metadata": {},
   "source": [
    "### `ConnectedTo` relations"
   ]
  },
  {
   "cell_type": "code",
   "execution_count": 26,
   "id": "f33c8edb-e32d-4cbd-8b50-697ead7de64f",
   "metadata": {
    "execution": {
     "iopub.execute_input": "2024-07-09T01:50:27.269648Z",
     "iopub.status.busy": "2024-07-09T01:50:27.269064Z",
     "iopub.status.idle": "2024-07-09T01:50:27.299208Z",
     "shell.execute_reply": "2024-07-09T01:50:27.298867Z",
     "shell.execute_reply.started": "2024-07-09T01:50:27.269605Z"
    }
   },
   "outputs": [],
   "source": [
    "conn.execute(\"\"\"\n",
    "  CREATE REL TABLE ConnectedTo (FROM Entity TO Entity,\n",
    "    link STRING,\n",
    "    status STRING,\n",
    "    start_date STRING,\n",
    "    end_date STRING,\n",
    "    sourceID STRING,\n",
    "    MANY_MANY\n",
    "  )\n",
    "\"\"\");"
   ]
  },
  {
   "cell_type": "code",
   "execution_count": 27,
   "id": "140bffd7-d9c8-4302-9189-cbc0fa3fe427",
   "metadata": {
    "execution": {
     "iopub.execute_input": "2024-07-09T01:50:28.141984Z",
     "iopub.status.busy": "2024-07-09T01:50:28.141554Z",
     "iopub.status.idle": "2024-07-09T01:50:29.530638Z",
     "shell.execute_reply": "2024-07-09T01:50:29.530302Z",
     "shell.execute_reply.started": "2024-07-09T01:50:28.141948Z"
    }
   },
   "outputs": [],
   "source": [
    "try:\n",
    "    conn.execute(\"\"\"\n",
    "        COPY OfficerOf FROM \"./temp/rel_connect.csv\" (header=true, escape='\"', parallel=False)\n",
    "    \"\"\");\n",
    "except Exception as ex:\n",
    "    ic(ex)\n",
    "    node_id = str(getattr(ex, \"message\", repr(ex)).split(\" \")[-1].strip(\".')\"))\n",
    "    ic(node_id, node_id in nodes_missing)"
   ]
  },
  {
   "cell_type": "markdown",
   "id": "f242175d-8234-4a42-b7f3-aa6f276d62c2",
   "metadata": {},
   "source": [
    "### `Underlying` relations"
   ]
  },
  {
   "cell_type": "code",
   "execution_count": 28,
   "id": "a35340ff-026e-4db5-bbf3-372912cc2bd5",
   "metadata": {
    "execution": {
     "iopub.execute_input": "2024-07-09T01:50:30.366849Z",
     "iopub.status.busy": "2024-07-09T01:50:30.366220Z",
     "iopub.status.idle": "2024-07-09T01:50:30.398184Z",
     "shell.execute_reply": "2024-07-09T01:50:30.397858Z",
     "shell.execute_reply.started": "2024-07-09T01:50:30.366808Z"
    }
   },
   "outputs": [],
   "source": [
    "conn.execute(\"\"\"\n",
    "  CREATE REL TABLE Underlying (FROM Entity TO Entity,\n",
    "    link STRING,\n",
    "    status STRING,\n",
    "    start_date STRING,\n",
    "    end_date STRING,\n",
    "    sourceID STRING,\n",
    "    MANY_MANY\n",
    "  )\n",
    "\"\"\");"
   ]
  },
  {
   "cell_type": "code",
   "execution_count": 29,
   "id": "348870c0-0db3-4e3d-9b95-8b4d6cc16f41",
   "metadata": {
    "execution": {
     "iopub.execute_input": "2024-07-09T01:50:31.199326Z",
     "iopub.status.busy": "2024-07-09T01:50:31.198959Z",
     "iopub.status.idle": "2024-07-09T01:50:31.254807Z",
     "shell.execute_reply": "2024-07-09T01:50:31.254420Z",
     "shell.execute_reply.started": "2024-07-09T01:50:31.199306Z"
    }
   },
   "outputs": [],
   "source": [
    "try:\n",
    "    conn.execute(\"\"\"\n",
    "        COPY Underlying FROM \"./temp/rel_underly.csv\" (header=true, escape='\"', parallel=False)\n",
    "    \"\"\");\n",
    "except Exception as ex:\n",
    "    ic(ex)\n",
    "    node_id = str(getattr(ex, \"message\", repr(ex)).split(\" \")[-1].strip(\".')\"))\n",
    "    ic(node_id, node_id in nodes_missing)"
   ]
  },
  {
   "cell_type": "markdown",
   "id": "de6fce0d-f304-49ed-b289-6a1108a9388e",
   "metadata": {},
   "source": [
    "### `AliasOfficer` relations"
   ]
  },
  {
   "cell_type": "code",
   "execution_count": 30,
   "id": "f4064c8c-a02f-4443-af94-7624706d1a9f",
   "metadata": {
    "execution": {
     "iopub.execute_input": "2024-07-09T01:50:32.917784Z",
     "iopub.status.busy": "2024-07-09T01:50:32.917336Z",
     "iopub.status.idle": "2024-07-09T01:50:32.944177Z",
     "shell.execute_reply": "2024-07-09T01:50:32.943685Z",
     "shell.execute_reply.started": "2024-07-09T01:50:32.917757Z"
    }
   },
   "outputs": [],
   "source": [
    "conn.execute(\"\"\"\n",
    "  CREATE REL TABLE AliasOfficer (FROM Entity TO Entity,\n",
    "    link STRING,\n",
    "    status STRING,\n",
    "    start_date STRING,\n",
    "    end_date STRING,\n",
    "    sourceID STRING,\n",
    "    MANY_MANY\n",
    "  )\n",
    "\"\"\");"
   ]
  },
  {
   "cell_type": "code",
   "execution_count": 31,
   "id": "6393bf8d-d8f5-4168-a0c3-7ba85a1b14e5",
   "metadata": {
    "execution": {
     "iopub.execute_input": "2024-07-09T01:50:33.620531Z",
     "iopub.status.busy": "2024-07-09T01:50:33.619945Z",
     "iopub.status.idle": "2024-07-09T01:50:33.733866Z",
     "shell.execute_reply": "2024-07-09T01:50:33.733331Z",
     "shell.execute_reply.started": "2024-07-09T01:50:33.620493Z"
    }
   },
   "outputs": [],
   "source": [
    "try:\n",
    "    conn.execute(\"\"\"\n",
    "        COPY AliasOfficer FROM \"./temp/rel_same_officer.csv\" (header=true, escape='\"', parallel=False)\n",
    "    \"\"\");\n",
    "except Exception as ex:\n",
    "    ic(ex)\n",
    "    node_id = str(getattr(ex, \"message\", repr(ex)).split(\" \")[-1].strip(\".')\"))\n",
    "    ic(node_id, node_id in nodes_missing)"
   ]
  },
  {
   "cell_type": "markdown",
   "id": "d75f5f7d-640a-464d-b4f6-7878ad8f84b8",
   "metadata": {},
   "source": [
    "### `AliasAddress` relations"
   ]
  },
  {
   "cell_type": "code",
   "execution_count": 32,
   "id": "d1f10b53-5b9a-4b9f-8819-6d189acfb764",
   "metadata": {
    "execution": {
     "iopub.execute_input": "2024-07-09T01:50:35.242564Z",
     "iopub.status.busy": "2024-07-09T01:50:35.241920Z",
     "iopub.status.idle": "2024-07-09T01:50:35.272958Z",
     "shell.execute_reply": "2024-07-09T01:50:35.272596Z",
     "shell.execute_reply.started": "2024-07-09T01:50:35.242486Z"
    }
   },
   "outputs": [],
   "source": [
    "conn.execute(\"\"\"\n",
    "  CREATE REL TABLE AliasAddress (FROM Address TO Address,\n",
    "    link STRING,\n",
    "    status STRING,\n",
    "    start_date STRING,\n",
    "    end_date STRING,\n",
    "    sourceID STRING,\n",
    "    MANY_MANY\n",
    "  )\n",
    "\"\"\");"
   ]
  },
  {
   "cell_type": "code",
   "execution_count": 33,
   "id": "48584dee-4522-4204-bcb9-4ee176e18dbe",
   "metadata": {
    "execution": {
     "iopub.execute_input": "2024-07-09T01:50:36.576511Z",
     "iopub.status.busy": "2024-07-09T01:50:36.575770Z",
     "iopub.status.idle": "2024-07-09T01:50:36.614171Z",
     "shell.execute_reply": "2024-07-09T01:50:36.613841Z",
     "shell.execute_reply.started": "2024-07-09T01:50:36.576462Z"
    }
   },
   "outputs": [],
   "source": [
    "try:\n",
    "    conn.execute(\"\"\"\n",
    "        COPY AliasAddress FROM \"./temp/rel_same_address.csv\" (header=true, escape='\"', parallel=False)\n",
    "    \"\"\");\n",
    "except Exception as ex:\n",
    "    ic(ex)\n",
    "    node_id = str(getattr(ex, \"message\", repr(ex)).split(\" \")[-1].strip(\".')\"))\n",
    "    ic(node_id, node_id in nodes_missing)"
   ]
  }
 ],
 "metadata": {
  "kernelspec": {
   "display_name": "Python 3 (ipykernel)",
   "language": "python",
   "name": "python3"
  },
  "language_info": {
   "codemirror_mode": {
    "name": "ipython",
    "version": 3
   },
   "file_extension": ".py",
   "mimetype": "text/x-python",
   "name": "python",
   "nbconvert_exporter": "python",
   "pygments_lexer": "ipython3",
   "version": "3.11.9"
  }
 },
 "nbformat": 4,
 "nbformat_minor": 5
}
