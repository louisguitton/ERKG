{
 "cells": [
  {
   "cell_type": "markdown",
   "id": "87d03950-26e3-4a01-906c-4fcae6b250d4",
   "metadata": {},
   "source": [
    "# ICIJ analysis: load KùzuDB"
   ]
  },
  {
   "cell_type": "markdown",
   "id": "8ff268dd-175c-4495-8c56-202c7b3553f7",
   "metadata": {},
   "source": [
    "## Set up"
   ]
  },
  {
   "cell_type": "markdown",
   "id": "a8f9008b-16dd-451a-8b65-fdb0cfc60422",
   "metadata": {},
   "source": [
    "Load the Python dependencies."
   ]
  },
  {
   "cell_type": "code",
   "execution_count": 1,
   "id": "8438a9b9-0008-4c03-a0b1-01052a16f39b",
   "metadata": {
    "execution": {
     "iopub.execute_input": "2024-07-09T19:43:55.940381Z",
     "iopub.status.busy": "2024-07-09T19:43:55.939781Z",
     "iopub.status.idle": "2024-07-09T19:43:56.177052Z",
     "shell.execute_reply": "2024-07-09T19:43:56.176416Z",
     "shell.execute_reply.started": "2024-07-09T19:43:55.940341Z"
    }
   },
   "outputs": [],
   "source": [
    "import pathlib\n",
    "import typing\n",
    "\n",
    "from icecream import ic\n",
    "import kuzu\n",
    "import pandas as pd\n",
    "import watermark\n",
    "\n",
    "%load_ext watermark"
   ]
  },
  {
   "cell_type": "code",
   "execution_count": 2,
   "id": "88148b53-7d00-4aa4-ad24-3ac35af0c958",
   "metadata": {
    "execution": {
     "iopub.execute_input": "2024-07-09T19:43:56.958310Z",
     "iopub.status.busy": "2024-07-09T19:43:56.957537Z",
     "iopub.status.idle": "2024-07-09T19:43:56.981986Z",
     "shell.execute_reply": "2024-07-09T19:43:56.981545Z",
     "shell.execute_reply.started": "2024-07-09T19:43:56.958267Z"
    }
   },
   "outputs": [
    {
     "name": "stdout",
     "output_type": "stream",
     "text": [
      "Last updated: 2024-07-09T12:43:56.960071-07:00\n",
      "\n",
      "Python implementation: CPython\n",
      "Python version       : 3.11.9\n",
      "IPython version      : 8.26.0\n",
      "\n",
      "Compiler    : Clang 13.0.0 (clang-1300.0.29.30)\n",
      "OS          : Darwin\n",
      "Release     : 23.5.0\n",
      "Machine     : arm64\n",
      "Processor   : arm\n",
      "CPU cores   : 14\n",
      "Architecture: 64bit\n",
      "\n",
      "watermark: 2.4.3\n",
      "pandas   : 2.2.2\n",
      "kuzu     : 0.4.3.dev49\n",
      "\n"
     ]
    }
   ],
   "source": [
    "%watermark\n",
    "%watermark --iversions"
   ]
  },
  {
   "cell_type": "markdown",
   "id": "cb9fcd10-bdd9-4b21-9062-0a808533da82",
   "metadata": {},
   "source": [
    "Create a KùzuDB database and establish a connection."
   ]
  },
  {
   "cell_type": "code",
   "execution_count": 3,
   "id": "faac2ff2-29d4-4a25-aefd-3d804177e2c7",
   "metadata": {
    "execution": {
     "iopub.execute_input": "2024-07-09T19:43:57.903265Z",
     "iopub.status.busy": "2024-07-09T19:43:57.902713Z",
     "iopub.status.idle": "2024-07-09T19:43:58.035618Z",
     "shell.execute_reply": "2024-07-09T19:43:58.034823Z",
     "shell.execute_reply.started": "2024-07-09T19:43:57.903227Z"
    }
   },
   "outputs": [],
   "source": [
    "!rm -rf ./demo"
   ]
  },
  {
   "cell_type": "code",
   "execution_count": 4,
   "id": "7eca743b-bae0-4210-b772-a2578dd50892",
   "metadata": {
    "execution": {
     "iopub.execute_input": "2024-07-09T19:43:58.508526Z",
     "iopub.status.busy": "2024-07-09T19:43:58.507836Z",
     "iopub.status.idle": "2024-07-09T19:43:58.556084Z",
     "shell.execute_reply": "2024-07-09T19:43:58.555490Z",
     "shell.execute_reply.started": "2024-07-09T19:43:58.508473Z"
    }
   },
   "outputs": [],
   "source": [
    "db: kuzu.database.Database = kuzu.Database(\"./demo\")\n",
    "conn: kuzu.database.Database = kuzu.Connection(db)"
   ]
  },
  {
   "cell_type": "code",
   "execution_count": 5,
   "id": "cbb6bccf-9651-4538-bd80-8e8fa80330f7",
   "metadata": {
    "execution": {
     "iopub.execute_input": "2024-07-09T19:43:59.070338Z",
     "iopub.status.busy": "2024-07-09T19:43:59.070066Z",
     "iopub.status.idle": "2024-07-09T19:43:59.073254Z",
     "shell.execute_reply": "2024-07-09T19:43:59.072739Z",
     "shell.execute_reply.started": "2024-07-09T19:43:59.070319Z"
    }
   },
   "outputs": [],
   "source": [
    "TEMP_DIR: pathlib.Path = pathlib.Path(\"temp\")"
   ]
  },
  {
   "cell_type": "markdown",
   "id": "b8d61437-4cf1-4545-8195-c3e0023b34ba",
   "metadata": {},
   "source": [
    "## Schema definitions"
   ]
  },
  {
   "cell_type": "markdown",
   "id": "fbba0309-c203-4c39-b118-708521bae591",
   "metadata": {},
   "source": [
    "### `Entity` nodes"
   ]
  },
  {
   "cell_type": "markdown",
   "id": "0af027ea-fec3-4918-917b-bb7177247ab8",
   "metadata": {},
   "source": [
    "After iterating the first time through this analysis, we return to this point and redefine an `Entity` node structure which is a superset of the fields defined among all of the Entity-ish nodes in ICIJ.\n",
    "See <https://docs.google.com/spreadsheets/d/1eSelhXhix_DtTZuzR2vfl_UdQlEwbwql6NZxqrtROxk/edit?usp=sharing>"
   ]
  },
  {
   "cell_type": "code",
   "execution_count": 6,
   "id": "b01b884e-9286-4e28-9c04-afabcb460b6b",
   "metadata": {
    "execution": {
     "iopub.execute_input": "2024-07-09T19:44:01.591380Z",
     "iopub.status.busy": "2024-07-09T19:44:01.590708Z",
     "iopub.status.idle": "2024-07-09T19:44:01.625269Z",
     "shell.execute_reply": "2024-07-09T19:44:01.624862Z",
     "shell.execute_reply.started": "2024-07-09T19:44:01.591335Z"
    }
   },
   "outputs": [],
   "source": [
    "conn.execute(\"\"\"\n",
    "  CREATE NODE TABLE Entity (\n",
    "    node_id INT64,\n",
    "    role STRING,\n",
    "    name STRING,\n",
    "    original_name STRING,\n",
    "    former_name STRING,\n",
    "    jurisdiction STRING,\n",
    "    jurisdiction_description STRING,\n",
    "    company_type STRING,\n",
    "    Location STRING,\n",
    "    internal_id STRING,\n",
    "    incorporation_date STRING,\n",
    "    inactivation_date STRING,\n",
    "    struck_off_date STRING,\n",
    "    dorm_date STRING,\n",
    "    status STRING,\n",
    "    service_provider STRING,\n",
    "    ibcRUC STRING,\n",
    "    country_codes STRING,\n",
    "    countries STRING,\n",
    "    sourceID STRING,\n",
    "    valid_until STRING,\n",
    "    note STRING,\n",
    "    vague BOOLEAN,\n",
    "    PRIMARY KEY (node_id)\n",
    "  )\n",
    "\"\"\");"
   ]
  },
  {
   "cell_type": "markdown",
   "id": "3ff18db1-a565-4daa-a97a-4a658b3a24f7",
   "metadata": {
    "execution": {
     "iopub.execute_input": "2024-07-08T19:27:43.544484Z",
     "iopub.status.busy": "2024-07-08T19:27:43.543917Z",
     "iopub.status.idle": "2024-07-08T19:27:43.552743Z",
     "shell.execute_reply": "2024-07-08T19:27:43.551753Z",
     "shell.execute_reply.started": "2024-07-08T19:27:43.544447Z"
    }
   },
   "source": [
    "Temporary workaround prior to KùzuDB release 0.5.0:\n",
    "\n",
    "  * concatenate the four CSV files into one"
   ]
  },
  {
   "cell_type": "code",
   "execution_count": 7,
   "id": "bdc06f30-2581-43d6-94e7-24c8a61fdd8d",
   "metadata": {
    "execution": {
     "iopub.execute_input": "2024-07-09T19:44:03.355602Z",
     "iopub.status.busy": "2024-07-09T19:44:03.355214Z",
     "iopub.status.idle": "2024-07-09T19:44:07.366473Z",
     "shell.execute_reply": "2024-07-09T19:44:07.365832Z",
     "shell.execute_reply.started": "2024-07-09T19:44:03.355583Z"
    }
   },
   "outputs": [],
   "source": [
    "!cp ./temp/entity.1.csv ./temp/entity.all.csv\n",
    "!tail -n +2 ./temp/entity.2.csv >> ./temp/entity.all.csv\n",
    "!tail -n +2 ./temp/entity.3.csv >> ./temp/entity.all.csv\n",
    "!tail -n +2 ./temp/entity.4.csv >> ./temp/entity.all.csv"
   ]
  },
  {
   "cell_type": "code",
   "execution_count": 8,
   "id": "997e6fd9-6bc2-491f-9fd1-a49c99165f82",
   "metadata": {
    "execution": {
     "iopub.execute_input": "2024-07-09T19:44:07.368085Z",
     "iopub.status.busy": "2024-07-09T19:44:07.367772Z",
     "iopub.status.idle": "2024-07-09T19:44:07.782750Z",
     "shell.execute_reply": "2024-07-09T19:44:07.782163Z",
     "shell.execute_reply.started": "2024-07-09T19:44:07.368065Z"
    }
   },
   "outputs": [
    {
     "name": "stdout",
     "output_type": "stream",
     "text": [
      "  814617 ./temp/entity.1.csv\n",
      "  771369 ./temp/entity.2.csv\n",
      "   25636 ./temp/entity.3.csv\n",
      "    2990 ./temp/entity.4.csv\n",
      " 1614612 total\n"
     ]
    }
   ],
   "source": [
    "!wc -l ./temp/entity.?.csv"
   ]
  },
  {
   "cell_type": "code",
   "execution_count": 9,
   "id": "a73343c7-4a11-4089-b68b-468848c05cf3",
   "metadata": {
    "execution": {
     "iopub.execute_input": "2024-07-09T19:44:07.783812Z",
     "iopub.status.busy": "2024-07-09T19:44:07.783655Z",
     "iopub.status.idle": "2024-07-09T19:44:08.187714Z",
     "shell.execute_reply": "2024-07-09T19:44:08.187195Z",
     "shell.execute_reply.started": "2024-07-09T19:44:07.783794Z"
    }
   },
   "outputs": [
    {
     "name": "stdout",
     "output_type": "stream",
     "text": [
      " 1614609 ./temp/entity.all.csv\n"
     ]
    }
   ],
   "source": [
    "!wc -l ./temp/entity.all.csv"
   ]
  },
  {
   "cell_type": "code",
   "execution_count": 10,
   "id": "a70d9883-8496-4326-9400-9c55afec486a",
   "metadata": {
    "execution": {
     "iopub.execute_input": "2024-07-09T19:44:08.189475Z",
     "iopub.status.busy": "2024-07-09T19:44:08.189283Z",
     "iopub.status.idle": "2024-07-09T19:44:09.364496Z",
     "shell.execute_reply": "2024-07-09T19:44:09.364216Z",
     "shell.execute_reply.started": "2024-07-09T19:44:08.189459Z"
    }
   },
   "outputs": [],
   "source": [
    "conn.execute(\"\"\"\n",
    "    COPY Entity FROM \"./temp/entity.all.csv\" (header=true, escape='\"', parallel=False)\n",
    "\"\"\");"
   ]
  },
  {
   "cell_type": "code",
   "execution_count": 11,
   "id": "812dff09-e42c-4490-951f-e190fd263649",
   "metadata": {
    "execution": {
     "iopub.execute_input": "2024-07-09T19:44:11.276078Z",
     "iopub.status.busy": "2024-07-09T19:44:11.275302Z",
     "iopub.status.idle": "2024-07-09T19:44:11.387638Z",
     "shell.execute_reply": "2024-07-09T19:44:11.387397Z",
     "shell.execute_reply.started": "2024-07-09T19:44:11.276021Z"
    }
   },
   "outputs": [
    {
     "name": "stderr",
     "output_type": "stream",
     "text": [
      "ic| results.get_next(): [{'Location': None,\n",
      "                          '_id': {'offset': 655360, 'table': 0},\n",
      "                          '_label': 'Entity',\n",
      "                          'company_type': None,\n",
      "                          'countries': 'Philippines',\n",
      "                          'country_codes': 'PHL',\n",
      "                          'dorm_date': None,\n",
      "                          'former_name': None,\n",
      "                          'ibcRUC': None,\n",
      "                          'inactivation_date': None,\n",
      "                          'incorporation_date': None,\n",
      "                          'internal_id': None,\n",
      "                          'jurisdiction': None,\n",
      "                          'jurisdiction_description': None,\n",
      "                          'name': 'Joyce L. Sandoval',\n",
      "                          'node_id': 76394,\n",
      "                          'note': None,\n",
      "                          'original_name': None,\n",
      "                          'role': 'Officer',\n",
      "                          'service_provider': None,\n",
      "                          'sourceID': 'Offshore Leaks',\n",
      "                          'status': None,\n",
      "                          'struck_off_date': None,\n",
      "                          'vague': False,\n",
      "                          'valid_until': 'The Offshore Leaks data is current through 2010'}]\n"
     ]
    }
   ],
   "source": [
    "results = conn.execute(\"\"\"\n",
    "  MATCH (n:Entity)\n",
    "  RETURN *\n",
    "  LIMIT 1;\n",
    "\"\"\")\n",
    "\n",
    "while results.has_next():\n",
    "    ic(results.get_next())"
   ]
  },
  {
   "cell_type": "markdown",
   "id": "1a3c1297-7ad6-4d43-97f6-802af4e8a7d3",
   "metadata": {},
   "source": [
    "#### consistency checks"
   ]
  },
  {
   "cell_type": "markdown",
   "id": "beeeb4bd-9bdb-4e0f-9329-41477f49e9b3",
   "metadata": {},
   "source": [
    "How many `Entity` nodes have been loaded?"
   ]
  },
  {
   "cell_type": "code",
   "execution_count": 12,
   "id": "7b0401ee-14ea-45d5-b321-ba12788e72b5",
   "metadata": {
    "execution": {
     "iopub.execute_input": "2024-07-09T19:44:13.455240Z",
     "iopub.status.busy": "2024-07-09T19:44:13.454373Z",
     "iopub.status.idle": "2024-07-09T19:44:13.481301Z",
     "shell.execute_reply": "2024-07-09T19:44:13.480894Z",
     "shell.execute_reply.started": "2024-07-09T19:44:13.455199Z"
    }
   },
   "outputs": [
    {
     "name": "stderr",
     "output_type": "stream",
     "text": [
      "ic| row[0]: 1614277\n"
     ]
    }
   ],
   "source": [
    "results = conn.execute(\"\"\"\n",
    "  MATCH (n:Entity)\n",
    "  RETURN COUNT(*)\n",
    "\"\"\")\n",
    "\n",
    "while results.has_next():\n",
    "    row = results.get_next()\n",
    "    ic(row[0])"
   ]
  },
  {
   "cell_type": "markdown",
   "id": "ad013f69-c342-466f-95b0-42ed83668849",
   "metadata": {},
   "source": [
    "Compare with the `node_id` values in the merged CSV files"
   ]
  },
  {
   "cell_type": "code",
   "execution_count": 13,
   "id": "bf7307b6-4f7f-493c-a9fc-9fe167a3df7d",
   "metadata": {
    "execution": {
     "iopub.execute_input": "2024-07-09T19:44:15.004142Z",
     "iopub.status.busy": "2024-07-09T19:44:15.003201Z",
     "iopub.status.idle": "2024-07-09T19:44:16.055011Z",
     "shell.execute_reply": "2024-07-09T19:44:16.054743Z",
     "shell.execute_reply.started": "2024-07-09T19:44:15.004104Z"
    }
   },
   "outputs": [
    {
     "data": {
      "text/plain": [
       "1614277"
      ]
     },
     "execution_count": 13,
     "metadata": {},
     "output_type": "execute_result"
    }
   ],
   "source": [
    "nodes_kuzu: typing.Set[ int ] = set()\n",
    "\n",
    "results = conn.execute(\"\"\"\n",
    "  MATCH (n:Entity)\n",
    "  RETURN n.node_id\n",
    "\"\"\")\n",
    "\n",
    "while results.has_next():\n",
    "    row = results.get_next()\n",
    "    nodes_kuzu.add(str(row[0]))\n",
    "\n",
    "len(nodes_kuzu)"
   ]
  },
  {
   "cell_type": "code",
   "execution_count": 14,
   "id": "884f326d-f83f-45d7-a010-3a25f3531f32",
   "metadata": {
    "execution": {
     "iopub.execute_input": "2024-07-09T19:44:16.055715Z",
     "iopub.status.busy": "2024-07-09T19:44:16.055631Z",
     "iopub.status.idle": "2024-07-09T19:44:21.634968Z",
     "shell.execute_reply": "2024-07-09T19:44:21.634756Z",
     "shell.execute_reply.started": "2024-07-09T19:44:16.055706Z"
    }
   },
   "outputs": [
    {
     "name": "stderr",
     "output_type": "stream",
     "text": [
      "ic| len(node_ids): 1614277\n",
      "ic| len(nodes_file): 1614277\n"
     ]
    },
    {
     "data": {
      "text/plain": [
       "1614277"
      ]
     },
     "execution_count": 14,
     "metadata": {},
     "output_type": "execute_result"
    }
   ],
   "source": [
    "node_ids: typing.List[ int ] = []\n",
    "\n",
    "data_file: pathlib.Path = TEMP_DIR / \"entity.all.csv\"\n",
    "\n",
    "df: pd.DataFrame = pd.read_csv(\n",
    "    data_file,\n",
    "    header = 0,\n",
    "    low_memory = False,\n",
    ").astype(str).fillna(\"\")\n",
    "\n",
    "node_ids: typing.List[ int ] = df.node_id.values.tolist()\n",
    "ic(len(node_ids))\n",
    "\n",
    "nodes_file: typing.Set[ int ] = set(node_ids)\n",
    "ic(len(nodes_file))"
   ]
  },
  {
   "cell_type": "markdown",
   "id": "a9b526fe-3467-4fa4-b633-3a699a9e765a",
   "metadata": {},
   "source": [
    "How many missing `node_id` values?"
   ]
  },
  {
   "cell_type": "code",
   "execution_count": 15,
   "id": "515af2e6-ce3e-429e-81a3-1af2ee09057b",
   "metadata": {
    "execution": {
     "iopub.execute_input": "2024-07-09T19:44:21.635663Z",
     "iopub.status.busy": "2024-07-09T19:44:21.635596Z",
     "iopub.status.idle": "2024-07-09T19:44:21.637407Z",
     "shell.execute_reply": "2024-07-09T19:44:21.637223Z",
     "shell.execute_reply.started": "2024-07-09T19:44:21.635656Z"
    }
   },
   "outputs": [
    {
     "data": {
      "text/plain": [
       "0"
      ]
     },
     "execution_count": 15,
     "metadata": {},
     "output_type": "execute_result"
    }
   ],
   "source": [
    "len(nodes_file) - len(nodes_kuzu)"
   ]
  },
  {
   "cell_type": "code",
   "execution_count": 16,
   "id": "bb5384df-0628-4fcf-ae84-5c5a1474b4e4",
   "metadata": {
    "execution": {
     "iopub.execute_input": "2024-07-09T19:44:21.637727Z",
     "iopub.status.busy": "2024-07-09T19:44:21.637659Z",
     "iopub.status.idle": "2024-07-09T19:44:21.703623Z",
     "shell.execute_reply": "2024-07-09T19:44:21.703382Z",
     "shell.execute_reply.started": "2024-07-09T19:44:21.637719Z"
    },
    "scrolled": true
   },
   "outputs": [
    {
     "data": {
      "text/plain": [
       "set()"
      ]
     },
     "execution_count": 16,
     "metadata": {},
     "output_type": "execute_result"
    }
   ],
   "source": [
    "nodes_missing = nodes_file - nodes_kuzu\n",
    "nodes_missing"
   ]
  },
  {
   "cell_type": "markdown",
   "id": "c2103e02-78ae-4088-88d8-42b8d207ea0e",
   "metadata": {},
   "source": [
    "### `Location` nodes"
   ]
  },
  {
   "cell_type": "code",
   "execution_count": 17,
   "id": "2d7f5aa9-84a2-407a-87aa-046dad537f67",
   "metadata": {
    "execution": {
     "iopub.execute_input": "2024-07-09T19:44:23.714113Z",
     "iopub.status.busy": "2024-07-09T19:44:23.713577Z",
     "iopub.status.idle": "2024-07-09T19:44:23.743635Z",
     "shell.execute_reply": "2024-07-09T19:44:23.743180Z",
     "shell.execute_reply.started": "2024-07-09T19:44:23.714086Z"
    }
   },
   "outputs": [],
   "source": [
    "conn.execute(\"\"\"\n",
    "  CREATE NODE TABLE Location (\n",
    "    node_id INT64,\n",
    "    address STRING,\n",
    "    name STRING,\n",
    "    countries STRING,\n",
    "    country_codes STRING,\n",
    "    sourceID STRING,\n",
    "    valid_until STRING,\n",
    "    note STRING,\n",
    "    PRIMARY KEY (node_id)\n",
    "  )\n",
    "\"\"\");"
   ]
  },
  {
   "cell_type": "code",
   "execution_count": 18,
   "id": "2972fd11-14c8-4fe2-987e-8ee135f016d2",
   "metadata": {
    "execution": {
     "iopub.execute_input": "2024-07-09T19:44:24.573059Z",
     "iopub.status.busy": "2024-07-09T19:44:24.572400Z",
     "iopub.status.idle": "2024-07-09T19:44:24.853494Z",
     "shell.execute_reply": "2024-07-09T19:44:24.853220Z",
     "shell.execute_reply.started": "2024-07-09T19:44:24.573016Z"
    }
   },
   "outputs": [],
   "source": [
    "conn.execute(\"\"\"\n",
    "    COPY Location FROM \"./temp/location.csv\" (header=true, escape='\"', parallel=False)\n",
    "\"\"\");"
   ]
  },
  {
   "cell_type": "code",
   "execution_count": 19,
   "id": "192020a0-702f-48bc-bc67-f0bcd6e7eb2b",
   "metadata": {
    "execution": {
     "iopub.execute_input": "2024-07-09T19:44:25.658987Z",
     "iopub.status.busy": "2024-07-09T19:44:25.658696Z",
     "iopub.status.idle": "2024-07-09T19:44:25.776102Z",
     "shell.execute_reply": "2024-07-09T19:44:25.775830Z",
     "shell.execute_reply.started": "2024-07-09T19:44:25.658968Z"
    },
    "scrolled": true
   },
   "outputs": [
    {
     "name": "stderr",
     "output_type": "stream",
     "text": [
      "ic| results.get_next(): [{'_id': {'offset': 0, 'table': 1},\n",
      "                          '_label': 'Location',\n",
      "                          'address': 'BEL ROYAL HOUSE; HILGROVE ST.; ST. HELIER; JERSEY; JE2 4SL C.I.',\n",
      "                          'countries': 'Jersey',\n",
      "                          'country_codes': 'JEY',\n",
      "                          'name': None,\n",
      "                          'node_id': 14030714,\n",
      "                          'note': None,\n",
      "                          'sourceID': 'Panama Papers',\n",
      "                          'valid_until': 'The Panama Papers  data is current through 2015'}]\n"
     ]
    }
   ],
   "source": [
    "results = conn.execute(\"\"\"\n",
    "  MATCH (n:Location)\n",
    "  RETURN *\n",
    "  LIMIT 1;\n",
    "\"\"\")\n",
    "\n",
    "while results.has_next():\n",
    "    ic(results.get_next())"
   ]
  },
  {
   "cell_type": "markdown",
   "id": "c4d81ebf-c548-4ad3-91e5-98cd52c9cd2c",
   "metadata": {},
   "source": [
    "### `RegisteredAddress` relations"
   ]
  },
  {
   "cell_type": "code",
   "execution_count": 20,
   "id": "c765d515-bcd0-4187-be7f-99aff3ba1a9c",
   "metadata": {
    "execution": {
     "iopub.execute_input": "2024-07-09T19:44:27.442155Z",
     "iopub.status.busy": "2024-07-09T19:44:27.441598Z",
     "iopub.status.idle": "2024-07-09T19:44:27.474091Z",
     "shell.execute_reply": "2024-07-09T19:44:27.473812Z",
     "shell.execute_reply.started": "2024-07-09T19:44:27.442117Z"
    }
   },
   "outputs": [],
   "source": [
    "conn.execute(\"\"\"\n",
    "  CREATE REL TABLE RegisteredAddress (FROM Entity TO Location,\n",
    "    link STRING,\n",
    "    status STRING,\n",
    "    start_date STRING,\n",
    "    end_date STRING,\n",
    "    sourceID STRING,\n",
    "    MANY_MANY\n",
    "  )\n",
    "\"\"\");"
   ]
  },
  {
   "cell_type": "code",
   "execution_count": 21,
   "id": "756965f8-9074-41d4-b969-54b1a2acaa5c",
   "metadata": {
    "execution": {
     "iopub.execute_input": "2024-07-09T19:44:29.042133Z",
     "iopub.status.busy": "2024-07-09T19:44:29.041595Z",
     "iopub.status.idle": "2024-07-09T19:44:29.268001Z",
     "shell.execute_reply": "2024-07-09T19:44:29.267726Z",
     "shell.execute_reply.started": "2024-07-09T19:44:29.042097Z"
    }
   },
   "outputs": [],
   "source": [
    "try:\n",
    "    conn.execute(\"\"\"\n",
    "        COPY RegisteredAddress FROM \"./temp/rel_regaddr.csv\" (header=true, escape='\"', parallel=False)\n",
    "    \"\"\");\n",
    "except Exception as ex:\n",
    "    ic(ex)\n",
    "    node_id = int(getattr(ex, \"message\", repr(ex)).split(\" \")[-1].strip(\".')\"))\n",
    "    ic(node_id, node_id in nodes_missing)"
   ]
  },
  {
   "cell_type": "markdown",
   "id": "313da68b-4d47-43d4-9e83-7862c6fe7cf5",
   "metadata": {},
   "source": [
    "### `OfficerOf` relations"
   ]
  },
  {
   "cell_type": "code",
   "execution_count": 22,
   "id": "3ea69a05-5a9c-4024-b6f8-d3b1163d55f1",
   "metadata": {
    "execution": {
     "iopub.execute_input": "2024-07-09T19:44:31.961254Z",
     "iopub.status.busy": "2024-07-09T19:44:31.960929Z",
     "iopub.status.idle": "2024-07-09T19:44:31.988558Z",
     "shell.execute_reply": "2024-07-09T19:44:31.988016Z",
     "shell.execute_reply.started": "2024-07-09T19:44:31.961229Z"
    }
   },
   "outputs": [],
   "source": [
    "conn.execute(\"\"\"\n",
    "  CREATE REL TABLE OfficerOf (FROM Entity TO Entity,\n",
    "    link STRING,\n",
    "    status STRING,\n",
    "    start_date STRING,\n",
    "    end_date STRING,\n",
    "    sourceID STRING,\n",
    "    MANY_MANY\n",
    "  )\n",
    "\"\"\");"
   ]
  },
  {
   "cell_type": "code",
   "execution_count": 23,
   "id": "0ffc9e58-2378-41a8-ba48-a9ecd640a2ef",
   "metadata": {
    "execution": {
     "iopub.execute_input": "2024-07-09T19:44:32.851482Z",
     "iopub.status.busy": "2024-07-09T19:44:32.850910Z",
     "iopub.status.idle": "2024-07-09T19:44:33.255544Z",
     "shell.execute_reply": "2024-07-09T19:44:33.255321Z",
     "shell.execute_reply.started": "2024-07-09T19:44:32.851449Z"
    }
   },
   "outputs": [],
   "source": [
    "try:\n",
    "    conn.execute(\"\"\"\n",
    "        COPY OfficerOf FROM \"./temp/rel_officer.csv\" (header=true, escape='\"', parallel=False)\n",
    "    \"\"\");\n",
    "except Exception as ex:\n",
    "    ic(ex)\n",
    "    node_id = int(getattr(ex, \"message\", repr(ex)).split(\" \")[-1].strip(\".')\"))\n",
    "    ic(node_id, node_id in nodes_missing)"
   ]
  },
  {
   "cell_type": "markdown",
   "id": "5b16b442-b403-48c5-a1f4-16350401a141",
   "metadata": {},
   "source": [
    "### `IntermediaryOf` relations"
   ]
  },
  {
   "cell_type": "code",
   "execution_count": 24,
   "id": "e4b3375b-4cdb-4962-bcff-b46f8b138e42",
   "metadata": {
    "execution": {
     "iopub.execute_input": "2024-07-09T19:44:34.689684Z",
     "iopub.status.busy": "2024-07-09T19:44:34.689187Z",
     "iopub.status.idle": "2024-07-09T19:44:34.720691Z",
     "shell.execute_reply": "2024-07-09T19:44:34.719969Z",
     "shell.execute_reply.started": "2024-07-09T19:44:34.689649Z"
    }
   },
   "outputs": [],
   "source": [
    "conn.execute(\"\"\"\n",
    "  CREATE REL TABLE IntermediaryOf (FROM Entity TO Entity,\n",
    "    link STRING,\n",
    "    status STRING,\n",
    "    start_date STRING,\n",
    "    end_date STRING,\n",
    "    sourceID STRING,\n",
    "    MANY_MANY\n",
    "  )\n",
    "\"\"\");"
   ]
  },
  {
   "cell_type": "code",
   "execution_count": 25,
   "id": "14666774-73bb-4f5e-90b7-e993dfb74fb4",
   "metadata": {
    "execution": {
     "iopub.execute_input": "2024-07-09T19:44:35.906377Z",
     "iopub.status.busy": "2024-07-09T19:44:35.905794Z",
     "iopub.status.idle": "2024-07-09T19:44:36.080592Z",
     "shell.execute_reply": "2024-07-09T19:44:36.080337Z",
     "shell.execute_reply.started": "2024-07-09T19:44:35.906340Z"
    }
   },
   "outputs": [],
   "source": [
    "try:\n",
    "    conn.execute(\"\"\"\n",
    "        COPY IntermediaryOf FROM \"./temp/rel_intermed.csv\" (header=true, escape='\"', parallel=False)\n",
    "    \"\"\");\n",
    "except Exception as ex:\n",
    "    ic(ex)\n",
    "    node_id = int(getattr(ex, \"message\", repr(ex)).split(\" \")[-1].strip(\".')\"))\n",
    "    ic(node_id, node_id in nodes_missing)"
   ]
  },
  {
   "cell_type": "markdown",
   "id": "c5f8267e-78b3-4a00-a9a6-b47a78d78bba",
   "metadata": {},
   "source": [
    "### `ConnectedTo` relations"
   ]
  },
  {
   "cell_type": "code",
   "execution_count": 26,
   "id": "f33c8edb-e32d-4cbd-8b50-697ead7de64f",
   "metadata": {
    "execution": {
     "iopub.execute_input": "2024-07-09T19:44:37.611636Z",
     "iopub.status.busy": "2024-07-09T19:44:37.611385Z",
     "iopub.status.idle": "2024-07-09T19:44:37.641760Z",
     "shell.execute_reply": "2024-07-09T19:44:37.641065Z",
     "shell.execute_reply.started": "2024-07-09T19:44:37.611620Z"
    }
   },
   "outputs": [],
   "source": [
    "conn.execute(\"\"\"\n",
    "  CREATE REL TABLE ConnectedTo (FROM Entity TO Entity,\n",
    "    link STRING,\n",
    "    status STRING,\n",
    "    start_date STRING,\n",
    "    end_date STRING,\n",
    "    sourceID STRING,\n",
    "    MANY_MANY\n",
    "  )\n",
    "\"\"\");"
   ]
  },
  {
   "cell_type": "code",
   "execution_count": 27,
   "id": "140bffd7-d9c8-4302-9189-cbc0fa3fe427",
   "metadata": {
    "execution": {
     "iopub.execute_input": "2024-07-09T19:44:38.639235Z",
     "iopub.status.busy": "2024-07-09T19:44:38.638814Z",
     "iopub.status.idle": "2024-07-09T19:44:39.954737Z",
     "shell.execute_reply": "2024-07-09T19:44:39.954478Z",
     "shell.execute_reply.started": "2024-07-09T19:44:38.639205Z"
    }
   },
   "outputs": [],
   "source": [
    "try:\n",
    "    conn.execute(\"\"\"\n",
    "        COPY OfficerOf FROM \"./temp/rel_connect.csv\" (header=true, escape='\"', parallel=False)\n",
    "    \"\"\");\n",
    "except Exception as ex:\n",
    "    ic(ex)\n",
    "    node_id = int(getattr(ex, \"message\", repr(ex)).split(\" \")[-1].strip(\".')\"))\n",
    "    ic(node_id, node_id in nodes_missing)"
   ]
  },
  {
   "cell_type": "markdown",
   "id": "f242175d-8234-4a42-b7f3-aa6f276d62c2",
   "metadata": {},
   "source": [
    "### `Underlying` relations"
   ]
  },
  {
   "cell_type": "code",
   "execution_count": 28,
   "id": "a35340ff-026e-4db5-bbf3-372912cc2bd5",
   "metadata": {
    "execution": {
     "iopub.execute_input": "2024-07-09T19:44:41.552037Z",
     "iopub.status.busy": "2024-07-09T19:44:41.551350Z",
     "iopub.status.idle": "2024-07-09T19:44:41.583226Z",
     "shell.execute_reply": "2024-07-09T19:44:41.582798Z",
     "shell.execute_reply.started": "2024-07-09T19:44:41.551994Z"
    }
   },
   "outputs": [],
   "source": [
    "conn.execute(\"\"\"\n",
    "  CREATE REL TABLE Underlying (FROM Entity TO Entity,\n",
    "    link STRING,\n",
    "    status STRING,\n",
    "    start_date STRING,\n",
    "    end_date STRING,\n",
    "    sourceID STRING,\n",
    "    MANY_MANY\n",
    "  )\n",
    "\"\"\");"
   ]
  },
  {
   "cell_type": "code",
   "execution_count": 29,
   "id": "348870c0-0db3-4e3d-9b95-8b4d6cc16f41",
   "metadata": {
    "execution": {
     "iopub.execute_input": "2024-07-09T19:44:43.416843Z",
     "iopub.status.busy": "2024-07-09T19:44:43.416345Z",
     "iopub.status.idle": "2024-07-09T19:44:43.471916Z",
     "shell.execute_reply": "2024-07-09T19:44:43.471490Z",
     "shell.execute_reply.started": "2024-07-09T19:44:43.416806Z"
    }
   },
   "outputs": [],
   "source": [
    "try:\n",
    "    conn.execute(\"\"\"\n",
    "        COPY Underlying FROM \"./temp/rel_underly.csv\" (header=true, escape='\"', parallel=False)\n",
    "    \"\"\");\n",
    "except Exception as ex:\n",
    "    ic(ex)\n",
    "    node_id = int(getattr(ex, \"message\", repr(ex)).split(\" \")[-1].strip(\".')\"))\n",
    "    ic(node_id, node_id in nodes_missing)"
   ]
  },
  {
   "cell_type": "markdown",
   "id": "de6fce0d-f304-49ed-b289-6a1108a9388e",
   "metadata": {},
   "source": [
    "### `AliasOfficer` relations"
   ]
  },
  {
   "cell_type": "code",
   "execution_count": 30,
   "id": "f4064c8c-a02f-4443-af94-7624706d1a9f",
   "metadata": {
    "execution": {
     "iopub.execute_input": "2024-07-09T19:44:46.059363Z",
     "iopub.status.busy": "2024-07-09T19:44:46.058719Z",
     "iopub.status.idle": "2024-07-09T19:44:46.085059Z",
     "shell.execute_reply": "2024-07-09T19:44:46.084551Z",
     "shell.execute_reply.started": "2024-07-09T19:44:46.059320Z"
    }
   },
   "outputs": [],
   "source": [
    "conn.execute(\"\"\"\n",
    "  CREATE REL TABLE AliasOfficer (FROM Entity TO Entity,\n",
    "    link STRING,\n",
    "    status STRING,\n",
    "    start_date STRING,\n",
    "    end_date STRING,\n",
    "    sourceID STRING,\n",
    "    MANY_MANY\n",
    "  )\n",
    "\"\"\");"
   ]
  },
  {
   "cell_type": "code",
   "execution_count": 31,
   "id": "6393bf8d-d8f5-4168-a0c3-7ba85a1b14e5",
   "metadata": {
    "execution": {
     "iopub.execute_input": "2024-07-09T19:44:48.456495Z",
     "iopub.status.busy": "2024-07-09T19:44:48.456085Z",
     "iopub.status.idle": "2024-07-09T19:44:48.515248Z",
     "shell.execute_reply": "2024-07-09T19:44:48.514948Z",
     "shell.execute_reply.started": "2024-07-09T19:44:48.456475Z"
    }
   },
   "outputs": [],
   "source": [
    "try:\n",
    "    conn.execute(\"\"\"\n",
    "        COPY AliasOfficer FROM \"./temp/rel_same_officer.csv\" (header=true, escape='\"', parallel=False)\n",
    "    \"\"\");\n",
    "except Exception as ex:\n",
    "    ic(ex)\n",
    "    node_id = int(getattr(ex, \"message\", repr(ex)).split(\" \")[-1].strip(\".')\"))\n",
    "    ic(node_id, node_id in nodes_missing)"
   ]
  },
  {
   "cell_type": "markdown",
   "id": "d75f5f7d-640a-464d-b4f6-7878ad8f84b8",
   "metadata": {},
   "source": [
    "### `AliasLocation` relations"
   ]
  },
  {
   "cell_type": "code",
   "execution_count": 32,
   "id": "d1f10b53-5b9a-4b9f-8819-6d189acfb764",
   "metadata": {
    "execution": {
     "iopub.execute_input": "2024-07-09T19:44:50.653140Z",
     "iopub.status.busy": "2024-07-09T19:44:50.652008Z",
     "iopub.status.idle": "2024-07-09T19:44:50.685229Z",
     "shell.execute_reply": "2024-07-09T19:44:50.684830Z",
     "shell.execute_reply.started": "2024-07-09T19:44:50.653084Z"
    }
   },
   "outputs": [],
   "source": [
    "conn.execute(\"\"\"\n",
    "  CREATE REL TABLE AliasLocation (FROM Location TO Location,\n",
    "    link STRING,\n",
    "    status STRING,\n",
    "    start_date STRING,\n",
    "    end_date STRING,\n",
    "    sourceID STRING,\n",
    "    MANY_MANY\n",
    "  )\n",
    "\"\"\");"
   ]
  },
  {
   "cell_type": "code",
   "execution_count": 33,
   "id": "48584dee-4522-4204-bcb9-4ee176e18dbe",
   "metadata": {
    "execution": {
     "iopub.execute_input": "2024-07-09T19:44:52.018943Z",
     "iopub.status.busy": "2024-07-09T19:44:52.018391Z",
     "iopub.status.idle": "2024-07-09T19:44:52.059116Z",
     "shell.execute_reply": "2024-07-09T19:44:52.058646Z",
     "shell.execute_reply.started": "2024-07-09T19:44:52.018907Z"
    }
   },
   "outputs": [],
   "source": [
    "try:\n",
    "    conn.execute(\"\"\"\n",
    "        COPY AliasLocation FROM \"./temp/rel_same_loc.csv\" (header=true, escape='\"', parallel=False)\n",
    "    \"\"\");\n",
    "except Exception as ex:\n",
    "    ic(ex)\n",
    "    node_id = int(getattr(ex, \"message\", repr(ex)).split(\" \")[-1].strip(\".')\"))\n",
    "    ic(node_id, node_id in nodes_missing)"
   ]
  }
 ],
 "metadata": {
  "kernelspec": {
   "display_name": "Python 3 (ipykernel)",
   "language": "python",
   "name": "python3"
  },
  "language_info": {
   "codemirror_mode": {
    "name": "ipython",
    "version": 3
   },
   "file_extension": ".py",
   "mimetype": "text/x-python",
   "name": "python",
   "nbconvert_exporter": "python",
   "pygments_lexer": "ipython3",
   "version": "3.11.9"
  }
 },
 "nbformat": 4,
 "nbformat_minor": 5
}
