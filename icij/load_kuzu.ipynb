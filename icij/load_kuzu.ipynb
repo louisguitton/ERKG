{
 "cells": [
  {
   "cell_type": "markdown",
   "id": "87d03950-26e3-4a01-906c-4fcae6b250d4",
   "metadata": {},
   "source": [
    "# ICIJ analysis: load KùzuDB"
   ]
  },
  {
   "cell_type": "markdown",
   "id": "8ff268dd-175c-4495-8c56-202c7b3553f7",
   "metadata": {},
   "source": [
    "## Set up"
   ]
  },
  {
   "cell_type": "markdown",
   "id": "a8f9008b-16dd-451a-8b65-fdb0cfc60422",
   "metadata": {},
   "source": [
    "Load the Python dependencies."
   ]
  },
  {
   "cell_type": "code",
   "execution_count": 1,
   "id": "8438a9b9-0008-4c03-a0b1-01052a16f39b",
   "metadata": {
    "execution": {
     "iopub.execute_input": "2024-07-08T16:09:18.429462Z",
     "iopub.status.busy": "2024-07-08T16:09:18.428986Z",
     "iopub.status.idle": "2024-07-08T16:09:18.742882Z",
     "shell.execute_reply": "2024-07-08T16:09:18.742057Z",
     "shell.execute_reply.started": "2024-07-08T16:09:18.429439Z"
    }
   },
   "outputs": [],
   "source": [
    "import pathlib\n",
    "import typing\n",
    "\n",
    "from icecream import ic\n",
    "import kuzu\n",
    "import pandas as pd\n",
    "import watermark\n",
    "\n",
    "%load_ext watermark"
   ]
  },
  {
   "cell_type": "code",
   "execution_count": 2,
   "id": "88148b53-7d00-4aa4-ad24-3ac35af0c958",
   "metadata": {
    "execution": {
     "iopub.execute_input": "2024-07-08T16:09:19.728766Z",
     "iopub.status.busy": "2024-07-08T16:09:19.728451Z",
     "iopub.status.idle": "2024-07-08T16:09:19.748707Z",
     "shell.execute_reply": "2024-07-08T16:09:19.748077Z",
     "shell.execute_reply.started": "2024-07-08T16:09:19.728733Z"
    }
   },
   "outputs": [
    {
     "name": "stdout",
     "output_type": "stream",
     "text": [
      "Last updated: 2024-07-08T09:09:19.730906-07:00\n",
      "\n",
      "Python implementation: CPython\n",
      "Python version       : 3.11.9\n",
      "IPython version      : 8.26.0\n",
      "\n",
      "Compiler    : Clang 13.0.0 (clang-1300.0.29.30)\n",
      "OS          : Darwin\n",
      "Release     : 23.5.0\n",
      "Machine     : arm64\n",
      "Processor   : arm\n",
      "CPU cores   : 14\n",
      "Architecture: 64bit\n",
      "\n",
      "kuzu     : 0.4.2\n",
      "watermark: 2.4.3\n",
      "pandas   : 2.2.2\n",
      "\n"
     ]
    }
   ],
   "source": [
    "%watermark\n",
    "%watermark --iversions"
   ]
  },
  {
   "cell_type": "markdown",
   "id": "cb9fcd10-bdd9-4b21-9062-0a808533da82",
   "metadata": {},
   "source": [
    "Create a KùzuDB database and establish a connection."
   ]
  },
  {
   "cell_type": "code",
   "execution_count": 3,
   "id": "faac2ff2-29d4-4a25-aefd-3d804177e2c7",
   "metadata": {
    "execution": {
     "iopub.execute_input": "2024-07-08T16:09:21.077532Z",
     "iopub.status.busy": "2024-07-08T16:09:21.076693Z",
     "iopub.status.idle": "2024-07-08T16:09:21.222630Z",
     "shell.execute_reply": "2024-07-08T16:09:21.221238Z",
     "shell.execute_reply.started": "2024-07-08T16:09:21.077470Z"
    }
   },
   "outputs": [],
   "source": [
    "!rm -rf ./demo"
   ]
  },
  {
   "cell_type": "code",
   "execution_count": 4,
   "id": "7eca743b-bae0-4210-b772-a2578dd50892",
   "metadata": {
    "execution": {
     "iopub.execute_input": "2024-07-08T16:09:21.740364Z",
     "iopub.status.busy": "2024-07-08T16:09:21.739804Z",
     "iopub.status.idle": "2024-07-08T16:09:21.768399Z",
     "shell.execute_reply": "2024-07-08T16:09:21.767872Z",
     "shell.execute_reply.started": "2024-07-08T16:09:21.740324Z"
    }
   },
   "outputs": [],
   "source": [
    "db: kuzu.database.Database = kuzu.Database(\"./demo\")\n",
    "conn: kuzu.database.Database = kuzu.Connection(db)"
   ]
  },
  {
   "cell_type": "code",
   "execution_count": 5,
   "id": "cbb6bccf-9651-4538-bd80-8e8fa80330f7",
   "metadata": {
    "execution": {
     "iopub.execute_input": "2024-07-08T16:09:22.651690Z",
     "iopub.status.busy": "2024-07-08T16:09:22.651370Z",
     "iopub.status.idle": "2024-07-08T16:09:22.655564Z",
     "shell.execute_reply": "2024-07-08T16:09:22.654527Z",
     "shell.execute_reply.started": "2024-07-08T16:09:22.651673Z"
    }
   },
   "outputs": [],
   "source": [
    "TEMP_DIR: pathlib.Path = pathlib.Path(\"temp\")"
   ]
  },
  {
   "cell_type": "markdown",
   "id": "b8d61437-4cf1-4545-8195-c3e0023b34ba",
   "metadata": {},
   "source": [
    "## Schema definitions"
   ]
  },
  {
   "cell_type": "markdown",
   "id": "fbba0309-c203-4c39-b118-708521bae591",
   "metadata": {},
   "source": [
    "### Entities"
   ]
  },
  {
   "cell_type": "markdown",
   "id": "0af027ea-fec3-4918-917b-bb7177247ab8",
   "metadata": {},
   "source": [
    "After iterating the first time through this analysis, we return to this point and redefine an `Entity` node structure which is a superset of the fields defined among all of the Entity-ish nodes in ICIJ.\n",
    "See <https://docs.google.com/spreadsheets/d/1eSelhXhix_DtTZuzR2vfl_UdQlEwbwql6NZxqrtROxk/edit?usp=sharing>"
   ]
  },
  {
   "cell_type": "code",
   "execution_count": 6,
   "id": "b01b884e-9286-4e28-9c04-afabcb460b6b",
   "metadata": {
    "execution": {
     "iopub.execute_input": "2024-07-08T16:09:26.653349Z",
     "iopub.status.busy": "2024-07-08T16:09:26.652767Z",
     "iopub.status.idle": "2024-07-08T16:09:26.683367Z",
     "shell.execute_reply": "2024-07-08T16:09:26.683014Z",
     "shell.execute_reply.started": "2024-07-08T16:09:26.653311Z"
    }
   },
   "outputs": [],
   "source": [
    "conn.execute(\"\"\"\n",
    "  CREATE NODE TABLE Entity (\n",
    "    node_id STRING,\n",
    "    role STRING,\n",
    "    name STRING,\n",
    "    original_name STRING,\n",
    "    former_name STRING,\n",
    "    jurisdiction STRING,\n",
    "    jurisdiction_description STRING,\n",
    "    company_type STRING,\n",
    "    address STRING,\n",
    "    internal_id STRING,\n",
    "    incorporation_date STRING,\n",
    "    inactivation_date STRING,\n",
    "    struck_off_date STRING,\n",
    "    dorm_date STRING,\n",
    "    status STRING,\n",
    "    service_provider STRING,\n",
    "    ibcRUC STRING,\n",
    "    country_codes STRING,\n",
    "    countries STRING,\n",
    "    sourceID STRING,\n",
    "    valid_until STRING,\n",
    "    note STRING,\n",
    "    vague BOOLEAN,\n",
    "    PRIMARY KEY (node_id)\n",
    "  )\n",
    "\"\"\");"
   ]
  },
  {
   "cell_type": "code",
   "execution_count": 7,
   "id": "a70d9883-8496-4326-9400-9c55afec486a",
   "metadata": {
    "execution": {
     "iopub.execute_input": "2024-07-08T16:09:27.819496Z",
     "iopub.status.busy": "2024-07-08T16:09:27.819127Z",
     "iopub.status.idle": "2024-07-08T16:09:28.794287Z",
     "shell.execute_reply": "2024-07-08T16:09:28.793912Z",
     "shell.execute_reply.started": "2024-07-08T16:09:27.819470Z"
    }
   },
   "outputs": [],
   "source": [
    "conn.execute(\"\"\"\n",
    "    COPY Entity FROM \"./temp/entity.1.csv\" (header=true, escape='\"', parallel=False)\n",
    "\"\"\");"
   ]
  },
  {
   "cell_type": "code",
   "execution_count": 8,
   "id": "5b2eaf1c-5fbb-4bcd-91d4-ae449b5df5e2",
   "metadata": {
    "execution": {
     "iopub.execute_input": "2024-07-08T16:09:29.483114Z",
     "iopub.status.busy": "2024-07-08T16:09:29.482725Z",
     "iopub.status.idle": "2024-07-08T16:09:30.254498Z",
     "shell.execute_reply": "2024-07-08T16:09:30.254200Z",
     "shell.execute_reply.started": "2024-07-08T16:09:29.483088Z"
    }
   },
   "outputs": [],
   "source": [
    "conn.execute(\"\"\"\n",
    "    COPY Entity FROM \"./temp/entity.2.csv\" (header=true, escape='\"', parallel=False)\n",
    "\"\"\");"
   ]
  },
  {
   "cell_type": "code",
   "execution_count": 9,
   "id": "94e74a79-99e3-4b43-acd9-60abb7a1cb85",
   "metadata": {
    "execution": {
     "iopub.execute_input": "2024-07-08T16:09:30.903361Z",
     "iopub.status.busy": "2024-07-08T16:09:30.903062Z",
     "iopub.status.idle": "2024-07-08T16:09:31.096071Z",
     "shell.execute_reply": "2024-07-08T16:09:31.095766Z",
     "shell.execute_reply.started": "2024-07-08T16:09:30.903344Z"
    }
   },
   "outputs": [],
   "source": [
    "conn.execute(\"\"\"\n",
    "    COPY Entity FROM \"./temp/entity.3.csv\" (header=true, escape='\"', parallel=False)\n",
    "\"\"\");"
   ]
  },
  {
   "cell_type": "code",
   "execution_count": 10,
   "id": "2b8edeb1-b0b3-435d-8a73-2d8cbe68a5c7",
   "metadata": {
    "execution": {
     "iopub.execute_input": "2024-07-08T16:09:31.797076Z",
     "iopub.status.busy": "2024-07-08T16:09:31.796782Z",
     "iopub.status.idle": "2024-07-08T16:09:31.879948Z",
     "shell.execute_reply": "2024-07-08T16:09:31.879588Z",
     "shell.execute_reply.started": "2024-07-08T16:09:31.797055Z"
    }
   },
   "outputs": [],
   "source": [
    "conn.execute(\"\"\"\n",
    "    COPY Entity FROM \"./temp/entity.4.csv\" (header=true, escape='\"', parallel=False)\n",
    "\"\"\");"
   ]
  },
  {
   "cell_type": "code",
   "execution_count": 11,
   "id": "812dff09-e42c-4490-951f-e190fd263649",
   "metadata": {
    "execution": {
     "iopub.execute_input": "2024-07-08T16:09:32.621905Z",
     "iopub.status.busy": "2024-07-08T16:09:32.621596Z",
     "iopub.status.idle": "2024-07-08T16:09:32.730076Z",
     "shell.execute_reply": "2024-07-08T16:09:32.729802Z",
     "shell.execute_reply.started": "2024-07-08T16:09:32.621883Z"
    }
   },
   "outputs": [
    {
     "name": "stderr",
     "output_type": "stream",
     "text": [
      "ic| results.get_next(): [{'_id': {'offset': 2048, 'table': 0},\n",
      "                          '_label': 'Entity',\n",
      "                          'address': 'ORION HOUSE SERVICES (HK) LIMITED ROOM 1401; 14/F.; WORLD '\n",
      "                                     'COMMERCE  CENTRE; HARBOUR CITY; 7-11 CANTON ROAD; TSIM SHA TSUI; '\n",
      "                                     'KOWLOON; HONG KONG',\n",
      "                          'company_type': None,\n",
      "                          'countries': 'Hong Kong',\n",
      "                          'country_codes': 'HKG',\n",
      "                          'dorm_date': None,\n",
      "                          'former_name': None,\n",
      "                          'ibcRUC': '2322195',\n",
      "                          'inactivation_date': None,\n",
      "                          'incorporation_date': '05-SEP-2014',\n",
      "                          'internal_id': '2003444.0',\n",
      "                          'jurisdiction': 'ANG',\n",
      "                          'jurisdiction_description': 'British Anguilla',\n",
      "                          'name': 'NINGBO HAIYAN INTERNATIONAL TRADING CO., LTD.',\n",
      "                          'node_id': '10012410',\n",
      "                          'note': None,\n",
      "                          'original_name': 'NINGBO HAIYAN INTERNATIONAL TRADING CO., LTD.',\n",
      "                          'role': 'Entity',\n",
      "                          'service_provider': 'Mossack Fonseca',\n",
      "                          'sourceID': 'Panama Papers',\n",
      "                          'status': 'Active',\n",
      "                          'struck_off_date': None,\n",
      "                          'vague': False,\n",
      "                          'valid_until': 'The Panama Papers data is current through 2015'}]\n"
     ]
    }
   ],
   "source": [
    "results = conn.execute(\"\"\"\n",
    "  MATCH (n:Entity)\n",
    "  RETURN *\n",
    "  LIMIT 1;\n",
    "\"\"\")\n",
    "\n",
    "while results.has_next():\n",
    "    ic(results.get_next())"
   ]
  },
  {
   "cell_type": "markdown",
   "id": "beeeb4bd-9bdb-4e0f-9329-41477f49e9b3",
   "metadata": {},
   "source": [
    "How many `Entity` nodes have been loaded?"
   ]
  },
  {
   "cell_type": "code",
   "execution_count": 12,
   "id": "7b0401ee-14ea-45d5-b321-ba12788e72b5",
   "metadata": {
    "execution": {
     "iopub.execute_input": "2024-07-08T16:09:34.861210Z",
     "iopub.status.busy": "2024-07-08T16:09:34.860889Z",
     "iopub.status.idle": "2024-07-08T16:09:34.878462Z",
     "shell.execute_reply": "2024-07-08T16:09:34.878067Z",
     "shell.execute_reply.started": "2024-07-08T16:09:34.861187Z"
    }
   },
   "outputs": [
    {
     "name": "stderr",
     "output_type": "stream",
     "text": [
      "ic| row[0]: 1613491\n"
     ]
    }
   ],
   "source": [
    "results = conn.execute(\"\"\"\n",
    "  MATCH (n:Entity)\n",
    "  RETURN COUNT(*)\n",
    "\"\"\")\n",
    "\n",
    "while results.has_next():\n",
    "    row = results.get_next()\n",
    "    ic(row[0])"
   ]
  },
  {
   "cell_type": "code",
   "execution_count": 13,
   "id": "a83519e2-3dc2-4d86-8131-46c2f81626a6",
   "metadata": {
    "execution": {
     "iopub.execute_input": "2024-07-08T16:09:35.745139Z",
     "iopub.status.busy": "2024-07-08T16:09:35.744785Z",
     "iopub.status.idle": "2024-07-08T16:09:36.274632Z",
     "shell.execute_reply": "2024-07-08T16:09:36.274238Z",
     "shell.execute_reply.started": "2024-07-08T16:09:35.745117Z"
    }
   },
   "outputs": [
    {
     "name": "stdout",
     "output_type": "stream",
     "text": [
      "  814617 temp/entity.1.csv\n",
      "  771369 temp/entity.2.csv\n",
      "   25636 temp/entity.3.csv\n",
      "    2990 temp/entity.4.csv\n",
      " 1614612 total\n"
     ]
    }
   ],
   "source": [
    "!wc -l temp/entity.*.csv"
   ]
  },
  {
   "cell_type": "markdown",
   "id": "8363ca1b-3ee3-4e51-b52c-92ae566b8f48",
   "metadata": {},
   "source": [
    "`(1614612-4)-1613491 = 1117` missing records?"
   ]
  },
  {
   "cell_type": "markdown",
   "id": "c2103e02-78ae-4088-88d8-42b8d207ea0e",
   "metadata": {},
   "source": [
    "### Registered Addresses"
   ]
  },
  {
   "cell_type": "code",
   "execution_count": 14,
   "id": "2d7f5aa9-84a2-407a-87aa-046dad537f67",
   "metadata": {
    "execution": {
     "iopub.execute_input": "2024-07-08T16:10:31.702002Z",
     "iopub.status.busy": "2024-07-08T16:10:31.701695Z",
     "iopub.status.idle": "2024-07-08T16:10:31.730235Z",
     "shell.execute_reply": "2024-07-08T16:10:31.729757Z",
     "shell.execute_reply.started": "2024-07-08T16:10:31.701979Z"
    }
   },
   "outputs": [],
   "source": [
    "conn.execute(\"\"\"\n",
    "  CREATE NODE TABLE Address (\n",
    "    node_id STRING,\n",
    "    address STRING,\n",
    "    name STRING,\n",
    "    countries STRING,\n",
    "    country_codes STRING,\n",
    "    sourceID STRING,\n",
    "    valid_until STRING,\n",
    "    note STRING,\n",
    "    PRIMARY KEY (node_id)\n",
    "  )\n",
    "\"\"\");"
   ]
  },
  {
   "cell_type": "code",
   "execution_count": 15,
   "id": "2972fd11-14c8-4fe2-987e-8ee135f016d2",
   "metadata": {
    "execution": {
     "iopub.execute_input": "2024-07-08T16:10:33.747990Z",
     "iopub.status.busy": "2024-07-08T16:10:33.747664Z",
     "iopub.status.idle": "2024-07-08T16:10:34.101551Z",
     "shell.execute_reply": "2024-07-08T16:10:34.101295Z",
     "shell.execute_reply.started": "2024-07-08T16:10:33.747972Z"
    }
   },
   "outputs": [],
   "source": [
    "conn.execute(\"\"\"\n",
    "    COPY Address FROM \"./temp/addr.csv\" (header=true, escape='\"', parallel=False)\n",
    "\"\"\");"
   ]
  },
  {
   "cell_type": "code",
   "execution_count": 16,
   "id": "192020a0-702f-48bc-bc67-f0bcd6e7eb2b",
   "metadata": {
    "execution": {
     "iopub.execute_input": "2024-07-08T16:10:36.787849Z",
     "iopub.status.busy": "2024-07-08T16:10:36.787501Z",
     "iopub.status.idle": "2024-07-08T16:10:36.835045Z",
     "shell.execute_reply": "2024-07-08T16:10:36.834744Z",
     "shell.execute_reply.started": "2024-07-08T16:10:36.787826Z"
    }
   },
   "outputs": [
    {
     "name": "stderr",
     "output_type": "stream",
     "text": [
      "ic| results.get_next(): [{'_id': {'offset': 4096, 'table': 1},\n",
      "                          '_label': 'Address',\n",
      "                          'address': 'NO.2 HUOYAOKU; GULOU DISTRICT; FUZHOU; FUJIAN; CHINA',\n",
      "                          'countries': 'China',\n",
      "                          'country_codes': 'CHN',\n",
      "                          'name': None,\n",
      "                          'node_id': '14055318',\n",
      "                          'note': None,\n",
      "                          'sourceID': 'Panama Papers',\n",
      "                          'valid_until': 'The Panama Papers  data is current through 2015'}]\n"
     ]
    }
   ],
   "source": [
    "results = conn.execute(\"\"\"\n",
    "  MATCH (n:Address)\n",
    "  RETURN *\n",
    "  LIMIT 1;\n",
    "\"\"\")\n",
    "\n",
    "while results.has_next():\n",
    "    ic(results.get_next())"
   ]
  },
  {
   "cell_type": "markdown",
   "id": "0ddfc99d-4af2-42b9-891f-b595c12257c6",
   "metadata": {},
   "source": [
    "## Connecting relations"
   ]
  },
  {
   "cell_type": "markdown",
   "id": "313da68b-4d47-43d4-9e83-7862c6fe7cf5",
   "metadata": {},
   "source": [
    "### OfficerOf"
   ]
  },
  {
   "cell_type": "code",
   "execution_count": 17,
   "id": "3ea69a05-5a9c-4024-b6f8-d3b1163d55f1",
   "metadata": {
    "execution": {
     "iopub.execute_input": "2024-07-08T16:10:39.540755Z",
     "iopub.status.busy": "2024-07-08T16:10:39.540444Z",
     "iopub.status.idle": "2024-07-08T16:10:39.549377Z",
     "shell.execute_reply": "2024-07-08T16:10:39.548560Z",
     "shell.execute_reply.started": "2024-07-08T16:10:39.540734Z"
    }
   },
   "outputs": [],
   "source": [
    "conn.execute(\"\"\"\n",
    "  CREATE REL TABLE OfficerOf (FROM Entity TO Entity,\n",
    "    link STRING,\n",
    "    status STRING,\n",
    "    start_date STRING,\n",
    "    end_date STRING,\n",
    "    sourceID STRING,\n",
    "    MANY_MANY\n",
    "  )\n",
    "\"\"\");"
   ]
  },
  {
   "cell_type": "code",
   "execution_count": 18,
   "id": "0ffc9e58-2378-41a8-ba48-a9ecd640a2ef",
   "metadata": {
    "execution": {
     "iopub.execute_input": "2024-07-08T16:10:40.462974Z",
     "iopub.status.busy": "2024-07-08T16:10:40.462532Z",
     "iopub.status.idle": "2024-07-08T16:10:40.533592Z",
     "shell.execute_reply": "2024-07-08T16:10:40.533012Z",
     "shell.execute_reply.started": "2024-07-08T16:10:40.462953Z"
    }
   },
   "outputs": [
    {
     "ename": "RuntimeError",
     "evalue": "Runtime exception: Unable to find primary key value 12008661.",
     "output_type": "error",
     "traceback": [
      "\u001b[0;31m---------------------------------------------------------------------------\u001b[0m",
      "\u001b[0;31mRuntimeError\u001b[0m                              Traceback (most recent call last)",
      "Cell \u001b[0;32mIn[18], line 1\u001b[0m\n\u001b[0;32m----> 1\u001b[0m \u001b[43mconn\u001b[49m\u001b[38;5;241;43m.\u001b[39;49m\u001b[43mexecute\u001b[49m\u001b[43m(\u001b[49m\u001b[38;5;124;43m\"\"\"\u001b[39;49m\n\u001b[1;32m      2\u001b[0m \u001b[38;5;124;43m    COPY OfficerOf FROM \u001b[39;49m\u001b[38;5;124;43m\"\u001b[39;49m\u001b[38;5;124;43m./temp/rel_officer.csv\u001b[39;49m\u001b[38;5;124;43m\"\u001b[39;49m\u001b[38;5;124;43m (header=true, escape=\u001b[39;49m\u001b[38;5;124;43m'\u001b[39;49m\u001b[38;5;124;43m\"\u001b[39;49m\u001b[38;5;124;43m'\u001b[39;49m\u001b[38;5;124;43m, parallel=False)\u001b[39;49m\n\u001b[1;32m      3\u001b[0m \u001b[38;5;124;43m\"\"\"\u001b[39;49m\u001b[43m)\u001b[49m;\n",
      "File \u001b[0;32m~/src/ERKG/icij/venv/lib/python3.11/site-packages/kuzu/connection.py:131\u001b[0m, in \u001b[0;36mConnection.execute\u001b[0;34m(self, query, parameters)\u001b[0m\n\u001b[1;32m    128\u001b[0m     \u001b[38;5;28;01mraise\u001b[39;00m \u001b[38;5;167;01mRuntimeError\u001b[39;00m(msg)  \u001b[38;5;66;03m# noqa: TRY004\u001b[39;00m\n\u001b[1;32m    130\u001b[0m \u001b[38;5;28;01mif\u001b[39;00m \u001b[38;5;28mlen\u001b[39m(parameters) \u001b[38;5;241m==\u001b[39m \u001b[38;5;241m0\u001b[39m:\n\u001b[0;32m--> 131\u001b[0m     _query_result \u001b[38;5;241m=\u001b[39m \u001b[38;5;28;43mself\u001b[39;49m\u001b[38;5;241;43m.\u001b[39;49m\u001b[43m_connection\u001b[49m\u001b[38;5;241;43m.\u001b[39;49m\u001b[43mquery\u001b[49m\u001b[43m(\u001b[49m\u001b[43mquery\u001b[49m\u001b[43m)\u001b[49m\n\u001b[1;32m    132\u001b[0m \u001b[38;5;28;01melse\u001b[39;00m:\n\u001b[1;32m    133\u001b[0m     prepared_statement \u001b[38;5;241m=\u001b[39m \u001b[38;5;28mself\u001b[39m\u001b[38;5;241m.\u001b[39mprepare(query) \u001b[38;5;28;01mif\u001b[39;00m \u001b[38;5;28misinstance\u001b[39m(query, \u001b[38;5;28mstr\u001b[39m) \u001b[38;5;28;01melse\u001b[39;00m query\n",
      "\u001b[0;31mRuntimeError\u001b[0m: Runtime exception: Unable to find primary key value 12008661."
     ]
    }
   ],
   "source": [
    "conn.execute(\"\"\"\n",
    "    COPY OfficerOf FROM \"./temp/rel_officer.csv\" (header=true, escape='\"', parallel=False)\n",
    "\"\"\");"
   ]
  },
  {
   "cell_type": "markdown",
   "id": "c4d81ebf-c548-4ad3-91e5-98cd52c9cd2c",
   "metadata": {},
   "source": [
    "### RegisteredAddress"
   ]
  },
  {
   "cell_type": "code",
   "execution_count": null,
   "id": "c765d515-bcd0-4187-be7f-99aff3ba1a9c",
   "metadata": {},
   "outputs": [],
   "source": [
    "conn.execute(\"\"\"\n",
    "  CREATE REL TABLE RegisteredAddress (FROM Entity TO Address,\n",
    "    link STRING,\n",
    "    status STRING,\n",
    "    start_date STRING,\n",
    "    end_date STRING,\n",
    "    sourceID STRING,\n",
    "    MANY_MANY\n",
    "  )\n",
    "\"\"\");"
   ]
  },
  {
   "cell_type": "code",
   "execution_count": null,
   "id": "756965f8-9074-41d4-b969-54b1a2acaa5c",
   "metadata": {},
   "outputs": [],
   "source": [
    "conn.execute(\n",
    "    \"COPY RegisteredAddress FROM (LOAD FROM df_todo RETURN *)\"\n",
    ");"
   ]
  }
 ],
 "metadata": {
  "kernelspec": {
   "display_name": "Python 3 (ipykernel)",
   "language": "python",
   "name": "python3"
  },
  "language_info": {
   "codemirror_mode": {
    "name": "ipython",
    "version": 3
   },
   "file_extension": ".py",
   "mimetype": "text/x-python",
   "name": "python",
   "nbconvert_exporter": "python",
   "pygments_lexer": "ipython3",
   "version": "3.11.9"
  }
 },
 "nbformat": 4,
 "nbformat_minor": 5
}
